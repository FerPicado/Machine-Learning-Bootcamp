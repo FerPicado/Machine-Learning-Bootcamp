{
  "nbformat": 4,
  "nbformat_minor": 0,
  "metadata": {
    "colab": {
      "provenance": []
    },
    "kernelspec": {
      "name": "python3",
      "display_name": "Python 3"
    },
    "language_info": {
      "name": "python"
    },
    "accelerator": "GPU",
    "gpuClass": "standard"
  },
  "cells": [
    {
      "cell_type": "markdown",
      "source": [
        "## PyTorch Course!\n",
        "Resource Notebook: https://www.learnpytorch.io/00_pytorch_fundamentals/\n"
      ],
      "metadata": {
        "id": "mxJadwO_91n5"
      }
    },
    {
      "cell_type": "code",
      "execution_count": null,
      "metadata": {
        "colab": {
          "base_uri": "https://localhost:8080/"
        },
        "id": "yhx1xJAy9Olg",
        "outputId": "f2d81b01-1219-4edc-b5c6-e594132cf082"
      },
      "outputs": [
        {
          "output_type": "stream",
          "name": "stdout",
          "text": [
            "Hello I'm exiting to learn PyTorch! \n"
          ]
        }
      ],
      "source": [
        "print(\"Hello I'm exiting to learn PyTorch! \")"
      ]
    },
    {
      "cell_type": "code",
      "source": [
        "!nvidia-smi"
      ],
      "metadata": {
        "colab": {
          "base_uri": "https://localhost:8080/"
        },
        "id": "9Lai_BCx9hrM",
        "outputId": "68650c96-6111-4a30-d421-d152dbb6f9dd"
      },
      "execution_count": null,
      "outputs": [
        {
          "output_type": "stream",
          "name": "stdout",
          "text": [
            "Thu Mar 23 05:40:21 2023       \n",
            "+-----------------------------------------------------------------------------+\n",
            "| NVIDIA-SMI 525.85.12    Driver Version: 525.85.12    CUDA Version: 12.0     |\n",
            "|-------------------------------+----------------------+----------------------+\n",
            "| GPU  Name        Persistence-M| Bus-Id        Disp.A | Volatile Uncorr. ECC |\n",
            "| Fan  Temp  Perf  Pwr:Usage/Cap|         Memory-Usage | GPU-Util  Compute M. |\n",
            "|                               |                      |               MIG M. |\n",
            "|===============================+======================+======================|\n",
            "|   0  Tesla T4            Off  | 00000000:00:04.0 Off |                    0 |\n",
            "| N/A   58C    P0    27W /  70W |      0MiB / 15360MiB |      0%      Default |\n",
            "|                               |                      |                  N/A |\n",
            "+-------------------------------+----------------------+----------------------+\n",
            "                                                                               \n",
            "+-----------------------------------------------------------------------------+\n",
            "| Processes:                                                                  |\n",
            "|  GPU   GI   CI        PID   Type   Process name                  GPU Memory |\n",
            "|        ID   ID                                                   Usage      |\n",
            "|=============================================================================|\n",
            "|  No running processes found                                                 |\n",
            "+-----------------------------------------------------------------------------+\n"
          ]
        }
      ]
    },
    {
      "cell_type": "code",
      "source": [
        "import pandas as pd\n",
        "import numpy as np\n",
        "import torch\n",
        "import matplotlib.pyplot as plt\n",
        "\n",
        "# PyTorch version:\n",
        "print(torch.__version__)"
      ],
      "metadata": {
        "colab": {
          "base_uri": "https://localhost:8080/"
        },
        "id": "UCp-X5ni-3ve",
        "outputId": "d21a7a2d-3653-467b-e66f-8aa1b5c04cad"
      },
      "execution_count": null,
      "outputs": [
        {
          "output_type": "stream",
          "name": "stdout",
          "text": [
            "1.13.1+cu116\n"
          ]
        }
      ]
    },
    {
      "cell_type": "markdown",
      "source": [
        "## Introduction to tensors\n",
        "\n",
        "Creating tensors:"
      ],
      "metadata": {
        "id": "AKTGk7H7BhhG"
      }
    },
    {
      "cell_type": "code",
      "source": [
        "scalar = torch.tensor(7)\n",
        "scalar"
      ],
      "metadata": {
        "colab": {
          "base_uri": "https://localhost:8080/"
        },
        "id": "J3b6rC_nBqYo",
        "outputId": "611955cc-d0c2-4dae-b565-c48aee7f093f"
      },
      "execution_count": null,
      "outputs": [
        {
          "output_type": "execute_result",
          "data": {
            "text/plain": [
              "tensor(7)"
            ]
          },
          "metadata": {},
          "execution_count": 2
        }
      ]
    },
    {
      "cell_type": "code",
      "source": [
        "scalar.ndim"
      ],
      "metadata": {
        "colab": {
          "base_uri": "https://localhost:8080/"
        },
        "id": "7KW00eS1CPf3",
        "outputId": "d56b8b84-c2a6-4440-debb-228e3b6b4dc1"
      },
      "execution_count": null,
      "outputs": [
        {
          "output_type": "execute_result",
          "data": {
            "text/plain": [
              "0"
            ]
          },
          "metadata": {},
          "execution_count": 5
        }
      ]
    },
    {
      "cell_type": "code",
      "source": [
        "# get tensor back as Python int\n",
        "scalar.item()"
      ],
      "metadata": {
        "colab": {
          "base_uri": "https://localhost:8080/"
        },
        "id": "vZVMq-KLCiP2",
        "outputId": "20d77681-0a9c-4b19-d3cf-be727a988936"
      },
      "execution_count": null,
      "outputs": [
        {
          "output_type": "execute_result",
          "data": {
            "text/plain": [
              "7"
            ]
          },
          "metadata": {},
          "execution_count": 6
        }
      ]
    },
    {
      "cell_type": "code",
      "source": [
        "vector = torch.tensor([7,7])\n",
        "vector.ndim\n",
        "vector"
      ],
      "metadata": {
        "colab": {
          "base_uri": "https://localhost:8080/"
        },
        "id": "Z3bMFfrWCr2e",
        "outputId": "60ca94f8-e551-4950-f62b-9fd2e2da45d5"
      },
      "execution_count": null,
      "outputs": [
        {
          "output_type": "execute_result",
          "data": {
            "text/plain": [
              "tensor([7, 7])"
            ]
          },
          "metadata": {},
          "execution_count": 8
        }
      ]
    },
    {
      "cell_type": "markdown",
      "source": [
        "## Day 2\n",
        "PyTorch Introduction...."
      ],
      "metadata": {
        "id": "-Mk1ap1lS7_o"
      }
    },
    {
      "cell_type": "code",
      "source": [
        "# MATRIX\n",
        "\n",
        "MATRIX = torch.tensor([[5,1,2,3,4],\n",
        "          [4,5,6,7,8]])\n",
        "MATRIX"
      ],
      "metadata": {
        "colab": {
          "base_uri": "https://localhost:8080/"
        },
        "id": "CZ5MrYvUFg21",
        "outputId": "5121c1ef-bb40-4013-91a8-1d58ab926a36"
      },
      "execution_count": null,
      "outputs": [
        {
          "output_type": "execute_result",
          "data": {
            "text/plain": [
              "tensor([[5, 1, 2, 3, 4],\n",
              "        [4, 5, 6, 7, 8]])"
            ]
          },
          "metadata": {},
          "execution_count": 20
        }
      ]
    },
    {
      "cell_type": "code",
      "source": [
        "MATRIX.ndim\n",
        "MATRIX[0], MATRIX[1]"
      ],
      "metadata": {
        "colab": {
          "base_uri": "https://localhost:8080/"
        },
        "id": "xHDVhH8gF45i",
        "outputId": "825827a2-6719-48a8-90b1-92e5eaaf240e"
      },
      "execution_count": null,
      "outputs": [
        {
          "output_type": "execute_result",
          "data": {
            "text/plain": [
              "(tensor([1, 2, 3]), tensor([4, 5, 6]))"
            ]
          },
          "metadata": {},
          "execution_count": 10
        }
      ]
    },
    {
      "cell_type": "code",
      "source": [
        "MATRIX.shape"
      ],
      "metadata": {
        "colab": {
          "base_uri": "https://localhost:8080/"
        },
        "id": "MoFfs8AwGQ8R",
        "outputId": "c4fee315-bb58-49df-d5b6-f0f915741a38"
      },
      "execution_count": null,
      "outputs": [
        {
          "output_type": "execute_result",
          "data": {
            "text/plain": [
              "torch.Size([2, 5])"
            ]
          },
          "metadata": {},
          "execution_count": 22
        }
      ]
    },
    {
      "cell_type": "code",
      "source": [
        "# Tensor\n",
        "\n",
        "TENSOR = torch.tensor([[[1,2,3,4,5,6],\n",
        "                        [5,7,8,7,3,7],\n",
        "                        [8,3,5,2,0,9]]])\n",
        "TENSOR.ndim"
      ],
      "metadata": {
        "colab": {
          "base_uri": "https://localhost:8080/"
        },
        "id": "bbNMZN_IHHqA",
        "outputId": "55d6507d-4d4e-4243-f190-f97a66bfbeb0"
      },
      "execution_count": null,
      "outputs": [
        {
          "output_type": "execute_result",
          "data": {
            "text/plain": [
              "3"
            ]
          },
          "metadata": {},
          "execution_count": 29
        }
      ]
    },
    {
      "cell_type": "code",
      "source": [
        "TENSOR.shape"
      ],
      "metadata": {
        "colab": {
          "base_uri": "https://localhost:8080/"
        },
        "id": "2R4FjKBhIBMT",
        "outputId": "3625ccde-394e-498b-b1ff-5fbe490da042"
      },
      "execution_count": null,
      "outputs": [
        {
          "output_type": "execute_result",
          "data": {
            "text/plain": [
              "torch.Size([1, 3, 6])"
            ]
          },
          "metadata": {},
          "execution_count": 31
        }
      ]
    },
    {
      "cell_type": "code",
      "source": [
        "TENSOR[0]\n"
      ],
      "metadata": {
        "colab": {
          "base_uri": "https://localhost:8080/"
        },
        "id": "gXWTnUMZIQfL",
        "outputId": "70b74f59-9e71-4b41-a941-68bab80899d8"
      },
      "execution_count": null,
      "outputs": [
        {
          "output_type": "execute_result",
          "data": {
            "text/plain": [
              "tensor([[1, 2, 3, 4, 5, 6],\n",
              "        [5, 7, 8, 7, 3, 7],\n",
              "        [8, 3, 5, 2, 0, 9]])"
            ]
          },
          "metadata": {},
          "execution_count": 37
        }
      ]
    },
    {
      "cell_type": "markdown",
      "source": [
        "# RANDOM TENSORS\n",
        "# Returns a tensor filled with random numbers from a uniform distribution on the interval [0,1)\n",
        "# The shape of the tensor is defined by the variable argument size."
      ],
      "metadata": {
        "id": "Jul7b2YQQqDo"
      }
    },
    {
      "cell_type": "code",
      "source": [
        "RANDOM_TENSOR = torch.rand(5,10, 5)\n",
        "RANDOM_TENSOR"
      ],
      "metadata": {
        "colab": {
          "base_uri": "https://localhost:8080/"
        },
        "id": "BytX4M8XOFa5",
        "outputId": "fdaa24b5-81da-4971-9e32-f47eefbb797b"
      },
      "execution_count": null,
      "outputs": [
        {
          "output_type": "execute_result",
          "data": {
            "text/plain": [
              "tensor([[[0.2110, 0.1294, 0.7416, 0.2935, 0.0167],\n",
              "         [0.5266, 0.3029, 0.6070, 0.2515, 0.4045],\n",
              "         [0.6868, 0.4292, 0.0589, 0.1996, 0.8117],\n",
              "         [0.2645, 0.2473, 0.1408, 0.8943, 0.9829],\n",
              "         [0.3956, 0.1505, 0.0870, 0.7689, 0.2781],\n",
              "         [0.7377, 0.9142, 0.5835, 0.0819, 0.7838],\n",
              "         [0.0102, 0.7266, 0.2454, 0.2045, 0.9860],\n",
              "         [0.0551, 0.7294, 0.3099, 0.3313, 0.5396],\n",
              "         [0.8539, 0.7754, 0.8854, 0.5779, 0.0787],\n",
              "         [0.1488, 0.9642, 0.5309, 0.0190, 0.6183]],\n",
              "\n",
              "        [[0.4652, 0.1891, 0.7688, 0.0021, 0.5227],\n",
              "         [0.3533, 0.3259, 0.2196, 0.4993, 0.5323],\n",
              "         [0.9153, 0.9921, 0.0619, 0.5097, 0.7680],\n",
              "         [0.6596, 0.2701, 0.9094, 0.5434, 0.0236],\n",
              "         [0.1677, 0.9447, 0.7773, 0.4957, 0.6259],\n",
              "         [0.5744, 0.0876, 0.5252, 0.4213, 0.7925],\n",
              "         [0.5267, 0.6855, 0.6362, 0.0227, 0.9596],\n",
              "         [0.2732, 0.6118, 0.7680, 0.2220, 0.9927],\n",
              "         [0.3356, 0.3887, 0.8502, 0.2665, 0.2219],\n",
              "         [0.8008, 0.2663, 0.6716, 0.5999, 0.1297]],\n",
              "\n",
              "        [[0.1432, 0.5611, 0.4438, 0.4031, 0.6896],\n",
              "         [0.1478, 0.4118, 0.7320, 0.6137, 0.5153],\n",
              "         [0.1266, 0.1771, 0.6055, 0.0430, 0.3745],\n",
              "         [0.0479, 0.7728, 0.6685, 0.8335, 0.6899],\n",
              "         [0.7631, 0.7981, 0.1586, 0.5590, 0.1270],\n",
              "         [0.3922, 0.8968, 0.3922, 0.0583, 0.8413],\n",
              "         [0.7462, 0.3220, 0.4040, 0.3337, 0.7118],\n",
              "         [0.7704, 0.6750, 0.3464, 0.6536, 0.9684],\n",
              "         [0.6080, 0.3823, 0.7042, 0.4742, 0.6260],\n",
              "         [0.9563, 0.5757, 0.9512, 0.5903, 0.0597]],\n",
              "\n",
              "        [[0.2312, 0.9094, 0.9105, 0.4070, 0.9389],\n",
              "         [0.1858, 0.0444, 0.5108, 0.0322, 0.5472],\n",
              "         [0.9463, 0.6178, 0.7570, 0.6200, 0.0210],\n",
              "         [0.8184, 0.3202, 0.2226, 0.6750, 0.8904],\n",
              "         [1.0000, 0.7715, 0.6528, 0.8509, 0.6734],\n",
              "         [0.0909, 0.5769, 0.3263, 0.3845, 0.5778],\n",
              "         [0.6857, 0.6172, 0.8383, 0.6073, 0.7583],\n",
              "         [0.1815, 0.2682, 0.7469, 0.2139, 0.4911],\n",
              "         [0.3133, 0.1473, 0.3035, 0.1754, 0.5031],\n",
              "         [0.1206, 0.0290, 0.1857, 0.1551, 0.1960]],\n",
              "\n",
              "        [[0.6641, 0.9762, 0.3648, 0.0405, 0.7862],\n",
              "         [0.3218, 0.4203, 0.5168, 0.7550, 0.3204],\n",
              "         [0.7159, 0.6375, 0.9187, 0.8071, 0.8699],\n",
              "         [0.2438, 0.3984, 0.4067, 0.6695, 0.9683],\n",
              "         [0.8943, 0.5057, 0.2647, 0.5753, 0.1310],\n",
              "         [0.4934, 0.2682, 0.5645, 0.1083, 0.6039],\n",
              "         [0.3751, 0.9115, 0.3907, 0.5112, 0.4970],\n",
              "         [0.1622, 0.8088, 0.6710, 0.5001, 0.9127],\n",
              "         [0.5589, 0.5843, 0.3477, 0.8376, 0.0153],\n",
              "         [0.6576, 0.2827, 0.9522, 0.3355, 0.4478]]])"
            ]
          },
          "metadata": {},
          "execution_count": 41
        }
      ]
    },
    {
      "cell_type": "code",
      "source": [
        "RANDOM_TENSOR.shape"
      ],
      "metadata": {
        "colab": {
          "base_uri": "https://localhost:8080/"
        },
        "id": "i_apPYOwQ_7Q",
        "outputId": "13a0d2aa-61ed-4236-cae5-205b5952c33e"
      },
      "execution_count": null,
      "outputs": [
        {
          "output_type": "execute_result",
          "data": {
            "text/plain": [
              "torch.Size([5, 10, 5])"
            ]
          },
          "metadata": {},
          "execution_count": 45
        }
      ]
    },
    {
      "cell_type": "code",
      "source": [
        "# random tensor ith similar shapeto an image:\n",
        "\n",
        "random_image_size_tensor = torch.rand(size=(224,224,3)) #height, idth, colour channel (RGB)\n",
        "random_image_size_tensor.shape, random_image_size_tensor.ndim"
      ],
      "metadata": {
        "colab": {
          "base_uri": "https://localhost:8080/"
        },
        "id": "w9gxLNDRSmpE",
        "outputId": "51151789-c7ca-49c0-c730-5295fdefddec"
      },
      "execution_count": null,
      "outputs": [
        {
          "output_type": "execute_result",
          "data": {
            "text/plain": [
              "(torch.Size([224, 224, 3]), 3)"
            ]
          },
          "metadata": {},
          "execution_count": 48
        }
      ]
    },
    {
      "cell_type": "code",
      "source": [
        "# Zeros and ones\n",
        "\n",
        "zeros = torch.zeros(3,4)\n",
        "zeros"
      ],
      "metadata": {
        "colab": {
          "base_uri": "https://localhost:8080/"
        },
        "id": "HqH3SkO3UdgU",
        "outputId": "c42b5b2c-3a9a-4a01-a1d2-dd1a977036fc"
      },
      "execution_count": null,
      "outputs": [
        {
          "output_type": "execute_result",
          "data": {
            "text/plain": [
              "tensor([[0., 0., 0., 0.],\n",
              "        [0., 0., 0., 0.],\n",
              "        [0., 0., 0., 0.]])"
            ]
          },
          "metadata": {},
          "execution_count": 50
        }
      ]
    },
    {
      "cell_type": "code",
      "source": [
        "ones = torch.ones(size=(3,4))\n",
        "ones  "
      ],
      "metadata": {
        "colab": {
          "base_uri": "https://localhost:8080/"
        },
        "id": "fMbUZ1vLU98I",
        "outputId": "bf33d8d2-1048-4e79-d39e-7437e7a4b017"
      },
      "execution_count": null,
      "outputs": [
        {
          "output_type": "execute_result",
          "data": {
            "text/plain": [
              "tensor([[1., 1., 1., 1.],\n",
              "        [1., 1., 1., 1.],\n",
              "        [1., 1., 1., 1.]])"
            ]
          },
          "metadata": {},
          "execution_count": 53
        }
      ]
    },
    {
      "cell_type": "code",
      "source": [
        "zeros.dtype, ones.dtype"
      ],
      "metadata": {
        "colab": {
          "base_uri": "https://localhost:8080/"
        },
        "id": "Sc-OMZnKVE8A",
        "outputId": "9edcab08-c9a0-4a19-8794-5a8490a4a53d"
      },
      "execution_count": null,
      "outputs": [
        {
          "output_type": "execute_result",
          "data": {
            "text/plain": [
              "(torch.float32, torch.float32)"
            ]
          },
          "metadata": {},
          "execution_count": 62
        }
      ]
    },
    {
      "cell_type": "code",
      "source": [
        "# Creating a range of tensors\n",
        "\n",
        "ts = torch.range(0,11)\n",
        "ts"
      ],
      "metadata": {
        "colab": {
          "base_uri": "https://localhost:8080/"
        },
        "id": "0_HeGMnsV6n0",
        "outputId": "9053c29a-71c0-40c4-eeb6-1a86618cfd1e"
      },
      "execution_count": null,
      "outputs": [
        {
          "output_type": "stream",
          "name": "stderr",
          "text": [
            "<ipython-input-66-1657591299c8>:3: UserWarning: torch.range is deprecated and will be removed in a future release because its behavior is inconsistent with Python's range builtin. Instead, use torch.arange, which produces values in [start, end).\n",
            "  ts = torch.range(0,11)\n"
          ]
        },
        {
          "output_type": "execute_result",
          "data": {
            "text/plain": [
              "tensor([ 0.,  1.,  2.,  3.,  4.,  5.,  6.,  7.,  8.,  9., 10., 11.])"
            ]
          },
          "metadata": {},
          "execution_count": 66
        }
      ]
    },
    {
      "cell_type": "code",
      "source": [
        "# Using arange:\n",
        "import torch\n",
        "\n",
        "arange_tensor = torch.arange(start=10, end=1000, step=100)\n",
        "arange_tensor"
      ],
      "metadata": {
        "colab": {
          "base_uri": "https://localhost:8080/"
        },
        "id": "hh2eK9g2XA9w",
        "outputId": "8b227f97-0d61-4dd0-969f-e6bf41bf89b4"
      },
      "execution_count": 14,
      "outputs": [
        {
          "output_type": "execute_result",
          "data": {
            "text/plain": [
              "tensor([ 10, 110, 210, 310, 410, 510, 610, 710, 810, 910])"
            ]
          },
          "metadata": {},
          "execution_count": 14
        }
      ]
    },
    {
      "cell_type": "code",
      "source": [
        "arange_tensor_2 = torch.arange(10, 1000, 100)\n",
        "arange_tensor_2"
      ],
      "metadata": {
        "colab": {
          "base_uri": "https://localhost:8080/"
        },
        "id": "moxNj-b6XRG3",
        "outputId": "6f64f14b-a9f8-4a53-a5d3-249a37dc6c81"
      },
      "execution_count": 15,
      "outputs": [
        {
          "output_type": "execute_result",
          "data": {
            "text/plain": [
              "tensor([ 10, 110, 210, 310, 410, 510, 610, 710, 810, 910])"
            ]
          },
          "metadata": {},
          "execution_count": 15
        }
      ]
    },
    {
      "cell_type": "code",
      "source": [
        "# tensors like:\n",
        "\n",
        "ts_like = torch.ones_like(arange_tensor)\n",
        "ts_like"
      ],
      "metadata": {
        "colab": {
          "base_uri": "https://localhost:8080/"
        },
        "id": "KJ0Ue1WMYOOQ",
        "outputId": "022f24bc-4808-459f-aace-dc9c80147372"
      },
      "execution_count": 16,
      "outputs": [
        {
          "output_type": "execute_result",
          "data": {
            "text/plain": [
              "tensor([1, 1, 1, 1, 1, 1, 1, 1, 1, 1])"
            ]
          },
          "metadata": {},
          "execution_count": 16
        }
      ]
    },
    {
      "cell_type": "markdown",
      "source": [
        "### **Tensor datatypes**"
      ],
      "metadata": {
        "id": "Sd2Z_UvEY3zK"
      }
    },
    {
      "cell_type": "code",
      "source": [
        "# float 32 tensor:\n",
        "\n",
        "tensor_float_32 = torch.tensor([3.0, 6.0, 9.0],\n",
        "                               dtype=torch.float16,\n",
        "                               device=None,\n",
        "                               requires_grad=False)\n",
        "tensor_float_32.dtype"
      ],
      "metadata": {
        "colab": {
          "base_uri": "https://localhost:8080/"
        },
        "id": "nxeIq5TvY3SB",
        "outputId": "9cc6d24b-8ab6-40fb-cab6-1cb35161a53b"
      },
      "execution_count": 26,
      "outputs": [
        {
          "output_type": "execute_result",
          "data": {
            "text/plain": [
              "torch.float16"
            ]
          },
          "metadata": {},
          "execution_count": 26
        }
      ]
    },
    {
      "cell_type": "code",
      "source": [
        "float_16_tensor = tensor_float_32.type(torch.float32)\n",
        "float_16_tensor.dtype "
      ],
      "metadata": {
        "colab": {
          "base_uri": "https://localhost:8080/"
        },
        "id": "ZXRnALlPZ2Gj",
        "outputId": "05534bdd-9433-4d85-9033-ec0d4b7972f0"
      },
      "execution_count": 27,
      "outputs": [
        {
          "output_type": "execute_result",
          "data": {
            "text/plain": [
              "torch.float32"
            ]
          },
          "metadata": {},
          "execution_count": 27
        }
      ]
    },
    {
      "cell_type": "code",
      "source": [
        "tensor_float_32 * float_16_tensor"
      ],
      "metadata": {
        "colab": {
          "base_uri": "https://localhost:8080/"
        },
        "id": "e8MC9dTLacx1",
        "outputId": "77751024-cfc4-436b-9d96-0c0499566ae8"
      },
      "execution_count": 29,
      "outputs": [
        {
          "output_type": "execute_result",
          "data": {
            "text/plain": [
              "tensor([ 9., 36., 81.])"
            ]
          },
          "metadata": {},
          "execution_count": 29
        }
      ]
    },
    {
      "cell_type": "code",
      "source": [
        "int_32_tensor = torch.tensor([3,6,9], dtype=torch.int32)\n",
        "int_32_tensor"
      ],
      "metadata": {
        "colab": {
          "base_uri": "https://localhost:8080/"
        },
        "id": "uMlsP-q1a-7t",
        "outputId": "ba690686-937c-4ffe-a7d3-50116afc45ee"
      },
      "execution_count": 32,
      "outputs": [
        {
          "output_type": "execute_result",
          "data": {
            "text/plain": [
              "tensor([3, 6, 9], dtype=torch.int32)"
            ]
          },
          "metadata": {},
          "execution_count": 32
        }
      ]
    },
    {
      "cell_type": "markdown",
      "source": [
        "####  Getting tensor atributtes:\n"
      ],
      "metadata": {
        "id": "eZzjOM5ccg1u"
      }
    },
    {
      "cell_type": "code",
      "source": [
        "rand_tensor = torch.rand(4, 7,\n",
        "                         device=\"cuda\")\n",
        "rand_tensor"
      ],
      "metadata": {
        "colab": {
          "base_uri": "https://localhost:8080/"
        },
        "id": "hqLD6S7BclIB",
        "outputId": "57dfddfc-8aad-48b2-b02d-07a8bc6e147f"
      },
      "execution_count": 50,
      "outputs": [
        {
          "output_type": "execute_result",
          "data": {
            "text/plain": [
              "tensor([[0.7657, 0.9218, 0.9538, 0.7125, 0.6773, 0.0522, 0.8498],\n",
              "        [0.0381, 0.7919, 0.3175, 0.1059, 0.8655, 0.2447, 0.3714],\n",
              "        [0.0062, 0.5135, 0.2185, 0.6818, 0.0920, 0.1572, 0.1273],\n",
              "        [0.8352, 0.8984, 0.5437, 0.0707, 0.0679, 0.0698, 0.0243]],\n",
              "       device='cuda:0')"
            ]
          },
          "metadata": {},
          "execution_count": 50
        }
      ]
    },
    {
      "cell_type": "code",
      "source": [
        "rand_tensor.size(), rand_tensor.dtype"
      ],
      "metadata": {
        "colab": {
          "base_uri": "https://localhost:8080/"
        },
        "id": "jKVrMczAc_eu",
        "outputId": "16cfc359-6fce-44fc-ce7c-132889f97ed1"
      },
      "execution_count": 36,
      "outputs": [
        {
          "output_type": "execute_result",
          "data": {
            "text/plain": [
              "(torch.Size([4, 7]), torch.float32)"
            ]
          },
          "metadata": {},
          "execution_count": 36
        }
      ]
    },
    {
      "cell_type": "code",
      "source": [
        "# details:\n",
        "import subprocess\n",
        "def tensor_info(tensor):\n",
        "\n",
        "  print(tensor)\n",
        "  print(f\"Tensor datatype -> {tensor.dtype}\")\n",
        "  print(f\"Shape[size] of Tensor -> {tensor.size()}\")\n",
        "  print(f\"Shape of Tensor -> {tensor.shape}\")\n",
        "  print(f\"Device tensor is on: {tensor.device}\")\n",
        "  gpu_info = subprocess.check_output(['nvidia-smi'])\n",
        "  print(\"Device information: \", gpu_info.decode('utf-8'))\n",
        "\n",
        "tensor_info(rand_tensor)\n"
      ],
      "metadata": {
        "colab": {
          "base_uri": "https://localhost:8080/"
        },
        "id": "tpGAji7KdUcP",
        "outputId": "098df265-145b-41e5-982d-9baa114f399e"
      },
      "execution_count": 52,
      "outputs": [
        {
          "output_type": "stream",
          "name": "stdout",
          "text": [
            "tensor([[0.7657, 0.9218, 0.9538, 0.7125, 0.6773, 0.0522, 0.8498],\n",
            "        [0.0381, 0.7919, 0.3175, 0.1059, 0.8655, 0.2447, 0.3714],\n",
            "        [0.0062, 0.5135, 0.2185, 0.6818, 0.0920, 0.1572, 0.1273],\n",
            "        [0.8352, 0.8984, 0.5437, 0.0707, 0.0679, 0.0698, 0.0243]],\n",
            "       device='cuda:0')\n",
            "Tensor datatype -> torch.float32\n",
            "Shape[size] of Tensor -> torch.Size([4, 7])\n",
            "Shape of Tensor -> torch.Size([4, 7])\n",
            "Device tensor is on: cuda:0\n",
            "Device information:  Mon Mar 27 06:02:11 2023       \n",
            "+-----------------------------------------------------------------------------+\n",
            "| NVIDIA-SMI 525.85.12    Driver Version: 525.85.12    CUDA Version: 12.0     |\n",
            "|-------------------------------+----------------------+----------------------+\n",
            "| GPU  Name        Persistence-M| Bus-Id        Disp.A | Volatile Uncorr. ECC |\n",
            "| Fan  Temp  Perf  Pwr:Usage/Cap|         Memory-Usage | GPU-Util  Compute M. |\n",
            "|                               |                      |               MIG M. |\n",
            "|===============================+======================+======================|\n",
            "|   0  Tesla T4            Off  | 00000000:00:04.0 Off |                    0 |\n",
            "| N/A   78C    P0    35W /  70W |    571MiB / 15360MiB |      0%      Default |\n",
            "|                               |                      |                  N/A |\n",
            "+-------------------------------+----------------------+----------------------+\n",
            "                                                                               \n",
            "+-----------------------------------------------------------------------------+\n",
            "| Processes:                                                                  |\n",
            "|  GPU   GI   CI        PID   Type   Process name                  GPU Memory |\n",
            "|        ID   ID                                                   Usage      |\n",
            "|=============================================================================|\n",
            "+-----------------------------------------------------------------------------+\n",
            "\n"
          ]
        }
      ]
    },
    {
      "cell_type": "code",
      "source": [],
      "metadata": {
        "id": "idx38VJtrOPW"
      },
      "execution_count": null,
      "outputs": []
    }
  ]
}
{
 "cells": [
  {
   "cell_type": "markdown",
   "id": "3a53bd2a",
   "metadata": {},
   "source": [
    "# 9/4/2023 ***PyTorch Workflow***"
   ]
  },
  {
   "cell_type": "code",
   "execution_count": 2,
   "id": "f01426b3",
   "metadata": {},
   "outputs": [
    {
     "name": "stdout",
     "output_type": "stream",
     "text": [
      "Hello Pytorch!\n"
     ]
    }
   ],
   "source": [
    "print('Hello Pytorch!')"
   ]
  },
  {
   "cell_type": "markdown",
   "id": "09ffa441",
   "metadata": {},
   "source": [
    "### We'll use a linear regression formula to make a straight line with known parameters:  \n",
    "$ y = b_0 + b_1 x_1 + b_2 x_2 + ... + b_n x_n $\n",
    "\n"
   ]
  },
  {
   "cell_type": "code",
   "execution_count": 17,
   "id": "1da1dbef",
   "metadata": {},
   "outputs": [
    {
     "data": {
      "text/plain": [
       "(50, 50)"
      ]
     },
     "execution_count": 17,
     "metadata": {},
     "output_type": "execute_result"
    }
   ],
   "source": [
    "# Create a known parameters:\n",
    "weight = 0.7\n",
    "bias = 0.3\n",
    "\n",
    "# Create:\n",
    "\n",
    "start = 0\n",
    "end = 1\n",
    "step = 0.02\n",
    "\n",
    "import torch\n",
    "import pandas as pd\n",
    "\n",
    "X = torch.arange(start, end, step).unsqueeze(dim=1)\n",
    "y = weight * X + bias\n",
    "X[:10], y[:10]\n",
    "len(X), len(y)"
   ]
  },
  {
   "cell_type": "markdown",
   "id": "87fc8985",
   "metadata": {},
   "source": [
    "## Splitting data *(training and test sets)*"
   ]
  },
  {
   "cell_type": "code",
   "execution_count": 23,
   "id": "15737680",
   "metadata": {},
   "outputs": [
    {
     "data": {
      "text/plain": [
       "(40, 40, 10, 10)"
      ]
     },
     "execution_count": 23,
     "metadata": {},
     "output_type": "execute_result"
    }
   ],
   "source": [
    "train_split = int(0.8 * len(X))\n",
    "\n",
    "X_train, y_train = X[:train_split], y[:train_split]\n",
    "len(X_train), len(y_train)\n",
    "\n",
    "X_test, y_test = X[train_split:], y[train_split:]\n",
    "len(X_train), len(y_train), len(X_test), len(y_test)"
   ]
  },
  {
   "cell_type": "markdown",
   "id": "cf445389",
   "metadata": {},
   "source": [
    "## Buiding a $f(x)$ to visualize our data"
   ]
  },
  {
   "cell_type": "code",
   "execution_count": 35,
   "id": "dcb6a48b",
   "metadata": {},
   "outputs": [],
   "source": [
    "import matplotlib.pyplot as plt\n",
    "\n",
    "def plot_predictions(train_data = X_train, \n",
    "                    train_labels = y_train,\n",
    "                    test_data = X_test, \n",
    "                    test_labels = y_test,\n",
    "                    predictions = None):\n",
    "    \"\"\"\n",
    "    Plots training data, test data and compares predictions.\n",
    "    \"\"\"\n",
    "    plt.figure(figsize=(8, 5))\n",
    "    \n",
    "    #plot training data in colour blue / test in green\n",
    "    plt.scatter(train_data, train_labels, c=\"b\", s=4, label= \"Training dataset\")\n",
    "    plt.scatter(test_data, test_labels, c=\"g\", s=4, label=\"Testing data\")\n",
    "    \n",
    "    #are there predictions?\n",
    "    \n",
    "    if predictions is not None:\n",
    "        plt.scatter(test_data, predictions, c=\"r\", s=4, label=\"Predictions\")\n",
    "    \n",
    "    plt.legend(prop={\"size\": 11})\n",
    "    "
   ]
  },
  {
   "cell_type": "code",
   "execution_count": 37,
   "id": "ac8db357",
   "metadata": {},
   "outputs": [
    {
     "data": {
      "image/png": "[encoded data removed]",
      "text/plain": [
       "<Figure size 800x500 with 1 Axes>"
      ]
     },
     "metadata": {},
     "output_type": "display_data"
    }
   ],
   "source": [
    "plot_predictions()\n"
   ]
  },
  {
   "cell_type": "markdown",
   "id": "3fc5e013",
   "metadata": {},
   "source": [
    "## PyTorch Model for Linear Regression  \n",
    "$\\mathbf{y} = \\mathbf{\\beta_0} + \\mathbf{\\beta_1} \\mathbf{x} + \\mathbf{\\epsilon}$  \n",
    "\n",
    "$\\mathbf{y}$ es la variable dependiente o respuesta que se trata de predecir.  \n",
    "$\\mathbf{x}$ es la variable independiente o predictor que se utiliza para hacer la predicción.  \n",
    "$\\mathbf{\\beta_0}$ es la intersección o el valor de $\\mathbf{y}$ cuando $\\mathbf{x=0}$.  \n",
    "$\\mathbf{\\beta_1}$ es la pendiente o el cambio en $\\mathbf{y}$ por unidad de cambio en $\\mathbf{x}$.  \n",
    "$\\mathbf{\\epsilon}$ es el término de error, que representa la variación en $\\mathbf{y}$ que no puede explicarse por la relación lineal entre $\\mathbf{x}$ e $\\mathbf{y}$.  \n"
   ]
  },
  {
   "cell_type": "code",
   "execution_count": 40,
   "id": "9817e941",
   "metadata": {},
   "outputs": [],
   "source": [
    "from torch import nn\n",
    "\n",
    "class LinearRegressionModel(nn.Module):\n",
    "    def __init__(self):\n",
    "        super().__init__()\n",
    "        self.weights = nn.Parameter(torch.randn(1,\n",
    "                                               requires_grad = True,\n",
    "                                               dtype = torch.float))\n",
    "        \n",
    "        self.bias = nn.Parameter(torch.randn(1,\n",
    "                                            requires_grad = True,\n",
    "                                            dtype = torch.float))\n",
    "        \n",
    "    # method to define the computation in the model   \n",
    "    def forward(self, x: torch.Tensor) -> torch.Tensor: \n",
    "        return self.weights * x + self.bias"
   ]
  }
 ],
 "metadata": {
  "kernelspec": {
   "display_name": "Python 3 (ipykernel)",
   "language": "python",
   "name": "python3"
  },
  "language_info": {
   "codemirror_mode": {
    "name": "ipython",
    "version": 3
   },
   "file_extension": ".py",
   "mimetype": "text/x-python",
   "name": "python",
   "nbconvert_exporter": "python",
   "pygments_lexer": "ipython3",
   "version": "3.10.9"
  }
 },
 "nbformat": 4,
 "nbformat_minor": 5
}

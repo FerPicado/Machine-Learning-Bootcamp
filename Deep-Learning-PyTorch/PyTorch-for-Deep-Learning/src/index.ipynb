{
 "cells": [
  {
   "cell_type": "markdown",
   "id": "3a53bd2a",
   "metadata": {},
   "source": [
    "# 9/4/2023 ***PyTorch Workflow***"
   ]
  },
  {
   "cell_type": "code",
   "execution_count": 2,
   "id": "f01426b3",
   "metadata": {},
   "outputs": [
    {
     "name": "stdout",
     "output_type": "stream",
     "text": [
      "Hello Pytorch!\n"
     ]
    }
   ],
   "source": [
    "print('Hello Pytorch!')"
   ]
  },
  {
   "cell_type": "markdown",
   "id": "09ffa441",
   "metadata": {},
   "source": [
    "### We'll use a linear regression formula to make a straight line with known parameters:  \n",
    "$ y = b_0 + b_1 x_1 + b_2 x_2 + ... + b_n x_n $\n",
    "\n"
   ]
  },
  {
   "cell_type": "code",
   "execution_count": 1,
   "id": "1da1dbef",
   "metadata": {},
   "outputs": [
    {
     "data": {
      "text/plain": [
       "(50, 50)"
      ]
     },
     "execution_count": 1,
     "metadata": {},
     "output_type": "execute_result"
    }
   ],
   "source": [
    "# Create a known parameters:\n",
    "weight = 0.7\n",
    "bias = 0.3\n",
    "\n",
    "# Create:\n",
    "\n",
    "start = 0\n",
    "end = 1\n",
    "step = 0.02\n",
    "\n",
    "import torch\n",
    "import pandas as pd\n",
    "\n",
    "X = torch.arange(start, end, step).unsqueeze(dim=1)\n",
    "y = weight * X + bias\n",
    "X[:10], y[:10]\n",
    "len(X), len(y)"
   ]
  },
  {
   "cell_type": "markdown",
   "id": "87fc8985",
   "metadata": {},
   "source": [
    "## Splitting data *(training and test sets)*"
   ]
  },
  {
   "cell_type": "code",
   "execution_count": 2,
   "id": "15737680",
   "metadata": {},
   "outputs": [
    {
     "data": {
      "text/plain": [
       "(40, 40, 10, 10)"
      ]
     },
     "execution_count": 2,
     "metadata": {},
     "output_type": "execute_result"
    }
   ],
   "source": [
    "train_split = int(0.8 * len(X))\n",
    "\n",
    "X_train, y_train = X[:train_split], y[:train_split]\n",
    "len(X_train), len(y_train)\n",
    "\n",
    "X_test, y_test = X[train_split:], y[train_split:]\n",
    "len(X_train), len(y_train), len(X_test), len(y_test)"
   ]
  },
  {
   "cell_type": "markdown",
   "id": "cf445389",
   "metadata": {},
   "source": [
    "## Buiding a $f(x)$ to visualize our data"
   ]
  },
  {
   "cell_type": "code",
   "execution_count": 3,
   "id": "dcb6a48b",
   "metadata": {},
   "outputs": [],
   "source": [
    "import matplotlib.pyplot as plt\n",
    "\n",
    "def plot_predictions(train_data = X_train, \n",
    "                    train_labels = y_train,\n",
    "                    test_data = X_test, \n",
    "                    test_labels = y_test,\n",
    "                    predictions = None):\n",
    "    \"\"\"\n",
    "    Plots training data, test data and compares predictions.\n",
    "    \"\"\"\n",
    "    plt.figure(figsize=(8, 5))\n",
    "    \n",
    "    #plot training data in colour blue / test in green\n",
    "    plt.scatter(train_data, train_labels, c=\"b\", s=4, label= \"Training dataset\")\n",
    "    plt.scatter(test_data, test_labels, c=\"g\", s=4, label=\"Testing data\")\n",
    "    \n",
    "    #are there predictions?\n",
    "    \n",
    "    if predictions is not None:\n",
    "        plt.scatter(test_data, predictions, c=\"r\", s=4, label=\"Predictions\")\n",
    "    \n",
    "    plt.legend(prop={\"size\": 11})\n",
    "    "
   ]
  },
  {
   "cell_type": "code",
   "execution_count": 4,
   "id": "ac8db357",
   "metadata": {},
   "outputs": [
    {
     "data": {
      "image/png": "[encoded data removed]",
      "text/plain": [
       "<Figure size 800x500 with 1 Axes>"
      ]
     },
     "metadata": {},
     "output_type": "display_data"
    }
   ],
   "source": [
    "plot_predictions()\n"
   ]
  },
  {
   "cell_type": "markdown",
   "id": "3fc5e013",
   "metadata": {},
   "source": [
    "## PyTorch Model for Linear Regression  \n",
    "$\\mathbf{y} = \\mathbf{\\beta_0} + \\mathbf{\\beta_1} \\mathbf{x} + \\mathbf{\\epsilon}$  \n",
    "\n",
    "$\\mathbf{y}$ es la variable dependiente o respuesta que se trata de predecir.  \n",
    "$\\mathbf{x}$ es la variable independiente o predictor que se utiliza para hacer la predicción.  \n",
    "$\\mathbf{\\beta_0}$ es la intersección o el valor de $\\mathbf{y}$ cuando $\\mathbf{x=0}$.  \n",
    "$\\mathbf{\\beta_1}$ es la pendiente o el cambio en $\\mathbf{y}$ por unidad de cambio en $\\mathbf{x}$.  \n",
    "$\\mathbf{\\epsilon}$ es el término de error, que representa la variación en $\\mathbf{y}$ que no puede explicarse por la relación lineal entre $\\mathbf{x}$ e $\\mathbf{y}$.  \n"
   ]
  },
  {
   "cell_type": "code",
   "execution_count": 5,
   "id": "9817e941",
   "metadata": {},
   "outputs": [],
   "source": [
    "import torch\n",
    "from torch import nn\n",
    "\n",
    "class LinearRegressionModel(nn.Module):\n",
    "    def __init__(self):\n",
    "        super().__init__()\n",
    "        self.weights = nn.Parameter(torch.randn(1,\n",
    "                                               requires_grad = True,\n",
    "                                               dtype = torch.float))\n",
    "        \n",
    "        self.bias = nn.Parameter(torch.randn(1,\n",
    "                                            requires_grad = True,\n",
    "                                            dtype = torch.float))\n",
    "        \n",
    "    # method to define the computation in the model   \n",
    "    def forward(self, x: torch.Tensor) -> torch.Tensor: \n",
    "        return self.weights * x + self.bias"
   ]
  },
  {
   "cell_type": "markdown",
   "id": "d6cb5828",
   "metadata": {},
   "source": [
    "- `torch.nn`: Contiene todos los bloques de construcción necesarios para crear gráficos computacionales (que esencialmente son una serie de cálculos ejecutados de una manera particular).\n",
    "- `torch.nn.Parameter`: Almacena tensores que se pueden usar con `nn.Module`. Si `requires_grad=True`, los gradientes (utilizados para actualizar los parámetros del modelo mediante descenso de gradiente) se calculan automáticamente, esto a menudo se conoce como \"autograd\".\n",
    "- `torch.nn.Module`: La clase base para todos los módulos de redes neuronales, todos los bloques de construcción para redes neuronales son subclases. Si está construyendo una red neuronal en PyTorch, sus modelos deben ser subclases de `nn.Module`. Se requiere que se implemente un método `forward()`.\n",
    "- `torch.optim`: Contiene varios algoritmos de optimización (estos indican a los parámetros del modelo almacenados en `nn.Parameter` cómo cambiar mejor para mejorar el descenso de gradiente y, a su vez, reducir la pérdida).\n",
    "- `def forward()`: Todas las subclases de `nn.Module` requieren un método `forward()`, esto define el cálculo que se realizará en los datos que se pasan al `nn.Module` particular (por ejemplo, la fórmula de regresión lineal mencionada anteriormente).  \n",
    "\n",
    "Si lo anterior suena complejo, piense en esto: casi todo en una red neuronal PyTorch proviene de **torch.nn**:  \n",
    "- `nn.Module` contiene los bloques de construcción más grandes (capas).\n",
    "- `nn.Parameter` contiene los parámetros más pequeños como pesos y sesgos (se combinan para crear `nn.Module(s)`).\n",
    "- `forward()` le dice a los bloques más grandes cómo realizar cálculos en las entradas (tensores llenos de datos) dentro de `nn.Module(s)`.\n",
    "- `torch.optim` contiene métodos de optimización sobre cómo mejorar los parámetros dentro de `nn.Parameter` para representar mejor los datos de entrada.\n",
    "\n",
    "https://pytorch.org/tutorials/beginner/ptcheat.html"
   ]
  },
  {
   "cell_type": "markdown",
   "id": "8521f863",
   "metadata": {},
   "source": [
    "![PyTorch Workflow image](https://raw.githubusercontent.com/mrdbourke/pytorch-deep-learning/main/images/01_a_pytorch_workflow.png)"
   ]
  },
  {
   "cell_type": "markdown",
   "id": "d11369c5",
   "metadata": {},
   "source": [
    "### Checking the contents of our **PyTorch Model**\n",
    "Now we've created a model, let's see what's inside...  \n",
    "We can check our model parameters or whats inside our model using `.parameters()`"
   ]
  },
  {
   "cell_type": "code",
   "execution_count": 6,
   "id": "32358681",
   "metadata": {},
   "outputs": [
    {
     "data": {
      "text/plain": [
       "OrderedDict([('weights', tensor([0.3367])), ('bias', tensor([0.1288]))])"
      ]
     },
     "execution_count": 6,
     "metadata": {},
     "output_type": "execute_result"
    }
   ],
   "source": [
    "# create a random seed:\n",
    "torch.manual_seed(42)\n",
    "\n",
    "# create an instance of the model (this is a subclass of nn.Module)\n",
    "model_one = LinearRegressionModel()\n",
    "\n",
    "# check parameters\n",
    "list(model_one.parameters())\n",
    "\n",
    "# List named parameters \n",
    "model_one.state_dict()"
   ]
  },
  {
   "cell_type": "code",
   "execution_count": 7,
   "id": "2415664d",
   "metadata": {},
   "outputs": [
    {
     "data": {
      "text/plain": [
       "(0.7, 0.3)"
      ]
     },
     "execution_count": 7,
     "metadata": {},
     "output_type": "execute_result"
    }
   ],
   "source": [
    "weight, bias"
   ]
  },
  {
   "cell_type": "markdown",
   "id": "05eb0f8b",
   "metadata": {},
   "source": [
    "## Making predictions using `torch.inference_mode()`  \n",
    "To check this we can pass it the test data X_test to see how closely it predicts y_test.\n",
    "\n",
    "When we pass data to our model, it'll go through the model's forward() method and produce a result using the computation we've defined.\n",
    "\n",
    "Let's make some predictions.\n"
   ]
  },
  {
   "cell_type": "code",
   "execution_count": 8,
   "id": "89a6ae10",
   "metadata": {},
   "outputs": [
    {
     "data": {
      "text/plain": [
       "tensor([[0.3982],\n",
       "        [0.4049],\n",
       "        [0.4116],\n",
       "        [0.4184],\n",
       "        [0.4251],\n",
       "        [0.4318],\n",
       "        [0.4386],\n",
       "        [0.4453],\n",
       "        [0.4520],\n",
       "        [0.4588]])"
      ]
     },
     "execution_count": 8,
     "metadata": {},
     "output_type": "execute_result"
    }
   ],
   "source": [
    "# code 1\n",
    "with torch.inference_mode():\n",
    "    y_preds = model_one(X_test)    \n",
    "y_preds\n",
    "\n",
    "# https://twitter.com/PyTorch/status/1437838231505096708?s=20"
   ]
  },
  {
   "cell_type": "code",
   "execution_count": 9,
   "id": "1e508ceb",
   "metadata": {},
   "outputs": [
    {
     "data": {
      "image/png": "[encoded data removed]",
      "text/plain": [
       "<Figure size 800x500 with 1 Axes>"
      ]
     },
     "metadata": {},
     "output_type": "display_data"
    }
   ],
   "source": [
    "plot_predictions(predictions=y_preds)"
   ]
  },
  {
   "cell_type": "code",
   "execution_count": 10,
   "id": "ce10ddf2",
   "metadata": {},
   "outputs": [
    {
     "data": {
      "text/plain": [
       "tensor([[0.3982],\n",
       "        [0.4049],\n",
       "        [0.4116],\n",
       "        [0.4184],\n",
       "        [0.4251],\n",
       "        [0.4318],\n",
       "        [0.4386],\n",
       "        [0.4453],\n",
       "        [0.4520],\n",
       "        [0.4588]])"
      ]
     },
     "execution_count": 10,
     "metadata": {},
     "output_type": "execute_result"
    }
   ],
   "source": [
    "# oldest way\n",
    "with torch.no_grad():\n",
    "    y_preds = model_one(X_test)\n",
    "y_preds"
   ]
  },
  {
   "cell_type": "markdown",
   "id": "ae788757",
   "metadata": {},
   "source": [
    "## Train a model  \n",
    "https://www.learnpytorch.io/01_pytorch_workflow/#3-train-model \n",
    "* One way to measure how poor or how wrong your model predictions are is to use a *loss functions* **Lower is better**   https://pytorch.org/docs/stable/nn.html#loss-functions\n",
    "\n",
    "- Note: May also be called costn or criterion in different areas."
   ]
  },
  {
   "cell_type": "markdown",
   "id": "d6976c63",
   "metadata": {},
   "source": [
    "#### Things we need to train:\n",
    "1. **Loss fn**: A function to measure how poor or how wrong your model predictions are is to use a loss functions Lower is better. https://pytorch.org/docs/stable/nn.html#loss-functions\n",
    "2. **Optimizer**: Takes into account the loss of a model and adjusts the models parameters (weight, bias). To improve the loss fn https://pytorch.org/docs/stable/optim.html\n",
    "\n",
    "And specially for **PyTorch**, we need:\n",
    "* A training loop\n",
    "* A testing loop"
   ]
  },
  {
   "cell_type": "code",
   "execution_count": 11,
   "id": "71bc5684",
   "metadata": {},
   "outputs": [
    {
     "data": {
      "text/plain": [
       "[Parameter containing:\n",
       " tensor([0.3367], requires_grad=True),\n",
       " Parameter containing:\n",
       " tensor([0.1288], requires_grad=True)]"
      ]
     },
     "execution_count": 11,
     "metadata": {},
     "output_type": "execute_result"
    }
   ],
   "source": [
    "list(model_one.parameters())"
   ]
  },
  {
   "cell_type": "code",
   "execution_count": 12,
   "id": "7943d51a",
   "metadata": {},
   "outputs": [
    {
     "data": {
      "text/plain": [
       "OrderedDict([('weights', tensor([0.3367])), ('bias', tensor([0.1288]))])"
      ]
     },
     "execution_count": 12,
     "metadata": {},
     "output_type": "execute_result"
    }
   ],
   "source": [
    "model_one.state_dict()"
   ]
  },
  {
   "cell_type": "markdown",
   "id": "be373bd3",
   "metadata": {},
   "source": [
    "## Creating an optimization loop in PyTorch\n",
    "https://www.learnpytorch.io/01_pytorch_workflow/#creating-an-optimization-loop-in-pytorch"
   ]
  },
  {
   "cell_type": "code",
   "execution_count": 13,
   "id": "aab24b53",
   "metadata": {},
   "outputs": [
    {
     "data": {
      "text/plain": [
       "OrderedDict([('weights', tensor([0.3367])), ('bias', tensor([0.1288]))])"
      ]
     },
     "execution_count": 13,
     "metadata": {},
     "output_type": "execute_result"
    }
   ],
   "source": [
    "# check out our models paramaters (a parameters is a value that the modedl sets itself)\n",
    "model_one.state_dict()"
   ]
  },
  {
   "cell_type": "code",
   "execution_count": 15,
   "id": "d1fda8d0",
   "metadata": {},
   "outputs": [],
   "source": [
    "# setup a loss fn:\n",
    "loss_fn = nn.L1Loss()\n",
    "\n",
    "# setup an optimizer (SGD) \n",
    "optimizer = torch.optim.SGD(params = model_one.parameters(),\n",
    "                           lr = 0.01) # Lr = Learning rate (suuuuper important concept)"
   ]
  },
  {
   "cell_type": "code",
   "execution_count": 19,
   "id": "ed5114b6",
   "metadata": {},
   "outputs": [
    {
     "data": {
      "text/plain": [
       "[1, 2, 3, 4, 5, 6, 7, 8, 9, 10]"
      ]
     },
     "execution_count": 19,
     "metadata": {},
     "output_type": "execute_result"
    }
   ],
   "source": [
    "arr = [1,2,3,4,5,6,7,8,9,10]\n",
    "arr\n"
   ]
  },
  {
   "cell_type": "code",
   "execution_count": 25,
   "id": "d8c841a7",
   "metadata": {},
   "outputs": [
    {
     "data": {
      "text/plain": [
       "[11, 11, 11, 10, 9, 8, 7, 6, 5, 4, 3, 2, 1]"
      ]
     },
     "execution_count": 25,
     "metadata": {},
     "output_type": "execute_result"
    }
   ],
   "source": [
    "arr.append(11)\n",
    "arr[::-1]"
   ]
  },
  {
   "cell_type": "code",
   "execution_count": 30,
   "id": "23a9350e",
   "metadata": {},
   "outputs": [
    {
     "name": "stdout",
     "output_type": "stream",
     "text": [
      "0\n",
      "1\n",
      "2\n",
      "3\n",
      "4\n",
      "5\n",
      "6\n",
      "7\n",
      "8\n",
      "9\n",
      "10\n",
      "11\n",
      "12\n"
     ]
    }
   ],
   "source": [
    "for n in range(len(arr)):\n",
    "    print(n)"
   ]
  },
  {
   "cell_type": "code",
   "execution_count": 31,
   "id": "dbe1348a",
   "metadata": {},
   "outputs": [
    {
     "name": "stdout",
     "output_type": "stream",
     "text": [
      "['manzana', 'banana', 'cereza', 'naranja']\n"
     ]
    }
   ],
   "source": [
    "fruits = ['manzana', 'banana', 'cereza', 'dátil', 'naranja']\n",
    "\n",
    "# Crear una lista con frutas que contengan la letra 'a'\n",
    "fruits_with_a = [fruit for fruit in fruits if 'a' in fruit]\n",
    "\n",
    "print(fruits_with_a) # ['manzana', 'banana', 'naranja']\n"
   ]
  },
  {
   "cell_type": "code",
   "execution_count": null,
   "id": "0166f030",
   "metadata": {},
   "outputs": [],
   "source": []
  },
  {
   "cell_type": "code",
   "execution_count": null,
   "id": "a896d158",
   "metadata": {},
   "outputs": [],
   "source": []
  },
  {
   "cell_type": "code",
   "execution_count": null,
   "id": "f500dd4a",
   "metadata": {},
   "outputs": [],
   "source": []
  },
  {
   "cell_type": "code",
   "execution_count": null,
   "id": "f6a2128c",
   "metadata": {},
   "outputs": [],
   "source": []
  },
  {
   "cell_type": "code",
   "execution_count": null,
   "id": "86e72e38",
   "metadata": {},
   "outputs": [],
   "source": []
  }
 ],
 "metadata": {
  "kernelspec": {
   "display_name": "Python 3 (ipykernel)",
   "language": "python",
   "name": "python3"
  },
  "language_info": {
   "codemirror_mode": {
    "name": "ipython",
    "version": 3
   },
   "file_extension": ".py",
   "mimetype": "text/x-python",
   "name": "python",
   "nbconvert_exporter": "python",
   "pygments_lexer": "ipython3",
   "version": "3.10.9"
  }
 },
 "nbformat": 4,
 "nbformat_minor": 5
}

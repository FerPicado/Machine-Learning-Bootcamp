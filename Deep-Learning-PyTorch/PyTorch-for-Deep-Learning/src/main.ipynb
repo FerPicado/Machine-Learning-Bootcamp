{
  "nbformat": 4,
  "nbformat_minor": 0,
  "metadata": {
    "colab": {
      "provenance": []
    },
    "kernelspec": {
      "name": "python3",
      "display_name": "Python 3"
    },
    "language_info": {
      "name": "python"
    },
    "accelerator": "GPU",
    "gpuClass": "standard"
  },
  "cells": [
    {
      "cell_type": "markdown",
      "source": [
        "## PyTorch Course!\n",
        "Resource Notebook: https://www.learnpytorch.io/00_pytorch_fundamentals/\n"
      ],
      "metadata": {
        "id": "mxJadwO_91n5"
      }
    },
    {
      "cell_type": "code",
      "execution_count": null,
      "metadata": {
        "colab": {
          "base_uri": "https://localhost:8080/"
        },
        "id": "yhx1xJAy9Olg",
        "outputId": "524a4c35-341e-429a-bfb1-ef244d8769c0"
      },
      "outputs": [
        {
          "output_type": "stream",
          "name": "stdout",
          "text": [
            "Hello I'm exiting to learn PyTorch! \n"
          ]
        }
      ],
      "source": [
        "print(\"Hello I'm exiting to learn PyTorch! \")"
      ]
    },
    {
      "cell_type": "code",
      "source": [
        "!nvidia-smi"
      ],
      "metadata": {
        "colab": {
          "base_uri": "https://localhost:8080/"
        },
        "id": "9Lai_BCx9hrM",
        "outputId": "79edaa3d-1a28-4b0a-af53-42d4c30aac3e"
      },
      "execution_count": null,
      "outputs": [
        {
          "output_type": "stream",
          "name": "stdout",
          "text": [
            "NVIDIA-SMI has failed because it couldn't communicate with the NVIDIA driver. Make sure that the latest NVIDIA driver is installed and running.\n",
            "\n"
          ]
        }
      ]
    },
    {
      "cell_type": "code",
      "source": [
        "import pandas as pd\n",
        "import numpy as np\n",
        "import torch\n",
        "import matplotlib.pyplot as plt\n",
        "\n",
        "# PyTorch version:\n",
        "print(torch.__version__)"
      ],
      "metadata": {
        "colab": {
          "base_uri": "https://localhost:8080/"
        },
        "id": "UCp-X5ni-3ve",
        "outputId": "84f0c585-44af-4ab4-e425-3cbf73ae290a"
      },
      "execution_count": null,
      "outputs": [
        {
          "output_type": "stream",
          "name": "stdout",
          "text": [
            "2.0.0+cu118\n"
          ]
        }
      ]
    },
    {
      "cell_type": "markdown",
      "source": [
        "## Introduction to tensors\n",
        "\n",
        "Creating tensors:"
      ],
      "metadata": {
        "id": "AKTGk7H7BhhG"
      }
    },
    {
      "cell_type": "code",
      "source": [
        "scalar = torch.tensor(7)\n",
        "scalar"
      ],
      "metadata": {
        "colab": {
          "base_uri": "https://localhost:8080/"
        },
        "id": "J3b6rC_nBqYo",
        "outputId": "586a6de1-2e75-4696-c19a-e3ff78f91f22"
      },
      "execution_count": null,
      "outputs": [
        {
          "output_type": "execute_result",
          "data": {
            "text/plain": [
              "tensor(7)"
            ]
          },
          "metadata": {},
          "execution_count": 32
        }
      ]
    },
    {
      "cell_type": "code",
      "source": [
        "scalar.ndim"
      ],
      "metadata": {
        "colab": {
          "base_uri": "https://localhost:8080/"
        },
        "id": "7KW00eS1CPf3",
        "outputId": "6679209c-e57f-4a74-8017-e20843ba5be4"
      },
      "execution_count": null,
      "outputs": [
        {
          "output_type": "execute_result",
          "data": {
            "text/plain": [
              "0"
            ]
          },
          "metadata": {},
          "execution_count": 33
        }
      ]
    },
    {
      "cell_type": "code",
      "source": [
        "# get tensor back as Python int\n",
        "scalar.item()"
      ],
      "metadata": {
        "colab": {
          "base_uri": "https://localhost:8080/"
        },
        "id": "vZVMq-KLCiP2",
        "outputId": "605e2e6c-d8d8-45bb-a30d-76616d1c83f9"
      },
      "execution_count": null,
      "outputs": [
        {
          "output_type": "execute_result",
          "data": {
            "text/plain": [
              "7"
            ]
          },
          "metadata": {},
          "execution_count": 34
        }
      ]
    },
    {
      "cell_type": "code",
      "source": [
        "vector = torch.tensor([7,7])\n",
        "vector.ndim\n",
        "vector"
      ],
      "metadata": {
        "colab": {
          "base_uri": "https://localhost:8080/"
        },
        "id": "Z3bMFfrWCr2e",
        "outputId": "2728a25c-b60e-4629-b588-df078f1f2282"
      },
      "execution_count": null,
      "outputs": [
        {
          "output_type": "execute_result",
          "data": {
            "text/plain": [
              "tensor([7, 7])"
            ]
          },
          "metadata": {},
          "execution_count": 35
        }
      ]
    },
    {
      "cell_type": "markdown",
      "source": [
        "## Day 2\n",
        "PyTorch Introduction...."
      ],
      "metadata": {
        "id": "-Mk1ap1lS7_o"
      }
    },
    {
      "cell_type": "code",
      "source": [
        "# MATRIX\n",
        "\n",
        "MATRIX = torch.tensor([[5,1,2,3,4],\n",
        "          [4,5,6,7,8]])\n",
        "MATRIX"
      ],
      "metadata": {
        "colab": {
          "base_uri": "https://localhost:8080/"
        },
        "id": "CZ5MrYvUFg21",
        "outputId": "1ee2bbe2-b55a-4c21-e39b-58b4e83cd6a2"
      },
      "execution_count": null,
      "outputs": [
        {
          "output_type": "execute_result",
          "data": {
            "text/plain": [
              "tensor([[5, 1, 2, 3, 4],\n",
              "        [4, 5, 6, 7, 8]])"
            ]
          },
          "metadata": {},
          "execution_count": 36
        }
      ]
    },
    {
      "cell_type": "code",
      "source": [
        "MATRIX.ndim\n",
        "MATRIX[0], MATRIX[1]"
      ],
      "metadata": {
        "colab": {
          "base_uri": "https://localhost:8080/"
        },
        "id": "xHDVhH8gF45i",
        "outputId": "24a25418-e33b-4110-8129-2343d3c868b4"
      },
      "execution_count": null,
      "outputs": [
        {
          "output_type": "execute_result",
          "data": {
            "text/plain": [
              "(tensor([5, 1, 2, 3, 4]), tensor([4, 5, 6, 7, 8]))"
            ]
          },
          "metadata": {},
          "execution_count": 37
        }
      ]
    },
    {
      "cell_type": "code",
      "source": [
        "MATRIX.shape"
      ],
      "metadata": {
        "colab": {
          "base_uri": "https://localhost:8080/"
        },
        "id": "MoFfs8AwGQ8R",
        "outputId": "64ee4e84-2c03-414b-dd2d-5de5d7aca0f4"
      },
      "execution_count": null,
      "outputs": [
        {
          "output_type": "execute_result",
          "data": {
            "text/plain": [
              "torch.Size([2, 5])"
            ]
          },
          "metadata": {},
          "execution_count": 38
        }
      ]
    },
    {
      "cell_type": "code",
      "source": [
        "# Tensor\n",
        "\n",
        "TENSOR = torch.tensor([[[1,2,3,4,5,6],\n",
        "                        [5,7,8,7,3,7],\n",
        "                        [8,3,5,2,0,9]]])\n",
        "TENSOR.ndim"
      ],
      "metadata": {
        "colab": {
          "base_uri": "https://localhost:8080/"
        },
        "id": "bbNMZN_IHHqA",
        "outputId": "08ad65c1-5846-4b2f-c6f3-9ad005b9e450"
      },
      "execution_count": null,
      "outputs": [
        {
          "output_type": "execute_result",
          "data": {
            "text/plain": [
              "3"
            ]
          },
          "metadata": {},
          "execution_count": 39
        }
      ]
    },
    {
      "cell_type": "code",
      "source": [
        "TENSOR.shape"
      ],
      "metadata": {
        "colab": {
          "base_uri": "https://localhost:8080/"
        },
        "id": "2R4FjKBhIBMT",
        "outputId": "57e68cf4-62e6-4102-a765-d1f4f8db3319"
      },
      "execution_count": null,
      "outputs": [
        {
          "output_type": "execute_result",
          "data": {
            "text/plain": [
              "torch.Size([1, 3, 6])"
            ]
          },
          "metadata": {},
          "execution_count": 40
        }
      ]
    },
    {
      "cell_type": "code",
      "source": [
        "TENSOR[0]\n"
      ],
      "metadata": {
        "colab": {
          "base_uri": "https://localhost:8080/"
        },
        "id": "gXWTnUMZIQfL",
        "outputId": "2235ed31-ec23-423b-e2ee-f9d4e2cace2d"
      },
      "execution_count": null,
      "outputs": [
        {
          "output_type": "execute_result",
          "data": {
            "text/plain": [
              "tensor([[1, 2, 3, 4, 5, 6],\n",
              "        [5, 7, 8, 7, 3, 7],\n",
              "        [8, 3, 5, 2, 0, 9]])"
            ]
          },
          "metadata": {},
          "execution_count": 41
        }
      ]
    },
    {
      "cell_type": "markdown",
      "source": [
        "# RANDOM TENSORS\n",
        "# Returns a tensor filled with random numbers from a uniform distribution on the interval [0,1)\n",
        "# The shape of the tensor is defined by the variable argument size."
      ],
      "metadata": {
        "id": "Jul7b2YQQqDo"
      }
    },
    {
      "cell_type": "code",
      "source": [
        "\n",
        "RANDOM_TENSOR = torch.rand(5,10, 5)\n",
        "RANDOM_TENSOR"
      ],
      "metadata": {
        "colab": {
          "base_uri": "https://localhost:8080/"
        },
        "id": "BytX4M8XOFa5",
        "outputId": "2ba2b068-38a0-4ff7-804e-4b39a76957bc"
      },
      "execution_count": null,
      "outputs": [
        {
          "output_type": "execute_result",
          "data": {
            "text/plain": [
              "tensor([[[0.1142, 0.6430, 0.3321, 0.5565, 0.9961],\n",
              "         [0.0262, 0.9891, 0.3165, 0.6044, 0.8220],\n",
              "         [0.2713, 0.7156, 0.7549, 0.0475, 0.9079],\n",
              "         [0.2696, 0.2641, 0.4001, 0.9202, 0.0382],\n",
              "         [0.0760, 0.4682, 0.4512, 0.2452, 0.1841],\n",
              "         [0.3886, 0.2623, 0.0962, 0.5644, 0.0717],\n",
              "         [0.2434, 0.1539, 0.7645, 0.8477, 0.8225],\n",
              "         [0.7818, 0.9476, 0.8078, 0.9580, 0.9250],\n",
              "         [0.9915, 0.2279, 0.6083, 0.0241, 0.1759],\n",
              "         [0.8574, 0.2774, 0.3891, 0.5145, 0.1148]],\n",
              "\n",
              "        [[0.7985, 0.3444, 0.9386, 0.5123, 0.4444],\n",
              "         [0.7399, 0.2332, 0.5983, 0.6724, 0.9643],\n",
              "         [0.9998, 0.8204, 0.4098, 0.4348, 0.4231],\n",
              "         [0.1365, 0.7147, 0.8809, 0.4228, 0.4854],\n",
              "         [0.3575, 0.2785, 0.1214, 0.7432, 0.9766],\n",
              "         [0.0523, 0.4514, 0.2753, 0.2673, 0.0841],\n",
              "         [0.5009, 0.7645, 0.5419, 0.3743, 0.4856],\n",
              "         [0.2365, 0.9338, 0.7024, 0.5391, 0.2146],\n",
              "         [0.7136, 0.7856, 0.2829, 0.9979, 0.9889],\n",
              "         [0.7866, 0.2521, 0.5454, 0.1323, 0.0161]],\n",
              "\n",
              "        [[0.2518, 0.0460, 0.0873, 0.1785, 0.4835],\n",
              "         [0.4601, 0.1499, 0.9011, 0.0352, 0.1443],\n",
              "         [0.1379, 0.7695, 0.5334, 0.3859, 0.9947],\n",
              "         [0.0509, 0.7469, 0.6176, 0.4359, 0.2293],\n",
              "         [0.6981, 0.4912, 0.6749, 0.4782, 0.9140],\n",
              "         [0.8623, 0.4465, 0.9125, 0.0058, 0.6589],\n",
              "         [0.0308, 0.4687, 0.1434, 0.8312, 0.9421],\n",
              "         [0.9474, 0.5125, 0.8009, 0.4860, 0.5929],\n",
              "         [0.2220, 0.0350, 0.0460, 0.4387, 0.9780],\n",
              "         [0.9053, 0.5841, 0.6860, 0.6064, 0.9190]],\n",
              "\n",
              "        [[0.6575, 0.1982, 0.7756, 0.4501, 0.0697],\n",
              "         [0.9197, 0.9757, 0.2282, 0.3419, 0.9066],\n",
              "         [0.6867, 0.8318, 0.7873, 0.1571, 0.0680],\n",
              "         [0.3238, 0.2907, 0.0329, 0.4642, 0.0883],\n",
              "         [0.8082, 0.6364, 0.3859, 0.1232, 0.3350],\n",
              "         [0.5913, 0.4140, 0.7374, 0.7855, 0.4227],\n",
              "         [0.7663, 0.2107, 0.3316, 0.5860, 0.5812],\n",
              "         [0.5954, 0.0431, 0.2230, 0.6035, 0.9806],\n",
              "         [0.2285, 0.2335, 0.5390, 0.1596, 0.8531],\n",
              "         [0.1070, 0.0368, 0.0019, 0.6391, 0.7638]],\n",
              "\n",
              "        [[0.1422, 0.5487, 0.1597, 0.3199, 0.7402],\n",
              "         [0.3304, 0.9911, 0.3932, 0.9869, 0.5411],\n",
              "         [0.2654, 0.9757, 0.3387, 0.1031, 0.3570],\n",
              "         [0.7610, 0.8937, 0.9371, 0.9220, 0.7539],\n",
              "         [0.2222, 0.1255, 0.2499, 0.9064, 0.5217],\n",
              "         [0.9619, 0.1792, 0.7249, 0.4886, 0.1738],\n",
              "         [0.0107, 0.4453, 0.2740, 0.5380, 0.8904],\n",
              "         [0.6804, 0.7305, 0.1100, 0.8668, 0.1378],\n",
              "         [0.0521, 0.1568, 0.9944, 0.1219, 0.7935],\n",
              "         [0.5490, 0.0956, 0.8693, 0.5785, 0.9248]]])"
            ]
          },
          "metadata": {},
          "execution_count": 42
        }
      ]
    },
    {
      "cell_type": "code",
      "source": [
        "RANDOM_TENSOR.shape"
      ],
      "metadata": {
        "colab": {
          "base_uri": "https://localhost:8080/"
        },
        "id": "i_apPYOwQ_7Q",
        "outputId": "e85ee974-67dd-43c0-acd5-5b92a7630ac6"
      },
      "execution_count": null,
      "outputs": [
        {
          "output_type": "execute_result",
          "data": {
            "text/plain": [
              "torch.Size([5, 10, 5])"
            ]
          },
          "metadata": {},
          "execution_count": 43
        }
      ]
    },
    {
      "cell_type": "code",
      "source": [
        "# random tensor ith similar shapeto an image:\n",
        "\n",
        "random_image_size_tensor = torch.rand(size=(224,224,3)) #height, idth, colour channel (RGB)\n",
        "random_image_size_tensor.shape, random_image_size_tensor.ndim"
      ],
      "metadata": {
        "colab": {
          "base_uri": "https://localhost:8080/"
        },
        "id": "w9gxLNDRSmpE",
        "outputId": "8cab3991-c439-49f2-9d77-e9a0a8eb3df2"
      },
      "execution_count": null,
      "outputs": [
        {
          "output_type": "execute_result",
          "data": {
            "text/plain": [
              "(torch.Size([224, 224, 3]), 3)"
            ]
          },
          "metadata": {},
          "execution_count": 44
        }
      ]
    },
    {
      "cell_type": "code",
      "source": [
        "# Zeros and ones\n",
        "\n",
        "zeros = torch.zeros(3,4)\n",
        "zeros"
      ],
      "metadata": {
        "colab": {
          "base_uri": "https://localhost:8080/"
        },
        "id": "HqH3SkO3UdgU",
        "outputId": "f053d20a-217e-490b-cf95-eaba5b435ede"
      },
      "execution_count": null,
      "outputs": [
        {
          "output_type": "execute_result",
          "data": {
            "text/plain": [
              "tensor([[0., 0., 0., 0.],\n",
              "        [0., 0., 0., 0.],\n",
              "        [0., 0., 0., 0.]])"
            ]
          },
          "metadata": {},
          "execution_count": 45
        }
      ]
    },
    {
      "cell_type": "code",
      "source": [
        "ones = torch.ones(size=(3,4))\n",
        "ones  "
      ],
      "metadata": {
        "colab": {
          "base_uri": "https://localhost:8080/"
        },
        "id": "fMbUZ1vLU98I",
        "outputId": "028178e6-ded1-47bb-8182-1637275aa007"
      },
      "execution_count": null,
      "outputs": [
        {
          "output_type": "execute_result",
          "data": {
            "text/plain": [
              "tensor([[1., 1., 1., 1.],\n",
              "        [1., 1., 1., 1.],\n",
              "        [1., 1., 1., 1.]])"
            ]
          },
          "metadata": {},
          "execution_count": 46
        }
      ]
    },
    {
      "cell_type": "code",
      "source": [
        "zeros.dtype, ones.dtype"
      ],
      "metadata": {
        "colab": {
          "base_uri": "https://localhost:8080/"
        },
        "id": "Sc-OMZnKVE8A",
        "outputId": "530f0c89-1818-47fd-9c52-b54173c87972"
      },
      "execution_count": null,
      "outputs": [
        {
          "output_type": "execute_result",
          "data": {
            "text/plain": [
              "(torch.float32, torch.float32)"
            ]
          },
          "metadata": {},
          "execution_count": 47
        }
      ]
    },
    {
      "cell_type": "code",
      "source": [
        "# Creating a range of tensors\n",
        "\n",
        "ts = torch.range(0,11)\n",
        "ts"
      ],
      "metadata": {
        "colab": {
          "base_uri": "https://localhost:8080/"
        },
        "id": "0_HeGMnsV6n0",
        "outputId": "f95b6454-60e8-4715-d79f-cf12846c2956"
      },
      "execution_count": null,
      "outputs": [
        {
          "output_type": "stream",
          "name": "stderr",
          "text": [
            "<ipython-input-48-1657591299c8>:3: UserWarning: torch.range is deprecated and will be removed in a future release because its behavior is inconsistent with Python's range builtin. Instead, use torch.arange, which produces values in [start, end).\n",
            "  ts = torch.range(0,11)\n"
          ]
        },
        {
          "output_type": "execute_result",
          "data": {
            "text/plain": [
              "tensor([ 0.,  1.,  2.,  3.,  4.,  5.,  6.,  7.,  8.,  9., 10., 11.])"
            ]
          },
          "metadata": {},
          "execution_count": 48
        }
      ]
    },
    {
      "cell_type": "code",
      "source": [
        "# Using arange:\n",
        "import torch\n",
        "\n",
        "arange_tensor = torch.arange(start=10, end=1000, step=100)\n",
        "arange_tensor"
      ],
      "metadata": {
        "colab": {
          "base_uri": "https://localhost:8080/"
        },
        "id": "hh2eK9g2XA9w",
        "outputId": "7997d3d6-2ee6-4a14-e7d4-8c01fd56d629"
      },
      "execution_count": null,
      "outputs": [
        {
          "output_type": "execute_result",
          "data": {
            "text/plain": [
              "tensor([ 10, 110, 210, 310, 410, 510, 610, 710, 810, 910])"
            ]
          },
          "metadata": {},
          "execution_count": 49
        }
      ]
    },
    {
      "cell_type": "code",
      "source": [
        "arange_tensor_2 = torch.arange(10, 1000, 100)\n",
        "arange_tensor_2"
      ],
      "metadata": {
        "colab": {
          "base_uri": "https://localhost:8080/"
        },
        "id": "moxNj-b6XRG3",
        "outputId": "75a3a320-0d0c-4994-b60e-13e01844fe78"
      },
      "execution_count": null,
      "outputs": [
        {
          "output_type": "execute_result",
          "data": {
            "text/plain": [
              "tensor([ 10, 110, 210, 310, 410, 510, 610, 710, 810, 910])"
            ]
          },
          "metadata": {},
          "execution_count": 50
        }
      ]
    },
    {
      "cell_type": "code",
      "source": [
        "# tensors like:\n",
        "\n",
        "ts_like = torch.ones_like(arange_tensor)\n",
        "ts_like"
      ],
      "metadata": {
        "colab": {
          "base_uri": "https://localhost:8080/"
        },
        "id": "KJ0Ue1WMYOOQ",
        "outputId": "7ca5e2ed-8512-4f35-bfa8-9c3dbc8d6ea7"
      },
      "execution_count": null,
      "outputs": [
        {
          "output_type": "execute_result",
          "data": {
            "text/plain": [
              "tensor([1, 1, 1, 1, 1, 1, 1, 1, 1, 1])"
            ]
          },
          "metadata": {},
          "execution_count": 51
        }
      ]
    },
    {
      "cell_type": "markdown",
      "source": [
        "### **Tensor datatypes**"
      ],
      "metadata": {
        "id": "Sd2Z_UvEY3zK"
      }
    },
    {
      "cell_type": "code",
      "source": [
        "# float 32 tensor:\n",
        "\n",
        "tensor_float_32 = torch.tensor([3.0, 6.0, 9.0],\n",
        "                               dtype=torch.float16,\n",
        "                               device=None,\n",
        "                               requires_grad=False)\n",
        "tensor_float_32.dtype"
      ],
      "metadata": {
        "colab": {
          "base_uri": "https://localhost:8080/"
        },
        "id": "nxeIq5TvY3SB",
        "outputId": "bc4bf4ce-0e9f-4773-abac-438fca11c6c6"
      },
      "execution_count": null,
      "outputs": [
        {
          "output_type": "execute_result",
          "data": {
            "text/plain": [
              "torch.float16"
            ]
          },
          "metadata": {},
          "execution_count": 52
        }
      ]
    },
    {
      "cell_type": "code",
      "source": [
        "float_16_tensor = tensor_float_32.type(torch.float32)\n",
        "float_16_tensor.dtype "
      ],
      "metadata": {
        "colab": {
          "base_uri": "https://localhost:8080/"
        },
        "id": "ZXRnALlPZ2Gj",
        "outputId": "d6e284ea-b9d2-42d0-bdb8-6bf2d496993b"
      },
      "execution_count": null,
      "outputs": [
        {
          "output_type": "execute_result",
          "data": {
            "text/plain": [
              "torch.float32"
            ]
          },
          "metadata": {},
          "execution_count": 53
        }
      ]
    },
    {
      "cell_type": "code",
      "source": [
        "tensor_float_32 * float_16_tensor"
      ],
      "metadata": {
        "colab": {
          "base_uri": "https://localhost:8080/"
        },
        "id": "e8MC9dTLacx1",
        "outputId": "a78b7277-ac3a-4d0b-8907-b41e48820d7d"
      },
      "execution_count": null,
      "outputs": [
        {
          "output_type": "execute_result",
          "data": {
            "text/plain": [
              "tensor([ 9., 36., 81.])"
            ]
          },
          "metadata": {},
          "execution_count": 54
        }
      ]
    },
    {
      "cell_type": "code",
      "source": [
        "int_32_tensor = torch.tensor([3,6,9], dtype=torch.int32)\n",
        "int_32_tensor"
      ],
      "metadata": {
        "colab": {
          "base_uri": "https://localhost:8080/"
        },
        "id": "uMlsP-q1a-7t",
        "outputId": "7422c446-c037-4f28-d481-1fb77303a0ce"
      },
      "execution_count": null,
      "outputs": [
        {
          "output_type": "execute_result",
          "data": {
            "text/plain": [
              "tensor([3, 6, 9], dtype=torch.int32)"
            ]
          },
          "metadata": {},
          "execution_count": 55
        }
      ]
    },
    {
      "cell_type": "markdown",
      "source": [
        "####  Getting tensor atributtes:\n"
      ],
      "metadata": {
        "id": "eZzjOM5ccg1u"
      }
    },
    {
      "cell_type": "code",
      "source": [
        "# import torch\n",
        "# rand_tensor = torch.rand(4, 7,\n",
        "#                          device=\"cuda\")\n",
        "# rand_tensor"
      ],
      "metadata": {
        "id": "hqLD6S7BclIB"
      },
      "execution_count": null,
      "outputs": []
    },
    {
      "cell_type": "code",
      "source": [
        "rand_tensor.size(), rand_tensor.dtype"
      ],
      "metadata": {
        "colab": {
          "base_uri": "https://localhost:8080/",
          "height": 176
        },
        "id": "jKVrMczAc_eu",
        "outputId": "6d7d7746-a9cb-487d-e980-73d90ae6c98b"
      },
      "execution_count": null,
      "outputs": [
        {
          "output_type": "error",
          "ename": "NameError",
          "evalue": "ignored",
          "traceback": [
            "\u001b[0;31m---------------------------------------------------------------------------\u001b[0m",
            "\u001b[0;31mNameError\u001b[0m                                 Traceback (most recent call last)",
            "\u001b[0;32m<ipython-input-57-399a7578d804>\u001b[0m in \u001b[0;36m<cell line: 1>\u001b[0;34m()\u001b[0m\n\u001b[0;32m----> 1\u001b[0;31m \u001b[0mrand_tensor\u001b[0m\u001b[0;34m.\u001b[0m\u001b[0msize\u001b[0m\u001b[0;34m(\u001b[0m\u001b[0;34m)\u001b[0m\u001b[0;34m,\u001b[0m \u001b[0mrand_tensor\u001b[0m\u001b[0;34m.\u001b[0m\u001b[0mdtype\u001b[0m\u001b[0;34m\u001b[0m\u001b[0;34m\u001b[0m\u001b[0m\n\u001b[0m",
            "\u001b[0;31mNameError\u001b[0m: name 'rand_tensor' is not defined"
          ]
        }
      ]
    },
    {
      "cell_type": "code",
      "source": [
        "# details:\n",
        "import subprocess\n",
        "def tensor_info(tensor):\n",
        "\n",
        "  print(tensor)\n",
        "  print(f\"Tensor datatype -> {tensor.dtype}\")\n",
        "  print(f\"Shape[size] of Tensor -> {tensor.size()}\")\n",
        "  print(f\"Shape of Tensor -> {tensor.shape}\")\n",
        "  print(f\"Device tensor is on: {tensor.device}\")\n",
        "  gpu_info = subprocess.check_output(['nvidia-smi'])\n",
        "  print(\"Device information: \", gpu_info.decode('utf-8'))\n",
        "\n",
        "tensor_info(rand_tensor)\n"
      ],
      "metadata": {
        "id": "tpGAji7KdUcP"
      },
      "execution_count": null,
      "outputs": []
    },
    {
      "cell_type": "code",
      "source": [
        "# Manipulating TENSORS (Tensor operations)"
      ],
      "metadata": {
        "id": "idx38VJtrOPW"
      },
      "execution_count": null,
      "outputs": []
    },
    {
      "cell_type": "markdown",
      "source": [
        "### **PyTorch in-built functions!**"
      ],
      "metadata": {
        "id": "D83z1LiNH183"
      }
    },
    {
      "cell_type": "code",
      "source": [
        "tensor = torch.tensor([33, 14, 2023])\n",
        "tensor"
      ],
      "metadata": {
        "id": "hpSnsrZtH9t9"
      },
      "execution_count": null,
      "outputs": []
    },
    {
      "cell_type": "code",
      "source": [
        "tensor_mul = torch.mul(tensor, 2)\n",
        "tensor_mul"
      ],
      "metadata": {
        "id": "z730s2kkINLg"
      },
      "execution_count": null,
      "outputs": []
    },
    {
      "cell_type": "markdown",
      "source": [
        "## **01/abril/2023**\n",
        "https://www.mathsisfun.com/algebra/matrix-multiplying.html"
      ],
      "metadata": {
        "id": "pDtf76Gosx82"
      }
    },
    {
      "cell_type": "code",
      "source": [
        "# Element wise mult\n",
        "import torch\n",
        "tensor = torch.tensor([1,2,3])\n",
        "print(\"{} '*' {} \".format(tensor, tensor))\n",
        "\n",
        "print(f\"Equals: {tensor * tensor}\")"
      ],
      "metadata": {
        "id": "eYtBJDEFs5t_"
      },
      "execution_count": null,
      "outputs": []
    },
    {
      "cell_type": "code",
      "source": [
        "# Matrix Multiplication\n",
        "\n",
        "torch.matmul(tensor, tensor)"
      ],
      "metadata": {
        "id": "y04wqTE35em7"
      },
      "execution_count": null,
      "outputs": []
    },
    {
      "cell_type": "code",
      "source": [
        "# Matrix multiplication by hand:\n",
        "tensor"
      ],
      "metadata": {
        "id": "CryZWveA59vm"
      },
      "execution_count": null,
      "outputs": []
    },
    {
      "cell_type": "code",
      "source": [
        "mat_mul_by_hand = 1*1 + 2*2 + 3*3\n",
        "mat_mul_by_hand"
      ],
      "metadata": {
        "id": "HydChxFM6CZK"
      },
      "execution_count": null,
      "outputs": []
    },
    {
      "cell_type": "markdown",
      "source": [
        "**Por que?**  \n",
        "https://www.mathsisfun.com/algebra/matrix-multiplying.html"
      ],
      "metadata": {
        "id": "vExPjqqF6VQm"
      }
    },
    {
      "cell_type": "code",
      "source": [
        "%%time\n",
        "\n",
        "value = 0\n",
        "\n",
        "for i in range(len(tensor)):\n",
        "  value += tensor[i] * tensor[i]\n",
        "print(f\" The value is: {value}\")"
      ],
      "metadata": {
        "colab": {
          "base_uri": "https://localhost:8080/",
          "height": 157
        },
        "id": "f1aSpWw46bc2",
        "outputId": "fcac0a7c-e01f-4275-89df-9ed2e983834c"
      },
      "execution_count": null,
      "outputs": [
        {
          "output_type": "error",
          "ename": "NameError",
          "evalue": "ignored",
          "traceback": [
            "\u001b[0;31m---------------------------------------------------------------------------\u001b[0m",
            "\u001b[0;31mNameError\u001b[0m                                 Traceback (most recent call last)",
            "\u001b[0;32m<timed exec>\u001b[0m in \u001b[0;36m<module>\u001b[0;34m\u001b[0m\n",
            "\u001b[0;31mNameError\u001b[0m: name 'tensor' is not defined"
          ]
        }
      ]
    },
    {
      "cell_type": "code",
      "source": [
        "%%time\n",
        "# en datasets enormes, se recomienda usar built-in fn de Pytorch\n",
        "torch.matmul(tensor,tensor)\n"
      ],
      "metadata": {
        "id": "pEQF6c7p7xv0"
      },
      "execution_count": null,
      "outputs": []
    },
    {
      "cell_type": "markdown",
      "source": [
        "There are two main rules that performing matrix multp needs to satisfy:  \n",
        "1. The **inner dimensions** must match.\n",
        "* `(3,2) @ (3,2)` won't work\n",
        "* `(3,2) @ (2,3)` will work\n",
        "* `(2,3) @ (3,2)` will work\n",
        "\n"
      ],
      "metadata": {
        "id": "wCPdv7C3ETyA"
      }
    },
    {
      "cell_type": "code",
      "source": [
        "# Common error:\n",
        "\n",
        "torch.matmul(torch.rand(3,2), torch.rand(3,2))"
      ],
      "metadata": {
        "colab": {
          "base_uri": "https://localhost:8080/",
          "height": 214
        },
        "id": "f3GKJdRCEJ-n",
        "outputId": "74410817-ff0b-458f-cc72-60cf703a8e5c"
      },
      "execution_count": null,
      "outputs": [
        {
          "output_type": "error",
          "ename": "RuntimeError",
          "evalue": "ignored",
          "traceback": [
            "\u001b[0;31m---------------------------------------------------------------------------\u001b[0m",
            "\u001b[0;31mRuntimeError\u001b[0m                              Traceback (most recent call last)",
            "\u001b[0;32m<ipython-input-59-829e5ff7d07c>\u001b[0m in \u001b[0;36m<cell line: 3>\u001b[0;34m()\u001b[0m\n\u001b[1;32m      1\u001b[0m \u001b[0;31m# Common error:\u001b[0m\u001b[0;34m\u001b[0m\u001b[0;34m\u001b[0m\u001b[0m\n\u001b[1;32m      2\u001b[0m \u001b[0;34m\u001b[0m\u001b[0m\n\u001b[0;32m----> 3\u001b[0;31m \u001b[0mtorch\u001b[0m\u001b[0;34m.\u001b[0m\u001b[0mmatmul\u001b[0m\u001b[0;34m(\u001b[0m\u001b[0mtorch\u001b[0m\u001b[0;34m.\u001b[0m\u001b[0mrand\u001b[0m\u001b[0;34m(\u001b[0m\u001b[0;36m3\u001b[0m\u001b[0;34m,\u001b[0m\u001b[0;36m2\u001b[0m\u001b[0;34m)\u001b[0m\u001b[0;34m,\u001b[0m \u001b[0mtorch\u001b[0m\u001b[0;34m.\u001b[0m\u001b[0mrand\u001b[0m\u001b[0;34m(\u001b[0m\u001b[0;36m3\u001b[0m\u001b[0;34m,\u001b[0m\u001b[0;36m2\u001b[0m\u001b[0;34m)\u001b[0m\u001b[0;34m)\u001b[0m\u001b[0;34m\u001b[0m\u001b[0;34m\u001b[0m\u001b[0m\n\u001b[0m",
            "\u001b[0;31mRuntimeError\u001b[0m: mat1 and mat2 shapes cannot be multiplied (3x2 and 3x2)"
          ]
        }
      ]
    },
    {
      "cell_type": "markdown",
      "source": [
        "2. The resulting matrix has the shape of the **outer dimensions**.  \n",
        "`(2,3) @ (3,2)` -> `(2,2)`  \n",
        "`(3,2) @ (2,3)` -> `(3,3)`\n"
      ],
      "metadata": {
        "id": "9Me_AexCHJ0l"
      }
    },
    {
      "cell_type": "markdown",
      "source": [
        "# One of the most common errors in ***deep learning***: **shape errors**"
      ],
      "metadata": {
        "id": "4H2EPE8mIZru"
      }
    },
    {
      "cell_type": "code",
      "source": [
        "import torch\n",
        "tensor_A = torch.tensor([[1,2],\n",
        "                         [3,4],\n",
        "                         [5,6]])\n",
        "\n",
        "tensor_B = torch.tensor([[7,10],\n",
        "                         [8,11],\n",
        "                         [9,12]])\n",
        "\n",
        "# A transpose switches the axes or dimensions of a given tensor.\n",
        "# https://pytorch.org/docs/stable/generated/torch.transpose.html#torch.transpose\n",
        "\n",
        "# tensor_B = tensor_B.T\n",
        "\n",
        "tensor_A.shape, tensor_B.shape\n",
        "\n",
        "# torch.mm(tensor_A, tensor_B)"
      ],
      "metadata": {
        "id": "nJ6OxjiUJKOM"
      },
      "execution_count": null,
      "outputs": []
    },
    {
      "cell_type": "code",
      "source": [
        "print(f\"Tensor B sin T: {tensor_B}\\n\"  \n",
        "      f\"\\n Tensor B T: {tensor_B.T}\")"
      ],
      "metadata": {
        "id": "CNbkpxzfWSMA"
      },
      "execution_count": null,
      "outputs": []
    },
    {
      "cell_type": "code",
      "source": [
        "tensor_A.shape, tensor_B.shape\n",
        "\n",
        "torch.mm(tensor_A, tensor_B.T)\n"
      ],
      "metadata": {
        "id": "G1qiwuezW4Eg"
      },
      "execution_count": null,
      "outputs": []
    },
    {
      "cell_type": "markdown",
      "source": [
        "### The matrix multiplication operations works when **tensor_B** is transposed. "
      ],
      "metadata": {
        "id": "jsIqbzgsXoqC"
      }
    },
    {
      "cell_type": "code",
      "source": [
        "print(f\"Original shapes: tensor_A = {tensor_A.shape}, tensor_B = {tensor_B.shape}\")\n",
        "print(f\"New shapes: tensor_A = {tensor_A.shape} (same shape as above), tensor_B.T = {tensor_B.T.shape}\")\n",
        "print(f\"Multiplying: {tensor_A.shape} @ {tensor_B.T.shape}\")\n",
        "print(f\"\\n Output: \\n\")\n",
        "result = torch.mm(tensor_A, tensor_B.T)\n",
        "print(result)\n",
        "print(f\"\\n Output shape: {result.shape} \\n\")\n"
      ],
      "metadata": {
        "id": "sp3PUzifX4UB"
      },
      "execution_count": null,
      "outputs": []
    },
    {
      "cell_type": "markdown",
      "source": [
        "## Finding the `mean, min, max, sum`, etc **(tensor aggregation)**"
      ],
      "metadata": {
        "id": "L_hkv_3sajaB"
      }
    },
    {
      "cell_type": "code",
      "source": [
        "# Create a tensor:\n",
        "\n",
        "x = torch.arange(start=0, end=100, step=10)\n",
        "x"
      ],
      "metadata": {
        "colab": {
          "base_uri": "https://localhost:8080/"
        },
        "id": "AssJ_2MoaxDl",
        "outputId": "cefcf034-4736-42b1-b4a8-c0f9fd751016"
      },
      "execution_count": null,
      "outputs": [
        {
          "output_type": "execute_result",
          "data": {
            "text/plain": [
              "tensor([ 0, 10, 20, 30, 40, 50, 60, 70, 80, 90])"
            ]
          },
          "metadata": {},
          "execution_count": 61
        }
      ]
    },
    {
      "cell_type": "code",
      "source": [
        "# Find the min\n",
        "torch.min(x), x.min()"
      ],
      "metadata": {
        "colab": {
          "base_uri": "https://localhost:8080/"
        },
        "id": "3rmHdg1fbT9A",
        "outputId": "389f3d8a-5d5d-40a0-b6e3-414f8df28fd0"
      },
      "execution_count": null,
      "outputs": [
        {
          "output_type": "execute_result",
          "data": {
            "text/plain": [
              "(tensor(0), tensor(0))"
            ]
          },
          "metadata": {},
          "execution_count": 62
        }
      ]
    },
    {
      "cell_type": "code",
      "source": [
        "# Find the max\n",
        "torch.max(x), x.max()"
      ],
      "metadata": {
        "colab": {
          "base_uri": "https://localhost:8080/"
        },
        "id": "aWGFP4zSbckD",
        "outputId": "38011278-5243-48f8-866d-bf5d430805bc"
      },
      "execution_count": null,
      "outputs": [
        {
          "output_type": "execute_result",
          "data": {
            "text/plain": [
              "(tensor(90), tensor(90))"
            ]
          },
          "metadata": {},
          "execution_count": 63
        }
      ]
    },
    {
      "cell_type": "code",
      "source": [
        "# Find the mean:\n",
        "\n",
        "torch.mean(x.type(torch.float)), x.type(torch.float).mean()"
      ],
      "metadata": {
        "colab": {
          "base_uri": "https://localhost:8080/"
        },
        "id": "EyZzWv0Jbhut",
        "outputId": "51e1d898-4b95-4b32-fd7b-d241269d2624"
      },
      "execution_count": null,
      "outputs": [
        {
          "output_type": "execute_result",
          "data": {
            "text/plain": [
              "(tensor(45.), tensor(45.))"
            ]
          },
          "metadata": {},
          "execution_count": 64
        }
      ]
    },
    {
      "cell_type": "code",
      "source": [
        "# Find the sum:\n",
        "torch.sum(x), x.sum()"
      ],
      "metadata": {
        "colab": {
          "base_uri": "https://localhost:8080/"
        },
        "id": "AbQ95Pqec14y",
        "outputId": "c08d552e-316e-4617-ec58-d531300489c1"
      },
      "execution_count": null,
      "outputs": [
        {
          "output_type": "execute_result",
          "data": {
            "text/plain": [
              "(tensor(450), tensor(450))"
            ]
          },
          "metadata": {},
          "execution_count": 65
        }
      ]
    },
    {
      "cell_type": "code",
      "source": [
        "# Returns the indices of the maximum and minimum values of all elements in the input tensor.\n",
        "\n",
        "torch.argmin(x), x.argmin(), torch.argmax(x), x.argmax()"
      ],
      "metadata": {
        "colab": {
          "base_uri": "https://localhost:8080/"
        },
        "id": "ncEBSyiVdIqe",
        "outputId": "f7ca10d2-ccc3-4f37-f711-d9134a87a164"
      },
      "execution_count": null,
      "outputs": [
        {
          "output_type": "execute_result",
          "data": {
            "text/plain": [
              "(tensor(0), tensor(0), tensor(9), tensor(9))"
            ]
          },
          "metadata": {},
          "execution_count": 66
        }
      ]
    },
    {
      "cell_type": "markdown",
      "source": [
        "### Reshaping, stacking, squeezing, unsqueezing tensors:  \n",
        "**A veces es necesario cambiar la forma de un tensor para poder realizar ciertas operaciones.**\n",
        "\n",
        "* Reshaping (remodelado) Cambia la forma de un tensor manteniendo el mismo número total de elementos. \n",
        "Por ejemplo, si tienes un tensor de forma (3, 4) que contiene 12 elementos, \n",
        "puedes remodelarlo en un tensor de forma (4, 3) que también contiene 12 elementos. La operación de remodelado no cambia los datos en sí, solo cambia la forma en que se organizan.\n",
        "\n",
        "* Stacking (apilado):   Combina varios tensores a lo largo de una nueva dimensión. Por ejemplo, si tienes dos tensores de forma (3, 4) y los apilas a lo largo de la dimensión 0, obtendrás un tensor de forma (2, 3, 4). La operación de apilado es útil cuando se quiere combinar datos de múltiples fuentes.\n",
        "\n",
        "* Squeezing (comprimir):   Elimina las dimensiones de tamaño 1 de un tensor. Por ejemplo, si tienes un tensor de forma (1, 3, 1, 4), puedes comprimirlo en un tensor de forma (3, 4) mediante la eliminación de las dimensiones de tamaño 1. La operación de compresión se utiliza para simplificar la forma de un tensor.\n",
        "\n",
        "* Unsqueezing (descomprimir):   Agrega dimensiones de tamaño 1 a un tensor existente. Por ejemplo, si tienes un tensor de forma (3, 4), puedes descomprimirlo en un tensor de forma (1, 3, 1, 4) mediante la adición de dimensiones de tamaño 1. La operación de descompresión es útil cuando se quiere cambiar la forma de un tensor para poder realizar operaciones que requieren una dimensión adicional."
      ],
      "metadata": {
        "id": "dlcgzXsaeoiM"
      }
    },
    {
      "cell_type": "code",
      "source": [
        "import torch\n",
        "\n",
        "x = torch.arange(1. ,10.)\n",
        "x, x.shape"
      ],
      "metadata": {
        "colab": {
          "base_uri": "https://localhost:8080/"
        },
        "id": "o3IoFBswgm31",
        "outputId": "d533730c-e5cd-4091-8a9f-5ac2758fed95"
      },
      "execution_count": null,
      "outputs": [
        {
          "output_type": "execute_result",
          "data": {
            "text/plain": [
              "(tensor([1., 2., 3., 4., 5., 6., 7., 8., 9.]), torch.Size([9]))"
            ]
          },
          "metadata": {},
          "execution_count": 67
        }
      ]
    },
    {
      "cell_type": "code",
      "source": [
        "# Add an extra dimension:\n",
        "x_reshaped = x.reshape(1,9)\n",
        "x_reshaped, x_reshaped.shape"
      ],
      "metadata": {
        "colab": {
          "base_uri": "https://localhost:8080/"
        },
        "id": "oeWMk1yUiP8F",
        "outputId": "86abac3a-a983-4836-ac51-29b4cb477b3b"
      },
      "execution_count": null,
      "outputs": [
        {
          "output_type": "execute_result",
          "data": {
            "text/plain": [
              "(tensor([[1., 2., 3., 4., 5., 6., 7., 8., 9.]]), torch.Size([1, 9]))"
            ]
          },
          "metadata": {},
          "execution_count": 68
        }
      ]
    },
    {
      "cell_type": "code",
      "source": [
        "# Add an extra dimension:\n",
        "x_reshaped = x.reshape(9,1)\n",
        "x_reshaped, x_reshaped.shape"
      ],
      "metadata": {
        "id": "-9-0W-hljCzV",
        "outputId": "de33c8fc-aada-480d-efda-7177932cad5b",
        "colab": {
          "base_uri": "https://localhost:8080/"
        }
      },
      "execution_count": null,
      "outputs": [
        {
          "output_type": "execute_result",
          "data": {
            "text/plain": [
              "(tensor([[1.],\n",
              "         [2.],\n",
              "         [3.],\n",
              "         [4.],\n",
              "         [5.],\n",
              "         [6.],\n",
              "         [7.],\n",
              "         [8.],\n",
              "         [9.]]),\n",
              " torch.Size([9, 1]))"
            ]
          },
          "metadata": {},
          "execution_count": 69
        }
      ]
    },
    {
      "cell_type": "code",
      "source": [
        "x_two = torch.arange(1., 10.)\n",
        "x_reshaped_two = x_two.reshape(1,9)\n",
        "x_reshaped_two"
      ],
      "metadata": {
        "id": "n0V-jMc8jFKn",
        "colab": {
          "base_uri": "https://localhost:8080/"
        },
        "outputId": "75bcf756-c6f8-4eb9-9e98-c2f7e223c241"
      },
      "execution_count": null,
      "outputs": [
        {
          "output_type": "execute_result",
          "data": {
            "text/plain": [
              "tensor([[1., 2., 3., 4., 5., 6., 7., 8., 9.]])"
            ]
          },
          "metadata": {},
          "execution_count": 70
        }
      ]
    },
    {
      "cell_type": "code",
      "source": [
        "x_3 = torch.arange(1, 11)\n",
        "x_3.shape\n",
        "\n",
        "x_3_reshaped = x_3.reshape(5,2)\n",
        "x_3_reshaped"
      ],
      "metadata": {
        "colab": {
          "base_uri": "https://localhost:8080/"
        },
        "id": "ZhQzsZdLHDkk",
        "outputId": "9e148378-58d6-4855-afd8-b86be5b6ec3a"
      },
      "execution_count": null,
      "outputs": [
        {
          "output_type": "execute_result",
          "data": {
            "text/plain": [
              "tensor([[ 1,  2],\n",
              "        [ 3,  4],\n",
              "        [ 5,  6],\n",
              "        [ 7,  8],\n",
              "        [ 9, 10]])"
            ]
          },
          "metadata": {},
          "execution_count": 71
        }
      ]
    },
    {
      "cell_type": "markdown",
      "source": [
        "### ***Change the view***"
      ],
      "metadata": {
        "id": "j1xJFD2iJXII"
      }
    },
    {
      "cell_type": "code",
      "source": [
        "import torch\n",
        "\n",
        "x = torch.arange(1. ,10.)\n",
        "x, x.shape\n",
        "\n",
        "v = x.view(1,9)\n",
        "v , v.shape"
      ],
      "metadata": {
        "colab": {
          "base_uri": "https://localhost:8080/"
        },
        "id": "uoM8vGyhJtO_",
        "outputId": "3acbd561-0b0f-4812-b29c-23d07182356b"
      },
      "execution_count": null,
      "outputs": [
        {
          "output_type": "execute_result",
          "data": {
            "text/plain": [
              "(tensor([[1., 2., 3., 4., 5., 6., 7., 8., 9.]]), torch.Size([1, 9]))"
            ]
          },
          "metadata": {},
          "execution_count": 72
        }
      ]
    },
    {
      "cell_type": "markdown",
      "source": [
        "### Changing z changes x **(because a view of a tensor shares the same memory as the original tensor)**"
      ],
      "metadata": {
        "id": "cHIGnC0BLHfl"
      }
    },
    {
      "cell_type": "code",
      "source": [
        "v[:, 0] = 5\n",
        "x, v"
      ],
      "metadata": {
        "colab": {
          "base_uri": "https://localhost:8080/"
        },
        "id": "OJJgOUSXLcW3",
        "outputId": "967043d5-823f-4de4-8645-0bcbafae3b36"
      },
      "execution_count": null,
      "outputs": [
        {
          "output_type": "execute_result",
          "data": {
            "text/plain": [
              "(tensor([5., 2., 3., 4., 5., 6., 7., 8., 9.]),\n",
              " tensor([[5., 2., 3., 4., 5., 6., 7., 8., 9.]]))"
            ]
          },
          "metadata": {},
          "execution_count": 73
        }
      ]
    },
    {
      "cell_type": "markdown",
      "source": [
        "## Stack tensors on top of each other"
      ],
      "metadata": {
        "id": "2g6jEyp7Mosd"
      }
    },
    {
      "cell_type": "code",
      "source": [
        "x_stacked = torch.stack([x, x, x, x], dim=0)\n",
        "x_stacked"
      ],
      "metadata": {
        "colab": {
          "base_uri": "https://localhost:8080/"
        },
        "id": "MuEAOwSwMzX2",
        "outputId": "5daea2fb-70ef-4135-f43b-68865650c76d"
      },
      "execution_count": null,
      "outputs": [
        {
          "output_type": "execute_result",
          "data": {
            "text/plain": [
              "tensor([[5., 2., 3., 4., 5., 6., 7., 8., 9.],\n",
              "        [5., 2., 3., 4., 5., 6., 7., 8., 9.],\n",
              "        [5., 2., 3., 4., 5., 6., 7., 8., 9.],\n",
              "        [5., 2., 3., 4., 5., 6., 7., 8., 9.]])"
            ]
          },
          "metadata": {},
          "execution_count": 74
        }
      ]
    },
    {
      "cell_type": "code",
      "source": [
        "import torch\n",
        "\n",
        "# Creamos una lista de tensores de forma (2,)\n",
        "t1 = torch.tensor([1, 2])\n",
        "t2 = torch.tensor([3, 4])\n",
        "t3 = torch.tensor([5, 6])\n",
        "tensor_list = [t1, t2, t3]\n",
        "\n",
        "# Usamos torch.stack para concatenar la lista de tensores a lo largo de una nueva dimensión\n",
        "stacked_tensor = torch.stack(tensor_list, dim=0)\n",
        "\n",
        "print(\"tensor_list: \\n\", tensor_list )\n",
        "print(\"\\n stacked_tensor: \", stacked_tensor)\n"
      ],
      "metadata": {
        "colab": {
          "base_uri": "https://localhost:8080/"
        },
        "id": "wFdSjH5kOOLd",
        "outputId": "a0e65539-8ba1-4739-ed68-2d896063281a"
      },
      "execution_count": null,
      "outputs": [
        {
          "output_type": "stream",
          "name": "stdout",
          "text": [
            "tensor_list: \n",
            " [tensor([1, 2]), tensor([3, 4]), tensor([5, 6])]\n",
            "\n",
            " stacked_tensor:  tensor([[1, 2],\n",
            "        [3, 4],\n",
            "        [5, 6]])\n"
          ]
        }
      ]
    },
    {
      "cell_type": "code",
      "source": [
        "# .squeeze() -> PyTorch docs:\n",
        "x = torch.zeros(2, 1, 2, 1, 2)\n",
        "x.size()\n",
        "y = torch.squeeze(x)\n",
        "y.size()\n",
        "y = torch.squeeze(x, 0)\n",
        "y.size()\n",
        "y = torch.squeeze(x, 1)\n",
        "y.size()\n",
        "y = torch.squeeze(x, (1, 2, 3))\n",
        "y.size()"
      ],
      "metadata": {
        "colab": {
          "base_uri": "https://localhost:8080/"
        },
        "id": "wt6TWR4QRC7B",
        "outputId": "e5763b51-eb9e-4c91-d650-139e7549d980"
      },
      "execution_count": null,
      "outputs": [
        {
          "output_type": "execute_result",
          "data": {
            "text/plain": [
              "torch.Size([2, 2, 2])"
            ]
          },
          "metadata": {},
          "execution_count": 76
        }
      ]
    },
    {
      "cell_type": "code",
      "source": [
        "# torch.squeeze() -> Removes all single dimensions from a target tensor\n",
        "print(f\"Previous tensor {v}\")\n",
        "print(f\"Previous shape {v.shape}\")\n",
        "\n",
        "# remove extra dimensions\n",
        "v_squeezed = v.squeeze()\n",
        "print(f\"New tensor {v_squeezed}\")\n",
        "print(f\"Previous shape {v_squeezed.shape}\")\n"
      ],
      "metadata": {
        "colab": {
          "base_uri": "https://localhost:8080/"
        },
        "id": "-_NV9P2JUXB0",
        "outputId": "4d85f8ff-b458-43f5-e959-c182ef45e7be"
      },
      "execution_count": null,
      "outputs": [
        {
          "output_type": "stream",
          "name": "stdout",
          "text": [
            "Previous tensor tensor([[5., 2., 3., 4., 5., 6., 7., 8., 9.]])\n",
            "Previous shape torch.Size([1, 9])\n",
            "New tensor tensor([5., 2., 3., 4., 5., 6., 7., 8., 9.])\n",
            "Previous shape torch.Size([9])\n"
          ]
        }
      ]
    },
    {
      "cell_type": "code",
      "source": [
        "# torch.unsqueeze(): adds a sinlge dimension to a target tensor at a specific dimension\n",
        "x = torch.tensor([1, 2, 3, 4])\n",
        "x.shape\n",
        "\n",
        "x, torch.unsqueeze(x, 0), torch.unsqueeze(x, 1)"
      ],
      "metadata": {
        "colab": {
          "base_uri": "https://localhost:8080/"
        },
        "id": "45xBikLXZ97j",
        "outputId": "15eacbc9-9d11-4cdd-89d7-25a9b7d298af"
      },
      "execution_count": null,
      "outputs": [
        {
          "output_type": "execute_result",
          "data": {
            "text/plain": [
              "(tensor([1, 2, 3, 4]),\n",
              " tensor([[1, 2, 3, 4]]),\n",
              " tensor([[1],\n",
              "         [2],\n",
              "         [3],\n",
              "         [4]]))"
            ]
          },
          "metadata": {},
          "execution_count": 78
        }
      ]
    },
    {
      "cell_type": "code",
      "source": [
        "print(f\"Previous target: {v}\")\n",
        "print(f\"Previous shape: {v.shape}\")\n",
        "print(\"\")\n",
        "v_unsqueezed = v.unsqueeze(dim=0)\n",
        "print(f\"\\n New tensor: {v_unsqueezed}\")\n",
        "print(f\"Previous shape: {v_unsqueezed.shape}\")"
      ],
      "metadata": {
        "colab": {
          "base_uri": "https://localhost:8080/"
        },
        "id": "MIyhFHR7a9U5",
        "outputId": "414d4765-bd18-4098-f283-421dc95211c5"
      },
      "execution_count": null,
      "outputs": [
        {
          "output_type": "stream",
          "name": "stdout",
          "text": [
            "Previous target: tensor([[5., 2., 3., 4., 5., 6., 7., 8., 9.]])\n",
            "Previous shape: torch.Size([1, 9])\n",
            "\n",
            "\n",
            " New tensor: tensor([[[5., 2., 3., 4., 5., 6., 7., 8., 9.]]])\n",
            "Previous shape: torch.Size([1, 1, 9])\n"
          ]
        }
      ]
    },
    {
      "cell_type": "markdown",
      "source": [
        "## Returns a view of the original tensor input with its dimensions permuted.\n",
        "**No cambia el tensor, solo lo reasigna tal y como queramos**  \n",
        "*Parameters:*\n",
        "\n",
        "        input (Tensor) – the input tensor.\n",
        "\n",
        "        dims (tuple of python:int) – The desired ordering of dimensions\n",
        "\n"
      ],
      "metadata": {
        "id": "h1vucsrTcK0D"
      }
    },
    {
      "cell_type": "code",
      "source": [
        "x = torch.randn(2, 3, 5)\n",
        "print('X:', x)\n",
        "\n"
      ],
      "metadata": {
        "colab": {
          "base_uri": "https://localhost:8080/"
        },
        "id": "Ha4urDlBcdmS",
        "outputId": "12b5d920-43d5-4dbf-c940-28840fd84fb1"
      },
      "execution_count": null,
      "outputs": [
        {
          "output_type": "stream",
          "name": "stdout",
          "text": [
            "X: tensor([[[ 0.0544,  0.0941, -0.8067, -0.7289,  1.1259],\n",
            "         [ 0.7818,  0.7628,  0.0813, -0.7516, -1.9001],\n",
            "         [ 0.1012, -1.3748, -0.4291, -0.2659, -0.6971]],\n",
            "\n",
            "        [[-0.1670,  0.0446, -1.1380,  0.6405,  0.8444],\n",
            "         [ 0.7593, -1.1280,  2.6799,  0.0169,  1.2478],\n",
            "         [-0.1156,  1.4532, -1.2461,  0.0612,  3.3290]]])\n"
          ]
        }
      ]
    },
    {
      "cell_type": "code",
      "source": [
        "x_permuted = torch.permute(x, (2,0,1))\n",
        "x_permuted"
      ],
      "metadata": {
        "colab": {
          "base_uri": "https://localhost:8080/"
        },
        "id": "zp0PVhAXf3xP",
        "outputId": "29cf3200-e221-466a-94d2-3590c2bf52cc"
      },
      "execution_count": null,
      "outputs": [
        {
          "output_type": "execute_result",
          "data": {
            "text/plain": [
              "tensor([[[ 0.0544,  0.7818,  0.1012],\n",
              "         [-0.1670,  0.7593, -0.1156]],\n",
              "\n",
              "        [[ 0.0941,  0.7628, -1.3748],\n",
              "         [ 0.0446, -1.1280,  1.4532]],\n",
              "\n",
              "        [[-0.8067,  0.0813, -0.4291],\n",
              "         [-1.1380,  2.6799, -1.2461]],\n",
              "\n",
              "        [[-0.7289, -0.7516, -0.2659],\n",
              "         [ 0.6405,  0.0169,  0.0612]],\n",
              "\n",
              "        [[ 1.1259, -1.9001, -0.6971],\n",
              "         [ 0.8444,  1.2478,  3.3290]]])"
            ]
          },
          "metadata": {},
          "execution_count": 81
        }
      ]
    },
    {
      "cell_type": "code",
      "source": [
        "# torch.permute - rearreanges the dimesnions of a target tensor in a specific order\n",
        "import torch\n",
        "\n",
        "x_original = torch.rand(size=(224,224,3)) #[height, widht, colour_channels]\n",
        "\n",
        "# Permute the original tensor to rearrange the axis (or dim) order\n",
        "x_perm = x_original.permute(2,0,1) \n",
        "\n",
        "# This function prints the shape of two PyTorch tensors, before and after\n",
        "# reshaping them. The tensors must have the same number of dimensions.\n",
        "# Arguments:\n",
        "# - prev: the original tensor\n",
        "# - next: the reshaped tensor\n",
        "\n",
        "def shapeView(prev, next):\n",
        "    assert isinstance(prev, torch.Tensor) and isinstance(next, torch.Tensor)\n",
        "    assert prev.dim() == next.dim()\n",
        "    \n",
        "    # Print the original shape and the new shape\n",
        "    print(f\"Previous shape: {prev.shape}\")\n",
        "    print(f\"New shape: {next.shape}\")\n",
        "    "
      ],
      "metadata": {
        "id": "TwQWbW3lkInB"
      },
      "execution_count": null,
      "outputs": []
    },
    {
      "cell_type": "code",
      "source": [
        "shapeView(prev=x_original, next=x_perm)"
      ],
      "metadata": {
        "id": "O4-o04kTclYX",
        "colab": {
          "base_uri": "https://localhost:8080/"
        },
        "outputId": "3238cbec-5349-43db-d99c-77bff534e4c4"
      },
      "execution_count": null,
      "outputs": [
        {
          "output_type": "stream",
          "name": "stdout",
          "text": [
            "Previous shape: torch.Size([224, 224, 3])\n",
            "New shape: torch.Size([3, 224, 224])\n"
          ]
        }
      ]
    },
    {
      "cell_type": "markdown",
      "source": [
        "**Indexing *(selecting data from tensors)*** "
      ],
      "metadata": {
        "id": "e4VkgXkVc14N"
      }
    },
    {
      "cell_type": "code",
      "source": [
        "import torch\n",
        "\n",
        "x = torch.arange(1, 10)\n",
        "# x, x.shape\n",
        "\n",
        "# reshape the tensor \n",
        "x = torch.arange(1, 10).reshape(1,3,3)\n",
        "x, x.shape\n"
      ],
      "metadata": {
        "colab": {
          "base_uri": "https://localhost:8080/"
        },
        "id": "3al4fExLdCWo",
        "outputId": "6aa139d0-57fe-420b-b0eb-289f4c3a9f66"
      },
      "execution_count": null,
      "outputs": [
        {
          "output_type": "execute_result",
          "data": {
            "text/plain": [
              "(tensor([[[1, 2, 3],\n",
              "          [4, 5, 6],\n",
              "          [7, 8, 9]]]),\n",
              " torch.Size([1, 3, 3]))"
            ]
          },
          "metadata": {},
          "execution_count": 8
        }
      ]
    },
    {
      "cell_type": "code",
      "source": [
        "x[0]"
      ],
      "metadata": {
        "colab": {
          "base_uri": "https://localhost:8080/"
        },
        "id": "wFKcpOYEd1Iw",
        "outputId": "41b7425a-8848-484e-c1ae-df4ccea0bd7d"
      },
      "execution_count": null,
      "outputs": [
        {
          "output_type": "execute_result",
          "data": {
            "text/plain": [
              "tensor([[1, 2, 3],\n",
              "        [4, 5, 6],\n",
              "        [7, 8, 9]])"
            ]
          },
          "metadata": {},
          "execution_count": 10
        }
      ]
    },
    {
      "cell_type": "code",
      "source": [
        "x[0][0], x[0][1], x[0,2] # equals to x[0][2]"
      ],
      "metadata": {
        "colab": {
          "base_uri": "https://localhost:8080/"
        },
        "id": "zV4vznUoeJJU",
        "outputId": "a85dd39e-753b-463b-8ff3-20844ef4c1ba"
      },
      "execution_count": null,
      "outputs": [
        {
          "output_type": "execute_result",
          "data": {
            "text/plain": [
              "(tensor([1, 2, 3]), tensor([4, 5, 6]), tensor([7, 8, 9]))"
            ]
          },
          "metadata": {},
          "execution_count": 12
        }
      ]
    },
    {
      "cell_type": "code",
      "source": [
        "x[0][2][2]"
      ],
      "metadata": {
        "colab": {
          "base_uri": "https://localhost:8080/"
        },
        "id": "I1WqmJ9keMIM",
        "outputId": "f5755888-9c05-47ec-adfd-d300a75c5003"
      },
      "execution_count": null,
      "outputs": [
        {
          "output_type": "execute_result",
          "data": {
            "text/plain": [
              "tensor(9)"
            ]
          },
          "metadata": {},
          "execution_count": 19
        }
      ]
    },
    {
      "cell_type": "code",
      "source": [
        "x[:, :, 1]"
      ],
      "metadata": {
        "colab": {
          "base_uri": "https://localhost:8080/"
        },
        "id": "oJkgrP9Afmk4",
        "outputId": "dd249314-986d-4d45-ce56-2bfa2415fa35"
      },
      "execution_count": null,
      "outputs": [
        {
          "output_type": "execute_result",
          "data": {
            "text/plain": [
              "tensor([[2, 5, 8]])"
            ]
          },
          "metadata": {},
          "execution_count": 21
        }
      ]
    },
    {
      "cell_type": "code",
      "source": [
        "x[:, 1, 1]"
      ],
      "metadata": {
        "colab": {
          "base_uri": "https://localhost:8080/"
        },
        "id": "jF-EAeYtf-9Z",
        "outputId": "61f2dc74-5710-4ef4-924a-396d1cd21ebc"
      },
      "execution_count": null,
      "outputs": [
        {
          "output_type": "execute_result",
          "data": {
            "text/plain": [
              "tensor([5])"
            ]
          },
          "metadata": {},
          "execution_count": 22
        }
      ]
    },
    {
      "cell_type": "code",
      "source": [
        "x[0,0,:]"
      ],
      "metadata": {
        "colab": {
          "base_uri": "https://localhost:8080/"
        },
        "id": "VR75oBq6gefI",
        "outputId": "29005000-ab0f-4ca9-b9e4-8a47af1c6538"
      },
      "execution_count": null,
      "outputs": [
        {
          "output_type": "execute_result",
          "data": {
            "text/plain": [
              "tensor([1, 2, 3])"
            ]
          },
          "metadata": {},
          "execution_count": 23
        }
      ]
    },
    {
      "cell_type": "code",
      "source": [
        "x"
      ],
      "metadata": {
        "colab": {
          "base_uri": "https://localhost:8080/"
        },
        "id": "9shbO3Qig6b8",
        "outputId": "092d8d40-3390-4efb-9272-62c63555f779"
      },
      "execution_count": null,
      "outputs": [
        {
          "output_type": "execute_result",
          "data": {
            "text/plain": [
              "tensor([[[1, 2, 3],\n",
              "         [4, 5, 6],\n",
              "         [7, 8, 9]]])"
            ]
          },
          "metadata": {},
          "execution_count": 25
        }
      ]
    },
    {
      "cell_type": "code",
      "source": [
        "x[:,2,2]\n",
        "x[0,2,2]\n",
        "\n",
        "x[:,:,2].T"
      ],
      "metadata": {
        "colab": {
          "base_uri": "https://localhost:8080/"
        },
        "id": "_KeYMip6g8BV",
        "outputId": "eabc1718-4c56-495d-d7b3-f70330dcce31"
      },
      "execution_count": null,
      "outputs": [
        {
          "output_type": "execute_result",
          "data": {
            "text/plain": [
              "tensor([[3],\n",
              "        [6],\n",
              "        [9]])"
            ]
          },
          "metadata": {},
          "execution_count": 32
        }
      ]
    },
    {
      "cell_type": "markdown",
      "source": [
        "## PyTorch tensors & **NumPy**"
      ],
      "metadata": {
        "id": "XVhf6sYEiD8P"
      }
    },
    {
      "cell_type": "code",
      "source": [
        "# Numpy array to tensor\n",
        "import torch\n",
        "import numpy as np\n",
        "\n",
        "array = np.arange(1.0, 8.0)\n",
        "\n",
        "tensor = torch.from_numpy(array)\n",
        "array, tensor"
      ],
      "metadata": {
        "colab": {
          "base_uri": "https://localhost:8080/"
        },
        "id": "io6q-pAqiKWd",
        "outputId": "2a70f8c9-c153-4aa2-9dea-3ad542d4f625"
      },
      "execution_count": null,
      "outputs": [
        {
          "output_type": "execute_result",
          "data": {
            "text/plain": [
              "(array([1., 2., 3., 4., 5., 6., 7.]),\n",
              " tensor([1., 2., 3., 4., 5., 6., 7.], dtype=torch.float64))"
            ]
          },
          "metadata": {},
          "execution_count": 35
        }
      ]
    },
    {
      "cell_type": "code",
      "source": [
        "array.dtype, tensor.dtype"
      ],
      "metadata": {
        "colab": {
          "base_uri": "https://localhost:8080/"
        },
        "id": "bP1XSkXNkjvJ",
        "outputId": "604c5e38-8b00-4c34-dc79-23905075e12b"
      },
      "execution_count": null,
      "outputs": [
        {
          "output_type": "execute_result",
          "data": {
            "text/plain": [
              "(dtype('float64'), torch.float64)"
            ]
          },
          "metadata": {},
          "execution_count": 38
        }
      ]
    },
    {
      "cell_type": "code",
      "source": [
        "# warning: el valor por defecto de numpy es float.64, hay que tener cuidado con eso.\n",
        "# el valor por defecto de PyTorch es float.32"
      ],
      "metadata": {
        "id": "Lpb4s1dNkjnj"
      },
      "execution_count": null,
      "outputs": []
    },
    {
      "cell_type": "code",
      "source": [
        "tensor.dtype, tensor.type(torch.float32).dtype\n"
      ],
      "metadata": {
        "colab": {
          "base_uri": "https://localhost:8080/"
        },
        "id": "yku_Yk-ekjhg",
        "outputId": "bdf150f3-2e32-4e5c-fdbb-2bdd75c5afcd"
      },
      "execution_count": null,
      "outputs": [
        {
          "output_type": "execute_result",
          "data": {
            "text/plain": [
              "(torch.float64, torch.float32)"
            ]
          },
          "metadata": {},
          "execution_count": 40
        }
      ]
    },
    {
      "cell_type": "code",
      "source": [
        "# Tensor to numpy\n",
        "\n",
        "tensor = torch.ones(7)\n",
        "numpy_tensor = tensor.numpy()\n",
        "tensor, numpy_tensor"
      ],
      "metadata": {
        "colab": {
          "base_uri": "https://localhost:8080/"
        },
        "id": "FEFuF150kjXX",
        "outputId": "7b0145ab-2f9f-496d-c495-1501838cc3a7"
      },
      "execution_count": null,
      "outputs": [
        {
          "output_type": "execute_result",
          "data": {
            "text/plain": [
              "(tensor([1., 1., 1., 1., 1., 1., 1.]),\n",
              " array([1., 1., 1., 1., 1., 1., 1.], dtype=float32))"
            ]
          },
          "metadata": {},
          "execution_count": 43
        }
      ]
    },
    {
      "cell_type": "markdown",
      "source": [
        "## ***PyTorch Reproducibility***  \n",
        "https://pytorch.org/docs/stable/notes/randomness.html"
      ],
      "metadata": {
        "id": "sgwUdokSpdGU"
      }
    },
    {
      "cell_type": "code",
      "source": [
        "import torch\n",
        "\n",
        "random_tensor_A = torch.rand(3,4)\n",
        "random_tensor_B = torch.rand(3,4)\n",
        "\n",
        "print(random_tensor_A)\n",
        "print(random_tensor_B)\n",
        "print(random_tensor_A == random_tensor_B)\n",
        "\n",
        "\n"
      ],
      "metadata": {
        "colab": {
          "base_uri": "https://localhost:8080/"
        },
        "id": "6xliIO3kkjEk",
        "outputId": "6fb3136b-2581-433d-a0ea-c1f3eeba8b1f"
      },
      "execution_count": null,
      "outputs": [
        {
          "output_type": "stream",
          "name": "stdout",
          "text": [
            "tensor([[0.6120, 0.0378, 0.6707, 0.2527],\n",
            "        [0.8893, 0.8918, 0.7285, 0.8424],\n",
            "        [0.9831, 0.0907, 0.4239, 0.2937]])\n",
            "tensor([[0.9010, 0.5801, 0.0957, 0.4915],\n",
            "        [0.9060, 0.5025, 0.1618, 0.9175],\n",
            "        [0.9076, 0.5439, 0.6374, 0.9571]])\n",
            "tensor([[False, False, False, False],\n",
            "        [False, False, False, False],\n",
            "        [False, False, False, False]])\n"
          ]
        }
      ]
    },
    {
      "cell_type": "code",
      "source": [
        "import torch\n",
        "\n",
        "RANDOM_TENSOR = 42\n",
        "\n",
        "torch.manual_seed(RANDOM_TENSOR)\n",
        "\n",
        "random_tensor_C = torch.rand(3,4)\n",
        "random_tensor_D = torch.rand(3,4)\n",
        "\n",
        "print(random_tensor_C)\n",
        "print(random_tensor_D)\n",
        "print(random_tensor_C == random_tensor_D)\n"
      ],
      "metadata": {
        "colab": {
          "base_uri": "https://localhost:8080/"
        },
        "id": "wryGnf2DkiyL",
        "outputId": "2f922e8c-a8a2-4205-feb1-becb8d908806"
      },
      "execution_count": null,
      "outputs": [
        {
          "output_type": "stream",
          "name": "stdout",
          "text": [
            "tensor([[0.8823, 0.9150, 0.3829, 0.9593],\n",
            "        [0.3904, 0.6009, 0.2566, 0.7936],\n",
            "        [0.9408, 0.1332, 0.9346, 0.5936]])\n",
            "tensor([[0.8694, 0.5677, 0.7411, 0.4294],\n",
            "        [0.8854, 0.5739, 0.2666, 0.6274],\n",
            "        [0.2696, 0.4414, 0.2969, 0.8317]])\n",
            "tensor([[False, False, False, False],\n",
            "        [False, False, False, False],\n",
            "        [False, False, False, False]])\n"
          ]
        }
      ]
    },
    {
      "cell_type": "markdown",
      "source": [
        "### Check for GPU access with PyTorch"
      ],
      "metadata": {
        "id": "J_b_8jMgGIdJ"
      }
    },
    {
      "cell_type": "code",
      "source": [
        "import torch\n",
        "torch.cuda.is_available()\n",
        "\n",
        "!nvidia-smi"
      ],
      "metadata": {
        "colab": {
          "base_uri": "https://localhost:8080/"
        },
        "id": "Q8bkZTL2H-PO",
        "outputId": "0e6b971f-c2f0-4c2c-a651-9722a0cfa4a8"
      },
      "execution_count": null,
      "outputs": [
        {
          "output_type": "stream",
          "name": "stdout",
          "text": [
            "Fri Apr  7 05:11:44 2023       \n",
            "+-----------------------------------------------------------------------------+\n",
            "| NVIDIA-SMI 525.85.12    Driver Version: 525.85.12    CUDA Version: 12.0     |\n",
            "|-------------------------------+----------------------+----------------------+\n",
            "| GPU  Name        Persistence-M| Bus-Id        Disp.A | Volatile Uncorr. ECC |\n",
            "| Fan  Temp  Perf  Pwr:Usage/Cap|         Memory-Usage | GPU-Util  Compute M. |\n",
            "|                               |                      |               MIG M. |\n",
            "|===============================+======================+======================|\n",
            "|   0  Tesla T4            Off  | 00000000:00:04.0 Off |                    0 |\n",
            "| N/A   39C    P8     9W /  70W |      3MiB / 15360MiB |      0%      Default |\n",
            "|                               |                      |                  N/A |\n",
            "+-------------------------------+----------------------+----------------------+\n",
            "                                                                               \n",
            "+-----------------------------------------------------------------------------+\n",
            "| Processes:                                                                  |\n",
            "|  GPU   GI   CI        PID   Type   Process name                  GPU Memory |\n",
            "|        ID   ID                                                   Usage      |\n",
            "|=============================================================================|\n",
            "|  No running processes found                                                 |\n",
            "+-----------------------------------------------------------------------------+\n"
          ]
        }
      ]
    },
    {
      "cell_type": "code",
      "source": [
        "# setup device agnostic code\n",
        "\n",
        "device = 'cuda' if torch.cuda.is_available() else 'CPU'\n",
        "device"
      ],
      "metadata": {
        "colab": {
          "base_uri": "https://localhost:8080/",
          "height": 36
        },
        "id": "8J1aa6IJISVA",
        "outputId": "cbd341f1-fbd3-434c-9723-6433d67f3507"
      },
      "execution_count": null,
      "outputs": [
        {
          "output_type": "execute_result",
          "data": {
            "text/plain": [
              "'cuda'"
            ],
            "application/vnd.google.colaboratory.intrinsic+json": {
              "type": "string"
            }
          },
          "metadata": {},
          "execution_count": 14
        }
      ]
    },
    {
      "cell_type": "code",
      "source": [
        "# count number of devices\n",
        "torch.cuda.device_count()"
      ],
      "metadata": {
        "colab": {
          "base_uri": "https://localhost:8080/"
        },
        "id": "eu-iWyQ6IrY-",
        "outputId": "3b0a6636-a997-44f7-ea20-625ecf6495e1"
      },
      "execution_count": null,
      "outputs": [
        {
          "output_type": "execute_result",
          "data": {
            "text/plain": [
              "1"
            ]
          },
          "metadata": {},
          "execution_count": 6
        }
      ]
    },
    {
      "cell_type": "markdown",
      "source": [
        "## CUDA best practices:  \n",
        "`https://pytorch.org/docs/stable/notes/cuda.html`"
      ],
      "metadata": {
        "id": "4Lb40DnEI5Ii"
      }
    },
    {
      "cell_type": "code",
      "source": [
        "# move tensor to GPU (if available)\n",
        "\n",
        "tensor = torch.tensor([1,2,3])\n",
        "\n",
        "tensor_on_gpu = tensor.to(device)\n",
        "tensor_on_gpu\n"
      ],
      "metadata": {
        "colab": {
          "base_uri": "https://localhost:8080/"
        },
        "id": "xguAToZYJJ9t",
        "outputId": "66699e8d-e57b-4dac-aa91-d3a4768935d3"
      },
      "execution_count": null,
      "outputs": [
        {
          "output_type": "execute_result",
          "data": {
            "text/plain": [
              "tensor([1, 2, 3], device='cuda:0')"
            ]
          },
          "metadata": {},
          "execution_count": 15
        }
      ]
    },
    {
      "cell_type": "markdown",
      "source": [
        "### Moving tensors back to the CPU"
      ],
      "metadata": {
        "id": "UTrt8WzrMaGe"
      }
    },
    {
      "cell_type": "code",
      "source": [
        "# Si el tensor esta en la GPU, no se puede transformar a NUMPY\n",
        "tensor_on_gpu.numpy()"
      ],
      "metadata": {
        "colab": {
          "base_uri": "https://localhost:8080/",
          "height": 214
        },
        "id": "qFw_83eNMflE",
        "outputId": "548514c1-2644-4c26-c2a9-f53dd963f52f"
      },
      "execution_count": null,
      "outputs": [
        {
          "output_type": "error",
          "ename": "TypeError",
          "evalue": "ignored",
          "traceback": [
            "\u001b[0;31m---------------------------------------------------------------------------\u001b[0m",
            "\u001b[0;31mTypeError\u001b[0m                                 Traceback (most recent call last)",
            "\u001b[0;32m<ipython-input-16-f5ee28858aa0>\u001b[0m in \u001b[0;36m<cell line: 2>\u001b[0;34m()\u001b[0m\n\u001b[1;32m      1\u001b[0m \u001b[0;31m# Si el tensor esta en la GPU, no se puede transformar a NUMPY\u001b[0m\u001b[0;34m\u001b[0m\u001b[0;34m\u001b[0m\u001b[0m\n\u001b[0;32m----> 2\u001b[0;31m \u001b[0mtensor_on_gpu\u001b[0m\u001b[0;34m.\u001b[0m\u001b[0mnumpy\u001b[0m\u001b[0;34m(\u001b[0m\u001b[0;34m)\u001b[0m\u001b[0;34m\u001b[0m\u001b[0;34m\u001b[0m\u001b[0m\n\u001b[0m",
            "\u001b[0;31mTypeError\u001b[0m: can't convert cuda:0 device type tensor to numpy. Use Tensor.cpu() to copy the tensor to host memory first."
          ]
        }
      ]
    },
    {
      "cell_type": "code",
      "source": [
        "# Para arreglarlo, debemos primero configurarlo en la CPU\n",
        "\n",
        "tensor_back_on_cpu = tensor_on_gpu.cpu().numpy()\n",
        "tensor_back_on_cpu\n"
      ],
      "metadata": {
        "colab": {
          "base_uri": "https://localhost:8080/"
        },
        "id": "R0s-6JadMEJy",
        "outputId": "68119581-3f34-4c11-ef8f-436fb945a0c9"
      },
      "execution_count": null,
      "outputs": [
        {
          "output_type": "execute_result",
          "data": {
            "text/plain": [
              "array([1, 2, 3])"
            ]
          },
          "metadata": {},
          "execution_count": 17
        }
      ]
    }
  ]
}
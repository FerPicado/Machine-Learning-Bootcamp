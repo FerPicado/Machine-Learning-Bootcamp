{
 "cells": [
  {
   "cell_type": "code",
   "execution_count": null,
   "metadata": {
    "pycharm": {
     "is_executing": true
    }
   },
   "outputs": [],
   "source": [
    "print(\"Machine Learning Engineer!\")"
   ]
  },
  {
   "cell_type": "markdown",
   "id": "75c0423c",
   "metadata": {},
   "source": [
    "## Future Computer Vision Engineer at META :)"
   ]
  },
  {
   "cell_type": "markdown",
   "id": "e922f18a",
   "metadata": {},
   "source": [
    "\n",
    "#### And why not:  ?"
   ]
  },
  {
   "cell_type": "code",
   "execution_count": 3,
   "id": "efb72235",
   "metadata": {},
   "outputs": [
    {
     "name": "stdout",
     "output_type": "stream",
     "text": [
      "Deep Learning Engineer!\n"
     ]
    }
   ],
   "source": [
    "print(\"Deep Learning Engineer!\")"
   ]
  },
  {
   "cell_type": "code",
   "execution_count": 9,
   "outputs": [
    {
     "name": "stdout",
     "output_type": "stream",
     "text": [
      "My future jobs: Machine Learning Engineer #: 1\n",
      "My future jobs: Deep Learning Engineer #: 2\n",
      "My future jobs: Data Scientist #: 3\n"
     ]
    }
   ],
   "source": [
    "jobs = ['Machine Learning Engineer', 'Deep Learning Engineer', 'Data Scientist']\n",
    "count=0\n",
    "for i in jobs:\n",
    "    count += 1\n",
    "    print(f\"My future jobs: {i} #: {count}\")\n",
    "\n"
   ],
   "metadata": {
    "collapsed": false
   }
  }
 ],
 "metadata": {
  "kernelspec": {
   "display_name": "Python 3.10.8 (conda)",
   "language": "python",
   "name": "python3"
  },
  "language_info": {
   "codemirror_mode": {
    "name": "ipython",
    "version": 3
   },
   "file_extension": ".py",
   "mimetype": "text/x-python",
   "name": "python",
   "nbconvert_exporter": "python",
   "pygments_lexer": "ipython3",
   "version": "3.10.8"
  },
  "vscode": {
   "interpreter": {
    "hash": "bb0fd8a0edc3c8c6660352765b9729d9acc2f4d6b9fc0d167722e48788ead5c3"
   }
  }
 },
 "nbformat": 4,
 "nbformat_minor": 5
}

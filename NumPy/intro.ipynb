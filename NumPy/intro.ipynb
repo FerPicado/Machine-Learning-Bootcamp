{
 "cells": [
  {
   "cell_type": "markdown",
   "metadata": {},
   "source": [
    "### Numpy introducction\n",
    "<h3 style=\"color:#c1528e\">Why NumPy?</h3>\n",
    "\n",
    "##### Numpy es la **columna vertebral del ML**.\n",
    "##### -Numpy esta escrito en C, lo que lo convierte en un framework super rapido.\n",
    "##### Vectorization via brodcasting **(avoiding loops)**\n",
    "##### -Por este motivo se usa en vez de usar *vanilla Python*\n",
    "### What are we going to cover?\n",
    "* Most useful functions\n",
    "* NumPy datatypes and attributes (ndarray)\n",
    "* Creating arrays\n",
    "* Manipulating and comparing arrays\n",
    "* Sorting arrays\n",
    "* Use cases\n"
   ]
  },
  {
   "cell_type": "markdown",
   "metadata": {},
   "source": [
    "\n",
    " ![Arrays en NumPy](numpyArr.png)"
   ]
  },
  {
   "cell_type": "code",
   "execution_count": 1,
   "metadata": {},
   "outputs": [],
   "source": [
    "import pandas as pd\n",
    "import numpy as np"
   ]
  },
  {
   "cell_type": "code",
   "execution_count": 20,
   "metadata": {},
   "outputs": [
    {
     "name": "stdout",
     "output_type": "stream",
     "text": [
      "[[[ 1  2  3]\n",
      "  [ 4  5  6]]\n",
      "\n",
      " [[ 7  8  9]\n",
      "  [10 11 12]]\n",
      "\n",
      " [[13 14 15]\n",
      "  [16 17 18]]]\n"
     ]
    }
   ],
   "source": [
    "# same array as slide video\n",
    "\n",
    "a3 = np.array([[[1, 2, 3],\n",
    "                [4, 5, 6]],\n",
    "               [[7, 8, 9],\n",
    "                [10, 11, 12]],\n",
    "               [[13, 14, 15],\n",
    "                [16, 17, 18]]])\n",
    "\n",
    "# view array\n",
    "print(a3)"
   ]
  },
  {
   "cell_type": "markdown",
   "metadata": {},
   "source": [
    "<h1 style=\"color:yellow\"> DataTypes & Attributes</h1>"
   ]
  },
  {
   "cell_type": "code",
   "execution_count": 38,
   "metadata": {},
   "outputs": [
    {
     "name": "stdout",
     "output_type": "stream",
     "text": [
      "<class 'numpy.ndarray'>\n",
      "Array 1:  [0 1 2]\n"
     ]
    }
   ],
   "source": [
    "# NumPy's main datatype is ndarray\n",
    "\n",
    "arr_one = np.array([0,1,2])\n",
    "print(type(arr_one))\n",
    "print(\"Array 1: \",arr_one)"
   ]
  },
  {
   "cell_type": "code",
   "execution_count": 39,
   "metadata": {},
   "outputs": [
    {
     "name": "stdout",
     "output_type": "stream",
     "text": [
      "Array 2: [[0 1 2]\n",
      " [3 4 5]]\n",
      "\n",
      "Array 3: [[[ 0  1  2]\n",
      "  [ 3  4  5]]\n",
      "\n",
      " [[ 6  7  8]\n",
      "  [ 9 10 11]]\n",
      "\n",
      " [[12 13 14]\n",
      "  [15 16 17]]]\n"
     ]
    }
   ],
   "source": [
    "arr_two = np.array([[0, 1, 2],\n",
    "                   [3, 4, 5]])\n",
    "print(\"Array 2:\",arr_two)\n",
    "print(\"\")\n",
    "\n",
    "# tercer tipo\n",
    "\n",
    "arr_three = np.array([[[0, 1, 2],\n",
    "                       [3, 4, 5]],\n",
    "                       [[6, 7, 8],\n",
    "                        \n",
    "                      [9, 10, 11]],\n",
    "                       [[12, 13, 14],\n",
    "                       [15, 16, 17]]])\n",
    "print(\"Array 3:\", arr_three)\n"
   ]
  },
  {
   "cell_type": "code",
   "execution_count": 35,
   "metadata": {},
   "outputs": [
    {
     "name": "stdout",
     "output_type": "stream",
     "text": [
      "(3,)\n",
      "(2, 3)\n",
      "(3, 2, 3)\n"
     ]
    }
   ],
   "source": [
    "# shapes of an array\n",
    "\n",
    "print(arr_one.shape)\n",
    "print(arr_two.shape)\n",
    "print(arr_three.shape)"
   ]
  },
  {
   "cell_type": "code",
   "execution_count": 40,
   "metadata": {},
   "outputs": [
    {
     "name": "stdout",
     "output_type": "stream",
     "text": [
      "Array one # dimensiones: 1\n",
      "Array two # dimensiones: 2\n",
      "Array three # dimensiones: 3\n"
     ]
    }
   ],
   "source": [
    "# ver las dimensiones de los ndarrays\n",
    "\n",
    "print(\"Array one # dimensiones:\",arr_one.ndim)\n",
    "print(\"Array two # dimensiones:\",arr_two.ndim)\n",
    "print(\"Array three # dimensiones:\",arr_three.ndim)"
   ]
  },
  {
   "cell_type": "code",
   "execution_count": 43,
   "metadata": {},
   "outputs": [
    {
     "name": "stdout",
     "output_type": "stream",
     "text": [
      "int32\n",
      "int32\n",
      "int32\n"
     ]
    }
   ],
   "source": [
    "# tipo de dato de los ndarrays\n",
    "\n",
    "print(arr_one.dtype)\n",
    "print(arr_two.dtype)\n",
    "print(arr_three.dtype)\n",
    "# todos los mioos son enteros, sin embargo se aceptan de cualquier formato.\n"
   ]
  },
  {
   "cell_type": "code",
   "execution_count": 44,
   "metadata": {},
   "outputs": [
    {
     "name": "stdout",
     "output_type": "stream",
     "text": [
      "3\n",
      "6\n",
      "18\n"
     ]
    }
   ],
   "source": [
    "print(arr_one.size)\n",
    "print(arr_two.size)\n",
    "print(arr_three.size)"
   ]
  },
  {
   "cell_type": "code",
   "execution_count": 45,
   "metadata": {},
   "outputs": [
    {
     "data": {
      "text/plain": [
       "numpy.ndarray"
      ]
     },
     "execution_count": 45,
     "metadata": {},
     "output_type": "execute_result"
    }
   ],
   "source": [
    "type(arr_one)"
   ]
  },
  {
   "cell_type": "code",
   "execution_count": 46,
   "metadata": {},
   "outputs": [],
   "source": [
    "# no matter what type or what shape the numpy array is, all of these are ndarray"
   ]
  },
  {
   "cell_type": "code",
   "execution_count": 47,
   "metadata": {},
   "outputs": [
    {
     "name": "stdout",
     "output_type": "stream",
     "text": [
      "[[[ 0  1  2]\n",
      "  [ 3  4  5]]\n",
      "\n",
      " [[ 6  7  8]\n",
      "  [ 9 10 11]]\n",
      "\n",
      " [[12 13 14]\n",
      "  [15 16 17]]]\n"
     ]
    }
   ],
   "source": [
    "print(arr_three)"
   ]
  },
  {
   "cell_type": "code",
   "execution_count": 48,
   "metadata": {},
   "outputs": [
    {
     "name": "stdout",
     "output_type": "stream",
     "text": [
      "   0  1  2\n",
      "0  0  1  2\n",
      "1  3  4  5\n"
     ]
    }
   ],
   "source": [
    "# Create a df from NumPy Arr\n",
    "df = pd.DataFrame(arr_two)\n",
    "print(df)\n"
   ]
  },
  {
   "cell_type": "code",
   "execution_count": 52,
   "metadata": {},
   "outputs": [
    {
     "data": {
      "text/plain": [
       "array([[[ 0,  1,  2],\n",
       "        [ 3,  4,  5]],\n",
       "\n",
       "       [[ 6,  7,  8],\n",
       "        [ 9, 10, 11]],\n",
       "\n",
       "       [[12, 13, 14],\n",
       "        [15, 16, 17]]])"
      ]
     },
     "execution_count": 52,
     "metadata": {},
     "output_type": "execute_result"
    }
   ],
   "source": [
    "\n",
    "arr_three\n"
   ]
  },
  {
   "cell_type": "code",
   "execution_count": 54,
   "metadata": {},
   "outputs": [
    {
     "name": "stdout",
     "output_type": "stream",
     "text": [
      "   0  1  2\n",
      "0  0  1  2\n",
      "1  3  4  5\n"
     ]
    }
   ],
   "source": [
    "dataFrEx = pd.DataFrame(arr_two) #podemos insertar los array creados en NumPy, como pararmetros del dataframe.\n",
    "print(dataFrEx)"
   ]
  },
  {
   "cell_type": "code",
   "execution_count": 3,
   "metadata": {},
   "outputs": [
    {
     "name": "stdout",
     "output_type": "stream",
     "text": [
      "   0  1  2\n",
      "0  0  1  2\n",
      "1  3  4  5\n",
      "2  6  7  8\n",
      "Size:  9\n",
      "Tipo de dato de cada columna 0    int32\n",
      "1    int32\n",
      "2    int32\n",
      "dtype: object\n",
      "Shape:  (3, 3)\n",
      "Numero de dimensiones:  2\n",
      "Tipo de objeto de NumPy: <class 'pandas.core.frame.DataFrame'>\n"
     ]
    }
   ],
   "source": [
    "# Creating my own array with NumPy\n",
    "my_own_array = np.array([[0,1,2],[3,4,5],[6,7,8]])\n",
    "my_own_df = pd.DataFrame(my_own_array)\n",
    "print(my_own_df)\n",
    "\n",
    "print(\"Size: \", my_own_df.size)\n",
    "print(\"Tipo de dato de cada columna\", my_own_df.dtypes)\n",
    "print(\"Shape: \", my_own_df.shape)\n",
    "print(\"Numero de dimensiones: \", my_own_df.ndim)\n",
    "print(\"Tipo de objeto de NumPy:\",type(my_own_df))\n",
    "\n",
    "\n"
   ]
  },
  {
   "cell_type": "markdown",
   "metadata": {},
   "source": [
    "## 2-Creating arrays"
   ]
  },
  {
   "cell_type": "code",
   "execution_count": 5,
   "metadata": {},
   "outputs": [
    {
     "data": {
      "text/plain": [
       "array([1, 2, 3])"
      ]
     },
     "execution_count": 5,
     "metadata": {},
     "output_type": "execute_result"
    }
   ],
   "source": [
    "sample_array = np.array([1,2,3])\n",
    "sample_array"
   ]
  },
  {
   "cell_type": "code",
   "execution_count": 7,
   "metadata": {},
   "outputs": [
    {
     "data": {
      "text/plain": [
       "dtype('int32')"
      ]
     },
     "execution_count": 7,
     "metadata": {},
     "output_type": "execute_result"
    }
   ],
   "source": [
    "sample_array.dtype"
   ]
  },
  {
   "cell_type": "code",
   "execution_count": 8,
   "metadata": {},
   "outputs": [
    {
     "name": "stdout",
     "output_type": "stream",
     "text": [
      "[[1. 1. 1.]\n",
      " [1. 1. 1.]]\n"
     ]
    }
   ],
   "source": [
    "ones = np.ones((2,3)) #crea 2 filas (row) y 3 columns\n",
    "print(ones)"
   ]
  },
  {
   "cell_type": "code",
   "execution_count": 9,
   "metadata": {},
   "outputs": [
    {
     "data": {
      "text/plain": [
       "dtype('float64')"
      ]
     },
     "execution_count": 9,
     "metadata": {},
     "output_type": "execute_result"
    }
   ],
   "source": [
    "ones.dtype"
   ]
  },
  {
   "cell_type": "code",
   "execution_count": 10,
   "metadata": {},
   "outputs": [
    {
     "name": "stdout",
     "output_type": "stream",
     "text": [
      "[[0. 0. 0.]\n",
      " [0. 0. 0.]]\n"
     ]
    }
   ],
   "source": [
    "# creando un array pero que venga relleno de 0\n",
    "zeros_arr = np.zeros((2,3))\n",
    "print(zeros_arr)"
   ]
  },
  {
   "cell_type": "markdown",
   "metadata": {},
   "source": [
    "#### En ocasiones cuando estemos trabajando con ML vamos a necesitar unicamente calcular las formas de los datos con los que estaremos trabajando, por lo cual usar .zeros() seria de ayuda"
   ]
  },
  {
   "cell_type": "code",
   "execution_count": 6,
   "metadata": {},
   "outputs": [
    {
     "name": "stdout",
     "output_type": "stream",
     "text": [
      "Este es mi propio .arange(arange([start,] stop[, step,], dtype=None, *, like=None)) el cual inicia en 1, llega hasta 10 y incrementa de 1 en 1.\n",
      "[ 1  2  3  4  5  6  7  8  9 10]\n"
     ]
    }
   ],
   "source": [
    "# este metodo le indica algo asi como: empezar en 0, parar hasta 10\n",
    "# y aumentar de 2 en 2, es decir .arange(0,10,2)\n",
    "range_array = np.arange(0,10,2)\n",
    "range_array\n",
    "\n",
    "\n",
    "# creadno mi propio array:\n",
    "my_own_arange = np.arange(1,11,1)\n",
    "print(\"Este es mi propio .arange(arange([start,] stop[, step,], dtype=None, *, like=None)) el cual inicia en 1, llega hasta 10 y incrementa de 1 en 1.\")\n",
    "print(my_own_arange)"
   ]
  },
  {
   "cell_type": "code",
   "execution_count": 7,
   "metadata": {},
   "outputs": [
    {
     "name": "stdout",
     "output_type": "stream",
     "text": [
      "[[5 6 2 2 7]\n",
      " [0 7 9 0 4]\n",
      " [9 1 7 7 5]]\n"
     ]
    }
   ],
   "source": [
    "# a lo  entendido con los docs, esto devolvera 3 arrays, con tamano 5 cada array,\n",
    "# con valores de 0 a maximo 10 (9), el size= seria nuestro shape, creo\n",
    "random_arr = np.random.randint(0,10, size=(3,5))\n",
    "print(random_arr)"
   ]
  },
  {
   "cell_type": "code",
   "execution_count": 8,
   "metadata": {},
   "outputs": [
    {
     "data": {
      "text/plain": [
       "15"
      ]
     },
     "execution_count": 8,
     "metadata": {},
     "output_type": "execute_result"
    }
   ],
   "source": [
    "random_arr.size #cuenta cada dato de los 3 array"
   ]
  },
  {
   "cell_type": "code",
   "execution_count": 10,
   "metadata": {},
   "outputs": [
    {
     "data": {
      "text/plain": [
       "(3, 5)"
      ]
     },
     "execution_count": 10,
     "metadata": {},
     "output_type": "execute_result"
    }
   ],
   "source": [
    "random_arr.shape\n"
   ]
  },
  {
   "cell_type": "markdown",
   "metadata": {},
   "source": [
    "#### Forma numero 2 de crear random arrys:"
   ]
  },
  {
   "cell_type": "code",
   "execution_count": 13,
   "metadata": {},
   "outputs": [
    {
     "name": "stdout",
     "output_type": "stream",
     "text": [
      "[[0.54688594 0.578906   0.89362881 0.86061839 0.64485249 0.12611359\n",
      "  0.3341334 ]\n",
      " [0.8979634  0.08697567 0.12297125 0.00798176 0.24340783 0.07221092\n",
      "  0.69729048]\n",
      " [0.98983844 0.5786583  0.33571015 0.35371728 0.87066204 0.00309862\n",
      "  0.05986099]\n",
      " [0.60330119 0.29792002 0.26307607 0.36017599 0.21396139 0.66893243\n",
      "  0.50830063]\n",
      " [0.81957424 0.1503638  0.12646036 0.98558349 0.09720833 0.59432185\n",
      "  0.21543905]\n",
      " [0.28465672 0.15974091 0.51537059 0.10651251 0.92595165 0.74857089\n",
      "  0.99850659]\n",
      " [0.92264554 0.33912329 0.93059937 0.839017   0.38429291 0.10857076\n",
      "  0.88288547]]\n"
     ]
    }
   ],
   "source": [
    "\n",
    "# le damos el shape que queremos como parametro, es decir que \n",
    "# nos dara un total de 7 rows con 7 columns, pero el valor de cada dato,\n",
    "# estara entre 0.0 y 1.0, ej: 0.434324\n",
    "\n",
    "random_arr_two = np.random.random((7,7))\n",
    "print(random_arr_two)"
   ]
  },
  {
   "cell_type": "code",
   "execution_count": 14,
   "metadata": {},
   "outputs": [
    {
     "data": {
      "text/plain": [
       "(7, 7)"
      ]
     },
     "execution_count": 14,
     "metadata": {},
     "output_type": "execute_result"
    }
   ],
   "source": [
    "random_arr_two.shape"
   ]
  },
  {
   "cell_type": "markdown",
   "metadata": {},
   "source": [
    "### Tercer forma de crear un array random:\n",
    "\n",
    "numpy.random.rand()"
   ]
  },
  {
   "cell_type": "code",
   "execution_count": 15,
   "metadata": {},
   "outputs": [
    {
     "name": "stdout",
     "output_type": "stream",
     "text": [
      "[[0.22615361 0.44793414 0.2780255  0.55181322 0.90117194 0.09538584\n",
      "  0.0247582 ]\n",
      " [0.33015585 0.73224435 0.96026668 0.56382692 0.11337934 0.10627365\n",
      "  0.59304825]\n",
      " [0.18572354 0.1777211  0.05577531 0.13351921 0.20318948 0.47241944\n",
      "  0.81510414]\n",
      " [0.60667536 0.9775823  0.02072365 0.18132671 0.48369042 0.61247462\n",
      "  0.06939612]\n",
      " [0.00679627 0.48919021 0.10798141 0.3978099  0.86758194 0.49351665\n",
      "  0.0042259 ]\n",
      " [0.40933013 0.409396   0.46389137 0.46256209 0.64895463 0.64484439\n",
      "  0.89325129]\n",
      " [0.28141985 0.82201473 0.4608619  0.2246404  0.61181329 0.87754469\n",
      "  0.99861756]]\n"
     ]
    }
   ],
   "source": [
    "random_arr_three = np.random.rand(7,7)\n",
    "print(random_arr_three)"
   ]
  },
  {
   "cell_type": "markdown",
   "metadata": {},
   "source": [
    "### Pseudo-random numbers\n",
    "#### np.random.seed() \n",
    "\n",
    "np.random.seed(seed=0)\n",
    "random_seed = np.random.randint(10, size=(4,3))\n",
    "print(random_seed)\n",
    "Output: \n",
    "[[8 4 5]\n",
    " [3 1 1]\n",
    " [1 7 3]\n",
    " [0 5 7]]\n",
    "\n",
    "**Con .seed(seed=0) logramos una secuencia reproducible, es decir que cada vez que ejecutemos, se gurdara el mismo array SIEMPRE.\n",
    "En cambio si quitamos el .seed() los numeros si van a ser random cada vez que el codigo se ejecute.**"
   ]
  },
  {
   "cell_type": "code",
   "execution_count": 24,
   "metadata": {},
   "outputs": [
    {
     "name": "stdout",
     "output_type": "stream",
     "text": [
      "Valores random hasta el 9, con 4 filas con 3 columnas:\n",
      "[[5 0 3]\n",
      " [3 7 9]\n",
      " [3 5 2]\n",
      " [4 7 6]]\n"
     ]
    }
   ],
   "source": [
    "np.random.seed(seed=0)\n",
    "random_array_four = np.random.randint(10, size=(4,3))\n",
    "print('Valores random hasta el 9, con 4 filas con 3 columnas:')\n",
    "print(random_array_four)"
   ]
  },
  {
   "cell_type": "markdown",
   "metadata": {},
   "source": [
    "Daniel said:\n",
    "\n",
    "Generalmente se usa cuando trabajamos con algun companero y necesitamos por alguna razon que en las celdas se ejecute **exactamente** el mismo valor de los random numbers."
   ]
  },
  {
   "cell_type": "code",
   "execution_count": 34,
   "metadata": {},
   "outputs": [
    {
     "name": "stdout",
     "output_type": "stream",
     "text": [
      "[[5 8 9 5]\n",
      " [0 0 1 7]\n",
      " [6 9 2 4]]\n"
     ]
    }
   ],
   "source": [
    "np.random.seed(seed=1)\n",
    "unique_array = np.random.randint(11, size=(3,4))\n",
    "print(unique_array)"
   ]
  },
  {
   "cell_type": "code",
   "execution_count": 25,
   "metadata": {},
   "outputs": [],
   "source": [
    "# Como encontrar los numeros unicos en un array?\n",
    "# np.unique(my_own_array)\n",
    "# Output: [1,2,3,4]\n"
   ]
  },
  {
   "cell_type": "code",
   "execution_count": 35,
   "metadata": {},
   "outputs": [
    {
     "name": "stdout",
     "output_type": "stream",
     "text": [
      "[0 1 2 4 5 6 7 8 9]\n"
     ]
    }
   ],
   "source": [
    "# buscar los numeros unicos:\n",
    "my_unique_numbers_array = np.unique(unique_array)\n",
    "print(my_unique_numbers_array)"
   ]
  },
  {
   "cell_type": "markdown",
   "metadata": {},
   "source": [
    "###  *VIDEO 65*\n",
    "## Viewing Arrays and Matrices"
   ]
  },
  {
   "cell_type": "code",
   "execution_count": 41,
   "metadata": {},
   "outputs": [
    {
     "name": "stdout",
     "output_type": "stream",
     "text": [
      "Array 1: [0 1 2]\n",
      "\n",
      "Array 2: [[0 1 2]\n",
      " [3 4 5]]\n",
      "\n",
      "Array 3: [[[ 0  1  2]\n",
      "  [ 3  4  5]]\n",
      "\n",
      " [[ 6  7  8]\n",
      "  [ 9 10 11]]\n",
      "\n",
      " [[12 13 14]\n",
      "  [15 16 17]]]\n"
     ]
    }
   ],
   "source": [
    "print('Array 1:',arr_one)\n",
    "print('')\n",
    "print('Array 2:',arr_two)\n",
    "print('')\n",
    "print('Array 3:',arr_three)\n"
   ]
  },
  {
   "cell_type": "markdown",
   "metadata": {},
   "source": [
    "Algunas pracctices para tantear los arreeglos:"
   ]
  },
  {
   "cell_type": "code",
   "execution_count": 46,
   "metadata": {},
   "outputs": [
    {
     "data": {
      "text/plain": [
       "0"
      ]
     },
     "execution_count": 46,
     "metadata": {},
     "output_type": "execute_result"
    }
   ],
   "source": [
    "arr_one[0]"
   ]
  },
  {
   "cell_type": "code",
   "execution_count": 54,
   "metadata": {},
   "outputs": [
    {
     "data": {
      "text/plain": [
       "4"
      ]
     },
     "execution_count": 54,
     "metadata": {},
     "output_type": "execute_result"
    }
   ],
   "source": [
    "arr_two[1][1]"
   ]
  },
  {
   "cell_type": "code",
   "execution_count": 56,
   "metadata": {},
   "outputs": [
    {
     "data": {
      "text/plain": [
       "array([[[ 0,  1,  2],\n",
       "        [ 3,  4,  5]],\n",
       "\n",
       "       [[ 6,  7,  8],\n",
       "        [ 9, 10, 11]],\n",
       "\n",
       "       [[12, 13, 14],\n",
       "        [15, 16, 17]]])"
      ]
     },
     "execution_count": 56,
     "metadata": {},
     "output_type": "execute_result"
    }
   ],
   "source": [
    "arr_three"
   ]
  },
  {
   "cell_type": "code",
   "execution_count": 66,
   "metadata": {},
   "outputs": [
    {
     "data": {
      "text/plain": [
       "array([[12, 13, 14],\n",
       "       [15, 16, 17]])"
      ]
     },
     "execution_count": 66,
     "metadata": {},
     "output_type": "execute_result"
    }
   ],
   "source": [
    "arr_three[2]"
   ]
  },
  {
   "cell_type": "markdown",
   "metadata": {},
   "source": [
    "Volviendo al video:\n"
   ]
  },
  {
   "cell_type": "code",
   "execution_count": 67,
   "metadata": {},
   "outputs": [
    {
     "name": "stdout",
     "output_type": "stream",
     "text": [
      "[[[ 0  1  2]\n",
      "  [ 3  4  5]]\n",
      "\n",
      " [[ 6  7  8]\n",
      "  [ 9 10 11]]\n",
      "\n",
      " [[12 13 14]\n",
      "  [15 16 17]]]\n"
     ]
    }
   ],
   "source": [
    "print(arr_three)"
   ]
  },
  {
   "cell_type": "code",
   "execution_count": 83,
   "metadata": {},
   "outputs": [
    {
     "name": "stdout",
     "output_type": "stream",
     "text": [
      "El array 1: [0 1 2]\n",
      "[0]\n",
      "[0 1]\n"
     ]
    }
   ],
   "source": [
    "print('El array 1:',arr_one)\n",
    "print(arr_one[:1]) #me muestra solo lo que esta antes del indice (no incluye el indice)\n",
    "print(arr_one[:2])"
   ]
  },
  {
   "cell_type": "markdown",
   "metadata": {},
   "source": [
    "Ejemplos con el arr_two:"
   ]
  },
  {
   "cell_type": "code",
   "execution_count": 98,
   "metadata": {},
   "outputs": [
    {
     "name": "stdout",
     "output_type": "stream",
     "text": [
      "El array 2: [[0 1 2]\n",
      " [3 4 5]]\n",
      "\n",
      "[[0 1]\n",
      " [3 4]]\n",
      "\n",
      "[[0]\n",
      " [3]]\n"
     ]
    }
   ],
   "source": [
    "print('El array 2:',arr_two)\n",
    "print('')\n",
    "print(arr_two[:2,:2])\n",
    "print('')\n",
    "print(arr_two[:2,:1])\n"
   ]
  },
  {
   "cell_type": "markdown",
   "metadata": {},
   "source": [
    "Vamos con el arr_three:"
   ]
  },
  {
   "cell_type": "code",
   "execution_count": 100,
   "metadata": {},
   "outputs": [
    {
     "name": "stdout",
     "output_type": "stream",
     "text": [
      "El array 3: [[[ 0  1  2]\n",
      "  [ 3  4  5]]\n",
      "\n",
      " [[ 6  7  8]\n",
      "  [ 9 10 11]]\n",
      "\n",
      " [[12 13 14]\n",
      "  [15 16 17]]]\n",
      "\n",
      "[[[ 0  1]\n",
      "  [ 3  4]]\n",
      "\n",
      " [[ 6  7]\n",
      "  [ 9 10]]]\n",
      "\n",
      "Examples\n",
      "[[[0 1 2]]\n",
      "\n",
      " [[6 7 8]]]\n"
     ]
    }
   ],
   "source": [
    "print('El array 3:',arr_three)\n",
    "print('')\n",
    "print('Examples')\n",
    "print(arr_three[:2,:2,:2])"
   ]
  },
  {
   "cell_type": "code",
   "execution_count": 10,
   "metadata": {},
   "outputs": [
    {
     "name": "stdout",
     "output_type": "stream",
     "text": [
      "[[[[7 6 7 7 6]\n",
      "   [6 6 6 7 6]\n",
      "   [7 7 7 7 7]\n",
      "   [7 7 7 7 6]]\n",
      "\n",
      "  [[6 7 6 7 7]\n",
      "   [7 6 7 6 6]\n",
      "   [7 7 7 7 7]\n",
      "   [6 6 7 7 7]]\n",
      "\n",
      "  [[6 6 7 6 6]\n",
      "   [6 7 6 6 7]\n",
      "   [7 6 7 6 7]\n",
      "   [6 7 7 7 7]]]\n",
      "\n",
      "\n",
      " [[[7 6 7 6 6]\n",
      "   [7 7 7 6 6]\n",
      "   [7 7 7 6 6]\n",
      "   [7 7 7 7 6]]\n",
      "\n",
      "  [[6 7 7 7 6]\n",
      "   [6 6 6 7 6]\n",
      "   [6 7 7 7 7]\n",
      "   [6 7 7 6 7]]\n",
      "\n",
      "  [[7 6 7 7 7]\n",
      "   [7 6 7 6 7]\n",
      "   [6 7 7 7 6]\n",
      "   [6 6 7 7 6]]]]\n",
      "\n"
     ]
    }
   ],
   "source": [
    "a7 = np.random.randint(6,8, size=(2,3,4,5))\n",
    "print(a7)\n",
    "print('')\n",
    "# print('El 0:',a7[0])"
   ]
  },
  {
   "cell_type": "code",
   "execution_count": 8,
   "metadata": {},
   "outputs": [
    {
     "data": {
      "text/plain": [
       "((2, 3, 4, 5), 4)"
      ]
     },
     "execution_count": 8,
     "metadata": {},
     "output_type": "execute_result"
    }
   ],
   "source": [
    "a7.shape, a7.ndim"
   ]
  },
  {
   "cell_type": "code",
   "execution_count": 15,
   "metadata": {},
   "outputs": [
    {
     "data": {
      "text/plain": [
       "array([[[[7, 6, 7],\n",
       "         [6, 6, 6],\n",
       "         [7, 7, 7],\n",
       "         [7, 7, 7]],\n",
       "\n",
       "        [[6, 7, 6],\n",
       "         [7, 6, 7],\n",
       "         [7, 7, 7],\n",
       "         [6, 6, 7]],\n",
       "\n",
       "        [[6, 6, 7],\n",
       "         [6, 7, 6],\n",
       "         [7, 6, 7],\n",
       "         [6, 7, 7]]],\n",
       "\n",
       "\n",
       "       [[[7, 6, 7],\n",
       "         [7, 7, 7],\n",
       "         [7, 7, 7],\n",
       "         [7, 7, 7]],\n",
       "\n",
       "        [[6, 7, 7],\n",
       "         [6, 6, 6],\n",
       "         [6, 7, 7],\n",
       "         [6, 7, 7]],\n",
       "\n",
       "        [[7, 6, 7],\n",
       "         [7, 6, 7],\n",
       "         [6, 7, 7],\n",
       "         [6, 6, 7]]]])"
      ]
     },
     "execution_count": 15,
     "metadata": {},
     "output_type": "execute_result"
    }
   ],
   "source": [
    "# Get the first 3 numbers of the inner most arrays\n",
    "a7[:,:,:, :3]"
   ]
  },
  {
   "cell_type": "markdown",
   "metadata": {},
   "source": [
    "### 64. Manipulating & comparing arrays\n",
    "**Como manipular y comparar nuestras diferentes matrices/arrays**\n",
    "\n",
    "***Arithmetic***  \n",
    "*Fancy word for basic math equations*"
   ]
  },
  {
   "cell_type": "code",
   "execution_count": 6,
   "metadata": {},
   "outputs": [
    {
     "name": "stdout",
     "output_type": "stream",
     "text": [
      "[1 2 3]\n",
      "[1. 1. 1.]\n",
      "\n",
      "[2. 3. 4.]\n"
     ]
    }
   ],
   "source": [
    "a1 = np.array([1,2,3])\n",
    "print(a1)\n",
    "ones = np.ones(3)\n",
    "print(ones)\n",
    "print('')\n",
    "print(a1 + ones)\n",
    "\n",
    "# a1(1) + ones(1) = 2."
   ]
  },
  {
   "cell_type": "code",
   "execution_count": 23,
   "metadata": {},
   "outputs": [
    {
     "name": "stdout",
     "output_type": "stream",
     "text": [
      "[0. 1. 2.]\n"
     ]
    }
   ],
   "source": [
    "print(a1 - ones)\n",
    "# a1(1) - ones(1) = 0"
   ]
  },
  {
   "cell_type": "code",
   "execution_count": 25,
   "metadata": {},
   "outputs": [
    {
     "name": "stdout",
     "output_type": "stream",
     "text": [
      "[1. 2. 3.]\n"
     ]
    }
   ],
   "source": [
    "print(a1 * ones)\n",
    "# a1(1) * ones(1) 1 * 1 = 1"
   ]
  },
  {
   "cell_type": "code",
   "execution_count": 7,
   "metadata": {},
   "outputs": [
    {
     "name": "stdout",
     "output_type": "stream",
     "text": [
      "[[0.  1.  2.3]\n",
      " [3.  4.7 5. ]]\n"
     ]
    }
   ],
   "source": [
    "a2 = np.array([[0, 1, 2.3],\n",
    "                   [3, 4.7, 5]])\n",
    "print(a2)"
   ]
  },
  {
   "cell_type": "code",
   "execution_count": 29,
   "metadata": {},
   "outputs": [
    {
     "name": "stdout",
     "output_type": "stream",
     "text": [
      "[[ 0.   2.   6.9]\n",
      " [ 3.   9.4 15. ]]\n"
     ]
    }
   ],
   "source": [
    "print(a1 * a2)"
   ]
  },
  {
   "cell_type": "code",
   "execution_count": 8,
   "metadata": {},
   "outputs": [
    {
     "name": "stdout",
     "output_type": "stream",
     "text": [
      "[[[ 0  1  2]\n",
      "  [ 3  4  5]]\n",
      "\n",
      " [[ 6  7  8]\n",
      "  [ 9 10 11]]\n",
      "\n",
      " [[12 13 14]\n",
      "  [15 16 17]]]\n"
     ]
    }
   ],
   "source": [
    "a3 = np.array([[[0, 1, 2],\n",
    "                       [3, 4, 5]],\n",
    "                      [[6, 7, 8],\n",
    "\n",
    "                      [9, 10, 11]],\n",
    "                      [[12, 13, 14],\n",
    "                       [15, 16, 17]]])\n",
    "print(a3)\n"
   ]
  },
  {
   "cell_type": "code",
   "execution_count": 34,
   "metadata": {},
   "outputs": [
    {
     "name": "stdout",
     "output_type": "stream",
     "text": [
      "[[[ 0  1  2]\n",
      "  [ 3  4  5]]\n",
      "\n",
      " [[ 6  7  8]\n",
      "  [ 9 10 11]]\n",
      "\n",
      " [[12 13 14]\n",
      "  [15 16 17]]]\n"
     ]
    }
   ],
   "source": [
    "print(a3)"
   ]
  },
  {
   "cell_type": "code",
   "execution_count": 35,
   "metadata": {},
   "outputs": [
    {
     "name": "stdout",
     "output_type": "stream",
     "text": [
      "[[[ 0.   1.   4.6]\n",
      "  [ 9.  18.8 25. ]]\n",
      "\n",
      " [[ 0.   7.  18.4]\n",
      "  [27.  47.  55. ]]\n",
      "\n",
      " [[ 0.  13.  32.2]\n",
      "  [45.  75.2 85. ]]]\n"
     ]
    }
   ],
   "source": [
    "print(a2*a3)"
   ]
  },
  {
   "cell_type": "code",
   "execution_count": 36,
   "metadata": {},
   "outputs": [
    {
     "data": {
      "text/plain": [
       "array([[0. , 1. , 2.3],\n",
       "       [3. , 4.7, 5. ]])"
      ]
     },
     "execution_count": 36,
     "metadata": {},
     "output_type": "execute_result"
    }
   ],
   "source": [
    "a2"
   ]
  },
  {
   "cell_type": "code",
   "execution_count": 37,
   "metadata": {},
   "outputs": [
    {
     "data": {
      "text/plain": [
       "array([[[ 0,  1,  2],\n",
       "        [ 3,  4,  5]],\n",
       "\n",
       "       [[ 6,  7,  8],\n",
       "        [ 9, 10, 11]],\n",
       "\n",
       "       [[12, 13, 14],\n",
       "        [15, 16, 17]]])"
      ]
     },
     "execution_count": 37,
     "metadata": {},
     "output_type": "execute_result"
    }
   ],
   "source": [
    "a3"
   ]
  },
  {
   "cell_type": "code",
   "execution_count": 40,
   "metadata": {},
   "outputs": [
    {
     "data": {
      "text/plain": [
       "((2, 3), (3, 2, 3))"
      ]
     },
     "execution_count": 40,
     "metadata": {},
     "output_type": "execute_result"
    }
   ],
   "source": [
    "a2*a3\n",
    "a2.shape, a3.shape"
   ]
  },
  {
   "cell_type": "markdown",
   "metadata": {},
   "source": [
    "\n",
    "### Array brodcasting:\n",
    "El término brodcasting describe cómo NumPy trata las matrices con diferentes shapes durante las operaciones aritméticas. Sujeto a ciertas restricciones, la matriz más pequeña se \"brodcast\" a través de la matriz más grande para que tengan formas compatibles. La transmisión proporciona un medio para vectorizar las operaciones de matriz para que el bucle se produzca en C en lugar de en Python. Lo hace sin hacer copias innecesarias de datos y, por lo general, conduce a implementaciones de algoritmos eficientes. Sin embargo, hay casos en los que la transmisión es una mala idea porque conduce a un uso ineficiente de la memoria que ralentiza el cálculo.\n",
    "\n"
   ]
  },
  {
   "cell_type": "code",
   "execution_count": 41,
   "metadata": {},
   "outputs": [
    {
     "name": "stdout",
     "output_type": "stream",
     "text": [
      "[1. 2. 3.]\n"
     ]
    }
   ],
   "source": [
    "print(a1 / ones)"
   ]
  },
  {
   "cell_type": "code",
   "execution_count": 42,
   "metadata": {},
   "outputs": [
    {
     "name": "stdout",
     "output_type": "stream",
     "text": [
      "[[0.         0.5        0.76666667]\n",
      " [3.         2.35       1.66666667]]\n"
     ]
    }
   ],
   "source": [
    "print(a2 / a1)"
   ]
  },
  {
   "cell_type": "code",
   "execution_count": 44,
   "metadata": {},
   "outputs": [
    {
     "name": "stdout",
     "output_type": "stream",
     "text": [
      "[[0. 0. 0.]\n",
      " [3. 2. 1.]]\n"
     ]
    }
   ],
   "source": [
    "# floor division remove the decimals ( // )\n",
    "print(a2 // a1)"
   ]
  },
  {
   "cell_type": "code",
   "execution_count": 46,
   "metadata": {},
   "outputs": [
    {
     "name": "stdout",
     "output_type": "stream",
     "text": [
      "[[0.  1.  2.3]\n",
      " [3.  4.7 5. ]]\n",
      "[[ 0.    1.    5.29]\n",
      " [ 9.   22.09 25.  ]]\n"
     ]
    }
   ],
   "source": [
    "print(a2)\n",
    "print(a2 ** 2)"
   ]
  },
  {
   "cell_type": "code",
   "execution_count": 47,
   "metadata": {},
   "outputs": [
    {
     "data": {
      "text/plain": [
       "array([[ 0.  ,  1.  ,  5.29],\n",
       "       [ 9.  , 22.09, 25.  ]])"
      ]
     },
     "execution_count": 47,
     "metadata": {},
     "output_type": "execute_result"
    }
   ],
   "source": [
    "# numPy tiene una funcion para pbtener el cuadrado:\n",
    "np.square(a2)"
   ]
  },
  {
   "cell_type": "markdown",
   "metadata": {},
   "source": [
    "**.square()** solo es apto para obtener el cuadrado,\n",
    "es decir, que para las demas operaciones aritmeticas: suma, resta, etc, se pueden hacer manuales como en Python o utilizar:  \n",
    "\n",
    "**.add()**:  Add arguments element-wise.\n",
    "\n",
    "Parameters:  \n",
    "**x1, x2**\n",
    "The arrays to be added.  If x1.shape != x2.shape, they must be broadcastable to a common shape (which becomes the shape of the output).  The sum of x1 and x2, element-wise. This is a scalar if both x1 and x2 are scalars.\n",
    "\n",
    "*Equivalent to x1 + x2 in terms of array broadcasting.*\n"
   ]
  },
  {
   "cell_type": "code",
   "execution_count": 51,
   "metadata": {},
   "outputs": [
    {
     "data": {
      "text/plain": [
       "array([[ 0.,  2.,  4.],\n",
       "       [ 3.,  5.,  7.],\n",
       "       [ 6.,  8., 10.]])"
      ]
     },
     "execution_count": 51,
     "metadata": {},
     "output_type": "execute_result"
    }
   ],
   "source": [
    "# example:\n",
    "np.add(1.0, 4.0)\n",
    "5.0\n",
    "x1 = np.arange(9.0).reshape((3, 3))\n",
    "x2 = np.arange(3.0)\n",
    "np.add(x1, x2)"
   ]
  },
  {
   "cell_type": "code",
   "execution_count": 52,
   "metadata": {},
   "outputs": [
    {
     "name": "stdout",
     "output_type": "stream",
     "text": [
      "[[[ 0.   2.   4.3]\n",
      "  [ 6.   8.7 10. ]]\n",
      "\n",
      " [[ 6.   8.  10.3]\n",
      "  [12.  14.7 16. ]]\n",
      "\n",
      " [[12.  14.  16.3]\n",
      "  [18.  20.7 22. ]]]\n"
     ]
    }
   ],
   "source": [
    "print(np.add(a2,a3))\n"
   ]
  },
  {
   "cell_type": "code",
   "execution_count": 55,
   "metadata": {},
   "outputs": [
    {
     "name": "stdout",
     "output_type": "stream",
     "text": [
      "[[nan 0.  0.7]\n",
      " [1.  2.  3. ]]\n",
      "[[nan 0.  0.7]\n",
      " [1.  2.  3. ]]\n"
     ]
    },
    {
     "name": "stderr",
     "output_type": "stream",
     "text": [
      "C:\\Users\\alvis\\AppData\\Local\\Temp\\ipykernel_8908\\793242999.py:1: RuntimeWarning: invalid value encountered in remainder\n",
      "  print(a1 % a2)\n",
      "C:\\Users\\alvis\\AppData\\Local\\Temp\\ipykernel_8908\\793242999.py:2: RuntimeWarning: invalid value encountered in remainder\n",
      "  print(np.mod(a1,a2))\n"
     ]
    }
   ],
   "source": [
    "print(a1 % a2)\n",
    "print(np.mod(a1,a2))\n",
    "# basicamente es lo mismo, diferentes maneras de hacerlos."
   ]
  },
  {
   "cell_type": "code",
   "execution_count": 3,
   "metadata": {},
   "outputs": [
    {
     "name": "stdout",
     "output_type": "stream",
     "text": [
      "Machine Learning Engineer\n"
     ]
    }
   ],
   "source": [
    "print(\"Machine Learning Engineer\")"
   ]
  },
  {
   "cell_type": "code",
   "execution_count": 58,
   "metadata": {},
   "outputs": [
    {
     "name": "stdout",
     "output_type": "stream",
     "text": [
      "[ 2.71828183  7.3890561  20.08553692]\n"
     ]
    }
   ],
   "source": [
    "# np.exp() ->\n",
    "# Calculate the exponential of all elements in the input array.\n",
    "print(np.exp(a1))"
   ]
  },
  {
   "cell_type": "code",
   "execution_count": 59,
   "metadata": {},
   "outputs": [
    {
     "name": "stdout",
     "output_type": "stream",
     "text": [
      "[2.20264658e+04 4.85165195e+08 1.06864746e+13]\n"
     ]
    }
   ],
   "source": [
    "a10 = np.array([10,20,30])\n",
    "print(np.exp(a10))"
   ]
  },
  {
   "cell_type": "markdown",
   "metadata": {},
   "source": [
    "## **np.log():**\n",
    "#### *Natural logarithm, element-wise.*\n",
    "El logaritmo natural log es el inverso de la función exponencial, por lo que **log(exp(x)) = x**.  \n",
    "  El logaritmo natural es logaritmo en base e.\n"
   ]
  },
  {
   "cell_type": "code",
   "execution_count": 1,
   "metadata": {},
   "outputs": [
    {
     "name": "stdout",
     "output_type": "stream",
     "text": [
      "Deep Learning Engineer\n"
     ]
    }
   ],
   "source": [
    "# inspiration and future goal cell\n",
    "\n",
    "future_job_in_norway = 'Deep Learning Engineer'\n",
    "print(future_job_in_norway)"
   ]
  },
  {
   "cell_type": "code",
   "execution_count": 2,
   "metadata": {},
   "outputs": [],
   "source": [
    "import pandas as pd\n",
    "import numpy as np\n",
    "import matplotlib.pyplot as plt"
   ]
  },
  {
   "cell_type": "code",
   "execution_count": 3,
   "metadata": {},
   "outputs": [
    {
     "name": "stdout",
     "output_type": "stream",
     "text": [
      "ML & DL Engineer\n",
      "Machine Learning Engineer\n",
      "Deep Learning Engineer\n"
     ]
    }
   ],
   "source": [
    "jobs = ['ML & DL Engineer', 'Machine Learning Engineer', 'Deep Learning Engineer']\n",
    "\n",
    "for fj in jobs:\n",
    "    print(fj)"
   ]
  },
  {
   "cell_type": "code",
   "execution_count": 9,
   "metadata": {},
   "outputs": [
    {
     "name": "stdout",
     "output_type": "stream",
     "text": [
      "PyTorch = Pythonist\n"
     ]
    }
   ],
   "source": [
    "print('PyTorch = Pythonist')"
   ]
  },
  {
   "cell_type": "markdown",
   "metadata": {},
   "source": [
    "\n",
    "### Aggregation\n",
    "#### Aggregation = realizar la misma operación en varias cosas"
   ]
  },
  {
   "cell_type": "code",
   "execution_count": 12,
   "metadata": {},
   "outputs": [
    {
     "name": "stdout",
     "output_type": "stream",
     "text": [
      "Tipo: <class 'list'>\n"
     ]
    }
   ],
   "source": [
    "listyList = [1,2,3]\n",
    "print('Tipo:', type(listyList))"
   ]
  },
  {
   "cell_type": "code",
   "execution_count": 14,
   "metadata": {},
   "outputs": [
    {
     "name": "stdout",
     "output_type": "stream",
     "text": [
      "La suma de la lista:  6\n"
     ]
    }
   ],
   "source": [
    "\n",
    "print('La suma de la lista: ', sum(listyList))"
   ]
  },
  {
   "cell_type": "code",
   "execution_count": 15,
   "metadata": {},
   "outputs": [
    {
     "name": "stdout",
     "output_type": "stream",
     "text": [
      "[1 2 3]\n"
     ]
    }
   ],
   "source": [
    "print(a1)"
   ]
  },
  {
   "cell_type": "markdown",
   "metadata": {},
   "source": [
    "#### Cuando hablamos de agregacion, se pueden usar ya sean los metodos de Python, o los de NumPy, ej:"
   ]
  },
  {
   "cell_type": "code",
   "execution_count": 16,
   "metadata": {},
   "outputs": [
    {
     "name": "stdout",
     "output_type": "stream",
     "text": [
      "6\n"
     ]
    }
   ],
   "source": [
    "# Metodo de Python:\n",
    "print(sum(a1))"
   ]
  },
  {
   "cell_type": "code",
   "execution_count": 18,
   "metadata": {},
   "outputs": [
    {
     "name": "stdout",
     "output_type": "stream",
     "text": [
      "6\n"
     ]
    }
   ],
   "source": [
    "# Metodo de Numpy:\n",
    "print(np.sum(a1))"
   ]
  },
  {
   "cell_type": "markdown",
   "metadata": {},
   "source": [
    "### Cual es la diferencia, o mejor dicho, que se debe hacer?\n",
    "#### Se deben usar los metodos de Python para datatypes de Python, y np.methods, para Numpy datatypes, ejemplo sencillo:\n",
    "*Python datatype:* **`sum()`**  \n",
    "*NumPy datatype:* **`np.sum()`**\n"
   ]
  },
  {
   "cell_type": "code",
   "execution_count": 20,
   "metadata": {},
   "outputs": [
    {
     "name": "stdout",
     "output_type": "stream",
     "text": [
      "Este es un datatype de Python:  [1, 2, 3, 4]\n",
      "La suma de este datatype de Python es: 10  con un tipo de dato:  <class 'list'>\n"
     ]
    }
   ],
   "source": [
    "# Un datatype de Python puede ser una lista:\n",
    "pythonDatatype = [1,2,3,4]\n",
    "print('Este es un datatype de Python: ', pythonDatatype)\n",
    "print('La suma de este datatype de Python es:', sum(pythonDatatype), ' con un tipo de dato: ', type(pythonDatatype))"
   ]
  },
  {
   "cell_type": "code",
   "execution_count": 22,
   "metadata": {},
   "outputs": [
    {
     "name": "stdout",
     "output_type": "stream",
     "text": [
      "Este es un datatype de NumPy:  [1 2 3 4]\n",
      "La suma de este datatype es de:  10  con un datatype:  <class 'numpy.ndarray'>\n"
     ]
    }
   ],
   "source": [
    "# Un datatype de NumPy puede ser un array:\n",
    "numpyDatatype = np.array([1,2,3,4])\n",
    "print('Este es un datatype de NumPy: ', numpyDatatype)\n",
    "print('La suma de este datatype es de: ', np.sum(numpyDatatype), ' con un datatype: ', type(numpyDatatype))"
   ]
  },
  {
   "cell_type": "markdown",
   "metadata": {},
   "source": [
    "Que NumPy este escrito en ***C***, lo hace increiblemente **`bello`** :D"
   ]
  },
  {
   "cell_type": "markdown",
   "metadata": {},
   "source": [
    "#### Vamos a crear un array **masivo** para poder ver el poder de NumPy en temas de rendimiento.\n"
   ]
  },
  {
   "cell_type": "code",
   "execution_count": 27,
   "metadata": {},
   "outputs": [
    {
     "name": "stdout",
     "output_type": "stream",
     "text": [
      "Size:  100000\n",
      "[0.54863815 0.29307534 0.36968783 0.958302   0.3587922  0.75922353\n",
      " 0.59996502 0.5545326  0.90383358 0.14382119 0.20522983 0.69207692\n",
      " 0.86390149 0.06245861 0.70423625 0.35672904 0.27699664 0.84602035\n",
      " 0.2874539  0.2140835  0.04178341 0.35867816 0.84701674 0.24467299\n",
      " 0.51691255 0.05099817 0.47154585 0.08674462 0.63979932 0.72378207\n",
      " 0.20975834 0.80286772 0.55933642 0.01419831 0.64457591 0.73563152\n",
      " 0.98046849 0.74711213 0.58662892 0.65805315 0.12041512 0.30098422\n",
      " 0.33064067 0.98542152 0.24683758 0.65605787 0.65240322 0.01443469\n",
      " 0.41371357 0.75588015 0.66381335 0.05089213 0.66320748 0.23414343\n",
      " 0.5302644  0.97755058 0.35241578 0.78743356 0.70838919 0.57659404\n",
      " 0.82902651 0.03970263 0.64396332 0.7541073  0.38849046 0.8976632\n",
      " 0.49526893 0.81156596 0.61529303 0.29601157 0.26550771 0.08299968\n",
      " 0.74905897 0.98014008 0.11324797 0.24044682 0.61508372 0.97088395\n",
      " 0.78714364 0.33052401 0.90031019 0.25901389 0.22988247 0.93331258\n",
      " 0.76537055 0.68458604 0.59386427 0.52747441 0.84180278 0.58266666\n",
      " 0.43553845 0.73597457 0.29939685 0.7089073  0.03416369 0.90014684\n",
      " 0.5362546  0.12806816 0.22272572 0.46983939]\n"
     ]
    }
   ],
   "source": [
    "massiveArray = np.random.random(100000)\n",
    "# recordar que np.random.random() -> Return random floats in the half-open interval [0.0, 1.0). \n",
    "print('Size: ', massiveArray.size)\n",
    "print(massiveArray[:100])"
   ]
  },
  {
   "cell_type": "code",
   "execution_count": 29,
   "metadata": {},
   "outputs": [
    {
     "data": {
      "text/plain": [
       "array([0.98344219, 0.8072781 , 0.67662842, 0.80158276, 0.58321198,\n",
       "       0.09431391, 0.73278007, 0.362503  , 0.01142723, 0.85939073,\n",
       "       0.43785127, 0.6605821 , 0.57902524, 0.54340172, 0.45941731,\n",
       "       0.28541746, 0.33701619, 0.42242173, 0.04690764, 0.88300081,\n",
       "       0.21746944, 0.77040764, 0.03687579, 0.19823234, 0.02091385,\n",
       "       0.2826639 , 0.13013647, 0.49871397, 0.61709507, 0.2812661 ,\n",
       "       0.07646703, 0.61896616, 0.37626225, 0.21273743, 0.89548484,\n",
       "       0.01333437, 0.82596469, 0.80293574, 0.68209691, 0.35344174,\n",
       "       0.5325114 , 0.7582954 , 0.06372741, 0.37063255, 0.10808926,\n",
       "       0.64540107, 0.88262783, 0.73493693, 0.81652341, 0.12919834,\n",
       "       0.03941271, 0.8080925 , 0.53335105, 0.92656245, 0.91494863,\n",
       "       0.91444895, 0.89022232, 0.50493401, 0.32580388, 0.29040042,\n",
       "       0.06530202, 0.90569078, 0.48131998, 0.02037904, 0.56537125,\n",
       "       0.55641625, 0.09068591, 0.37809366, 0.69521986, 0.61328518,\n",
       "       0.60176706, 0.51247045, 0.57723346, 0.62189225, 0.20825793,\n",
       "       0.25671137, 0.30089995, 0.41908551, 0.46435706, 0.00461898,\n",
       "       0.12684808, 0.5922462 , 0.04090887, 0.09072578, 0.17195779,\n",
       "       0.64197923, 0.29220158, 0.72533754, 0.69844726, 0.23037525,\n",
       "       0.71478819, 0.21878829, 0.11938974, 0.79177635, 0.40984147,\n",
       "       0.7550368 , 0.67063358, 0.07251253, 0.05774562, 0.01585052])"
      ]
     },
     "execution_count": 29,
     "metadata": {},
     "output_type": "execute_result"
    }
   ],
   "source": [
    "# Lo mismo pero con el nuevo method:\n",
    "massiveArrayNewMethod = np.random.random_sample(1000)\n",
    "massiveArrayNewMethod.size\n",
    "massiveArrayNewMethod[:100]"
   ]
  },
  {
   "cell_type": "markdown",
   "metadata": {},
   "source": [
    "### Vamos a comprobar la velocidad de NumPy (escrito en C) vs Python vanilla (por asi decirlo)"
   ]
  },
  {
   "cell_type": "code",
   "execution_count": 37,
   "metadata": {},
   "outputs": [
    {
     "name": "stdout",
     "output_type": "stream",
     "text": [
      "14.3 ms ± 208 µs per loop (mean ± std. dev. of 7 runs, 100 loops each)\n",
      "49.6 µs ± 1.92 µs per loop (mean ± std. dev. of 7 runs, 10,000 loops each)\n"
     ]
    }
   ],
   "source": [
    "# Python (vanilla)\n",
    "%timeit sum(massiveArray)\n",
    "# NumPy (escrito en C)\n",
    "%timeit np.sum(massiveArray)\n"
   ]
  },
  {
   "cell_type": "markdown",
   "metadata": {},
   "source": [
    "Python tarda 14.3 ms, mientras que Nympy tarda 49.6 MICRO segundos, si hacemos calculos:\n"
   ]
  },
  {
   "cell_type": "code",
   "execution_count": 5,
   "metadata": {},
   "outputs": [
    {
     "data": {
      "text/plain": [
       "288.30645161290323"
      ]
     },
     "execution_count": 5,
     "metadata": {},
     "output_type": "execute_result"
    }
   ],
   "source": [
    "14300 / 49.6 "
   ]
  },
  {
   "cell_type": "markdown",
   "metadata": {},
   "source": [
    "Lo que nos indica que **NumPy** es **288** veces mas rapido que Python,\n",
    "que locura, no? :D\n",
    "Ahora imaginemos esto con cantidades inmensas de datos de una empresa, wow!!"
   ]
  },
  {
   "cell_type": "code",
   "execution_count": 40,
   "metadata": {},
   "outputs": [
    {
     "data": {
      "text/plain": [
       "array([[0. , 1. , 2.3],\n",
       "       [3. , 4.7, 5. ]])"
      ]
     },
     "execution_count": 40,
     "metadata": {},
     "output_type": "execute_result"
    }
   ],
   "source": [
    "# mas metodos de aggregation:\n",
    "\n",
    "\n",
    "a2"
   ]
  },
  {
   "cell_type": "code",
   "execution_count": 45,
   "metadata": {},
   "outputs": [
    {
     "name": "stdout",
     "output_type": "stream",
     "text": [
      "2.6666666666666665\n",
      "0.0\n",
      "5.0\n",
      "1.8126101499096698\n"
     ]
    }
   ],
   "source": [
    "print(np.mean(a2))\n",
    "# recordar que np.mean nos retorna el promedio del array\n",
    "print(np.min(a2))\n",
    "print(np.max(a2))\n",
    "print(np.std(a2))\n",
    "# Devuelve la desviación estándar, una medida de la dispersión de una distribución, de los elementos del array.\n",
    "# Video del profe Alex de 10 min visto, muy interesante."
   ]
  },
  {
   "cell_type": "code",
   "execution_count": 2,
   "metadata": {},
   "outputs": [
    {
     "ename": "NameError",
     "evalue": "name 'np' is not defined",
     "output_type": "error",
     "traceback": [
      "\u001b[1;31m---------------------------------------------------------------------------\u001b[0m",
      "\u001b[1;31mNameError\u001b[0m                                 Traceback (most recent call last)",
      "Input \u001b[1;32mIn [2]\u001b[0m, in \u001b[0;36m<cell line: 1>\u001b[1;34m()\u001b[0m\n\u001b[1;32m----> 1\u001b[0m \u001b[38;5;28mprint\u001b[39m(\u001b[43mnp\u001b[49m\u001b[38;5;241m.\u001b[39mvar(a2))\n",
      "\u001b[1;31mNameError\u001b[0m: name 'np' is not defined"
     ]
    }
   ],
   "source": [
    "print(np.var(a2))\n",
    "# variance = a la medida del grado promedio en el que cada numero es diferente al principal\n",
    "\n",
    "# higher variance = una gama más amplia de números\n",
    "#  lower variance = gama inferior de números\n",
    "# videos de varianza visto, del profe Alex\n"
   ]
  },
  {
   "cell_type": "code",
   "execution_count": 4,
   "metadata": {},
   "outputs": [],
   "source": [
    "import numpy as np\n",
    "import pandas as pd\n"
   ]
  },
  {
   "cell_type": "code",
   "execution_count": 8,
   "metadata": {},
   "outputs": [],
   "source": [
    "# exercise nut butter store sales\n"
   ]
  },
  {
   "cell_type": "code",
   "execution_count": 11,
   "metadata": {},
   "outputs": [],
   "source": [
    "np.random.seed(0)\n",
    "# number of jars sold\n",
    "sales_amounts = np.random.randint(20, size=(5,3))"
   ]
  },
  {
   "cell_type": "code",
   "execution_count": 15,
   "metadata": {},
   "outputs": [
    {
     "data": {
      "text/html": [
       "<div>\n",
       "<style scoped>\n",
       "    .dataframe tbody tr th:only-of-type {\n",
       "        vertical-align: middle;\n",
       "    }\n",
       "\n",
       "    .dataframe tbody tr th {\n",
       "        vertical-align: top;\n",
       "    }\n",
       "\n",
       "    .dataframe thead th {\n",
       "        text-align: right;\n",
       "    }\n",
       "</style>\n",
       "<table border=\"1\" class=\"dataframe\">\n",
       "  <thead>\n",
       "    <tr style=\"text-align: right;\">\n",
       "      <th></th>\n",
       "      <th>Almond butter</th>\n",
       "      <th>Peanut butter</th>\n",
       "      <th>Cashew butter</th>\n",
       "    </tr>\n",
       "  </thead>\n",
       "  <tbody>\n",
       "    <tr>\n",
       "      <th>Monday</th>\n",
       "      <td>12</td>\n",
       "      <td>15</td>\n",
       "      <td>0</td>\n",
       "    </tr>\n",
       "    <tr>\n",
       "      <th>Tuesday</th>\n",
       "      <td>3</td>\n",
       "      <td>3</td>\n",
       "      <td>7</td>\n",
       "    </tr>\n",
       "    <tr>\n",
       "      <th>Wednesday</th>\n",
       "      <td>9</td>\n",
       "      <td>19</td>\n",
       "      <td>18</td>\n",
       "    </tr>\n",
       "    <tr>\n",
       "      <th>Thursday</th>\n",
       "      <td>4</td>\n",
       "      <td>6</td>\n",
       "      <td>12</td>\n",
       "    </tr>\n",
       "    <tr>\n",
       "      <th>Friday</th>\n",
       "      <td>1</td>\n",
       "      <td>6</td>\n",
       "      <td>7</td>\n",
       "    </tr>\n",
       "  </tbody>\n",
       "</table>\n",
       "</div>"
      ],
      "text/plain": [
       "           Almond butter  Peanut butter  Cashew butter\n",
       "Monday                12             15              0\n",
       "Tuesday                3              3              7\n",
       "Wednesday              9             19             18\n",
       "Thursday               4              6             12\n",
       "Friday                 1              6              7"
      ]
     },
     "execution_count": 15,
     "metadata": {},
     "output_type": "execute_result"
    }
   ],
   "source": [
    "# weekly_sales df with Pandas\n",
    "\n",
    "weekly_sales = pd.DataFrame(sales_amounts,\n",
    "                           index=[\"Monday\", \"Tuesday\", \"Wednesday\",\"Thursday\", \"Friday\"],\n",
    "                           columns=[\"Almond butter\", \"Peanut butter\", \"Cashew butter\"])\n",
    "weekly_sales"
   ]
  },
  {
   "cell_type": "code",
   "execution_count": 20,
   "metadata": {},
   "outputs": [
    {
     "data": {
      "text/html": [
       "<div>\n",
       "<style scoped>\n",
       "    .dataframe tbody tr th:only-of-type {\n",
       "        vertical-align: middle;\n",
       "    }\n",
       "\n",
       "    .dataframe tbody tr th {\n",
       "        vertical-align: top;\n",
       "    }\n",
       "\n",
       "    .dataframe thead th {\n",
       "        text-align: right;\n",
       "    }\n",
       "</style>\n",
       "<table border=\"1\" class=\"dataframe\">\n",
       "  <thead>\n",
       "    <tr style=\"text-align: right;\">\n",
       "      <th></th>\n",
       "      <th>Almond butter</th>\n",
       "      <th>Peanut butter</th>\n",
       "      <th>Cashew butter</th>\n",
       "    </tr>\n",
       "  </thead>\n",
       "  <tbody>\n",
       "    <tr>\n",
       "      <th>Price</th>\n",
       "      <td>10</td>\n",
       "      <td>8</td>\n",
       "      <td>12</td>\n",
       "    </tr>\n",
       "  </tbody>\n",
       "</table>\n",
       "</div>"
      ],
      "text/plain": [
       "       Almond butter  Peanut butter  Cashew butter\n",
       "Price             10              8             12"
      ]
     },
     "execution_count": 20,
     "metadata": {},
     "output_type": "execute_result"
    }
   ],
   "source": [
    "# create butter_prices and DF\n",
    "prices = np.array([10,8,12])\n",
    "prices\n",
    "\n",
    "# el parametro prices nos daria el error: ValueError: Shape of passed values is (3, 1), indices imply (1, 3)\n",
    "                             # por lo cual debemos usar reshape:\n",
    "butter_prices = pd.DataFrame(prices.reshape(1,3),\n",
    "                            index=[\"Price\"],\n",
    "                            columns=[\"Almond butter\", \"Peanut butter\", \"Cashew butter\"])                                \n",
    "butter_prices"
   ]
  },
  {
   "cell_type": "code",
   "execution_count": 22,
   "metadata": {},
   "outputs": [
    {
     "ename": "ValueError",
     "evalue": "shapes (3,) and (5,3) not aligned: 3 (dim 0) != 5 (dim 0)",
     "output_type": "error",
     "traceback": [
      "\u001b[1;31m---------------------------------------------------------------------------\u001b[0m",
      "\u001b[1;31mValueError\u001b[0m                                Traceback (most recent call last)",
      "Input \u001b[1;32mIn [22]\u001b[0m, in \u001b[0;36m<cell line: 1>\u001b[1;34m()\u001b[0m\n\u001b[1;32m----> 1\u001b[0m total_sales \u001b[38;5;241m=\u001b[39m \u001b[43mprices\u001b[49m\u001b[38;5;241;43m.\u001b[39;49m\u001b[43mdot\u001b[49m\u001b[43m(\u001b[49m\u001b[43msales_amounts\u001b[49m\u001b[43m)\u001b[49m\n\u001b[0;32m      2\u001b[0m total_sales\n",
      "\u001b[1;31mValueError\u001b[0m: shapes (3,) and (5,3) not aligned: 3 (dim 0) != 5 (dim 0)"
     ]
    }
   ],
   "source": [
    "total_sales = prices.dot(sales_amounts)\n",
    "total_sales\n"
   ]
  },
  {
   "cell_type": "code",
   "execution_count": 24,
   "metadata": {},
   "outputs": [
    {
     "data": {
      "text/plain": [
       "((3,), (5, 3))"
      ]
     },
     "execution_count": 24,
     "metadata": {},
     "output_type": "execute_result"
    }
   ],
   "source": [
    "prices.shape, sales_amounts.shape"
   ]
  },
  {
   "cell_type": "code",
   "execution_count": 27,
   "metadata": {},
   "outputs": [
    {
     "data": {
      "text/plain": [
       "array([240, 138, 458, 232, 142])"
      ]
     },
     "execution_count": 27,
     "metadata": {},
     "output_type": "execute_result"
    }
   ],
   "source": [
    "# shapes aren't aligned, let's transpose\n",
    "total_sales = prices.dot(sales_amounts.T)\n",
    "total_sales\n"
   ]
  },
  {
   "cell_type": "code",
   "execution_count": 29,
   "metadata": {},
   "outputs": [
    {
     "data": {
      "text/plain": [
       "((1, 3), (5, 3))"
      ]
     },
     "execution_count": 29,
     "metadata": {},
     "output_type": "execute_result"
    }
   ],
   "source": [
    "butter_prices.shape, weekly_sales.shape"
   ]
  },
  {
   "cell_type": "code",
   "execution_count": 30,
   "metadata": {},
   "outputs": [
    {
     "data": {
      "text/html": [
       "<div>\n",
       "<style scoped>\n",
       "    .dataframe tbody tr th:only-of-type {\n",
       "        vertical-align: middle;\n",
       "    }\n",
       "\n",
       "    .dataframe tbody tr th {\n",
       "        vertical-align: top;\n",
       "    }\n",
       "\n",
       "    .dataframe thead th {\n",
       "        text-align: right;\n",
       "    }\n",
       "</style>\n",
       "<table border=\"1\" class=\"dataframe\">\n",
       "  <thead>\n",
       "    <tr style=\"text-align: right;\">\n",
       "      <th></th>\n",
       "      <th>Monday</th>\n",
       "      <th>Tuesday</th>\n",
       "      <th>Wednesday</th>\n",
       "      <th>Thursday</th>\n",
       "      <th>Friday</th>\n",
       "    </tr>\n",
       "  </thead>\n",
       "  <tbody>\n",
       "    <tr>\n",
       "      <th>Price</th>\n",
       "      <td>240</td>\n",
       "      <td>138</td>\n",
       "      <td>458</td>\n",
       "      <td>232</td>\n",
       "      <td>142</td>\n",
       "    </tr>\n",
       "  </tbody>\n",
       "</table>\n",
       "</div>"
      ],
      "text/plain": [
       "       Monday  Tuesday  Wednesday  Thursday  Friday\n",
       "Price     240      138        458       232     142"
      ]
     },
     "execution_count": 30,
     "metadata": {},
     "output_type": "execute_result"
    }
   ],
   "source": [
    "# create daily_sales\n",
    "\n",
    "daily_sales = butter_prices.dot(weekly_sales.T)\n",
    "daily_sales"
   ]
  },
  {
   "cell_type": "code",
   "execution_count": 33,
   "metadata": {},
   "outputs": [
    {
     "ename": "ValueError",
     "evalue": "Expected a 1D array, got an array with shape (5, 5)",
     "output_type": "error",
     "traceback": [
      "\u001b[1;31m---------------------------------------------------------------------------\u001b[0m",
      "\u001b[1;31mKeyError\u001b[0m                                  Traceback (most recent call last)",
      "File \u001b[1;32m~\\Machine-Learning-Workspace\\env\\lib\\site-packages\\pandas\\core\\indexes\\base.py:3621\u001b[0m, in \u001b[0;36mIndex.get_loc\u001b[1;34m(self, key, method, tolerance)\u001b[0m\n\u001b[0;32m   3620\u001b[0m \u001b[38;5;28;01mtry\u001b[39;00m:\n\u001b[1;32m-> 3621\u001b[0m     \u001b[38;5;28;01mreturn\u001b[39;00m \u001b[38;5;28;43mself\u001b[39;49m\u001b[38;5;241;43m.\u001b[39;49m\u001b[43m_engine\u001b[49m\u001b[38;5;241;43m.\u001b[39;49m\u001b[43mget_loc\u001b[49m\u001b[43m(\u001b[49m\u001b[43mcasted_key\u001b[49m\u001b[43m)\u001b[49m\n\u001b[0;32m   3622\u001b[0m \u001b[38;5;28;01mexcept\u001b[39;00m \u001b[38;5;167;01mKeyError\u001b[39;00m \u001b[38;5;28;01mas\u001b[39;00m err:\n",
      "File \u001b[1;32m~\\Machine-Learning-Workspace\\env\\lib\\site-packages\\pandas\\_libs\\index.pyx:136\u001b[0m, in \u001b[0;36mpandas._libs.index.IndexEngine.get_loc\u001b[1;34m()\u001b[0m\n",
      "File \u001b[1;32m~\\Machine-Learning-Workspace\\env\\lib\\site-packages\\pandas\\_libs\\index.pyx:163\u001b[0m, in \u001b[0;36mpandas._libs.index.IndexEngine.get_loc\u001b[1;34m()\u001b[0m\n",
      "File \u001b[1;32mpandas\\_libs\\hashtable_class_helper.pxi:5198\u001b[0m, in \u001b[0;36mpandas._libs.hashtable.PyObjectHashTable.get_item\u001b[1;34m()\u001b[0m\n",
      "File \u001b[1;32mpandas\\_libs\\hashtable_class_helper.pxi:5206\u001b[0m, in \u001b[0;36mpandas._libs.hashtable.PyObjectHashTable.get_item\u001b[1;34m()\u001b[0m\n",
      "\u001b[1;31mKeyError\u001b[0m: 'Total $'",
      "\nThe above exception was the direct cause of the following exception:\n",
      "\u001b[1;31mKeyError\u001b[0m                                  Traceback (most recent call last)",
      "File \u001b[1;32m~\\Machine-Learning-Workspace\\env\\lib\\site-packages\\pandas\\core\\frame.py:3799\u001b[0m, in \u001b[0;36mDataFrame._set_item_mgr\u001b[1;34m(self, key, value)\u001b[0m\n\u001b[0;32m   3798\u001b[0m \u001b[38;5;28;01mtry\u001b[39;00m:\n\u001b[1;32m-> 3799\u001b[0m     loc \u001b[38;5;241m=\u001b[39m \u001b[38;5;28;43mself\u001b[39;49m\u001b[38;5;241;43m.\u001b[39;49m\u001b[43m_info_axis\u001b[49m\u001b[38;5;241;43m.\u001b[39;49m\u001b[43mget_loc\u001b[49m\u001b[43m(\u001b[49m\u001b[43mkey\u001b[49m\u001b[43m)\u001b[49m\n\u001b[0;32m   3800\u001b[0m \u001b[38;5;28;01mexcept\u001b[39;00m \u001b[38;5;167;01mKeyError\u001b[39;00m:\n\u001b[0;32m   3801\u001b[0m     \u001b[38;5;66;03m# This item wasn't present, just insert at end\u001b[39;00m\n",
      "File \u001b[1;32m~\\Machine-Learning-Workspace\\env\\lib\\site-packages\\pandas\\core\\indexes\\base.py:3623\u001b[0m, in \u001b[0;36mIndex.get_loc\u001b[1;34m(self, key, method, tolerance)\u001b[0m\n\u001b[0;32m   3622\u001b[0m \u001b[38;5;28;01mexcept\u001b[39;00m \u001b[38;5;167;01mKeyError\u001b[39;00m \u001b[38;5;28;01mas\u001b[39;00m err:\n\u001b[1;32m-> 3623\u001b[0m     \u001b[38;5;28;01mraise\u001b[39;00m \u001b[38;5;167;01mKeyError\u001b[39;00m(key) \u001b[38;5;28;01mfrom\u001b[39;00m \u001b[38;5;21;01merr\u001b[39;00m\n\u001b[0;32m   3624\u001b[0m \u001b[38;5;28;01mexcept\u001b[39;00m \u001b[38;5;167;01mTypeError\u001b[39;00m:\n\u001b[0;32m   3625\u001b[0m     \u001b[38;5;66;03m# If we have a listlike key, _check_indexing_error will raise\u001b[39;00m\n\u001b[0;32m   3626\u001b[0m     \u001b[38;5;66;03m#  InvalidIndexError. Otherwise we fall through and re-raise\u001b[39;00m\n\u001b[0;32m   3627\u001b[0m     \u001b[38;5;66;03m#  the TypeError.\u001b[39;00m\n",
      "\u001b[1;31mKeyError\u001b[0m: 'Total $'",
      "\nDuring handling of the above exception, another exception occurred:\n",
      "\u001b[1;31mValueError\u001b[0m                                Traceback (most recent call last)",
      "Input \u001b[1;32mIn [33]\u001b[0m, in \u001b[0;36m<cell line: 3>\u001b[1;34m()\u001b[0m\n\u001b[0;32m      1\u001b[0m \u001b[38;5;66;03m# does not work, different shapes, let's fixed:\u001b[39;00m\n\u001b[0;32m      2\u001b[0m \u001b[38;5;66;03m# Output: Expected a 1D array, got an array with shape (5, 5)\u001b[39;00m\n\u001b[1;32m----> 3\u001b[0m weekly_sales[\u001b[38;5;124m\"\u001b[39m\u001b[38;5;124mTotal $\u001b[39m\u001b[38;5;124m\"\u001b[39m] \u001b[38;5;241m=\u001b[39m daily_sales\n\u001b[0;32m      4\u001b[0m daily_sales\n",
      "File \u001b[1;32m~\\Machine-Learning-Workspace\\env\\lib\\site-packages\\pandas\\core\\frame.py:3645\u001b[0m, in \u001b[0;36mDataFrame.__setitem__\u001b[1;34m(self, key, value)\u001b[0m\n\u001b[0;32m   3643\u001b[0m     \u001b[38;5;28mself\u001b[39m\u001b[38;5;241m.\u001b[39m_setitem_array(key, value)\n\u001b[0;32m   3644\u001b[0m \u001b[38;5;28;01melif\u001b[39;00m \u001b[38;5;28misinstance\u001b[39m(value, DataFrame):\n\u001b[1;32m-> 3645\u001b[0m     \u001b[38;5;28;43mself\u001b[39;49m\u001b[38;5;241;43m.\u001b[39;49m\u001b[43m_set_item_frame_value\u001b[49m\u001b[43m(\u001b[49m\u001b[43mkey\u001b[49m\u001b[43m,\u001b[49m\u001b[43m \u001b[49m\u001b[43mvalue\u001b[49m\u001b[43m)\u001b[49m\n\u001b[0;32m   3646\u001b[0m \u001b[38;5;28;01melif\u001b[39;00m (\n\u001b[0;32m   3647\u001b[0m     is_list_like(value)\n\u001b[0;32m   3648\u001b[0m     \u001b[38;5;129;01mand\u001b[39;00m \u001b[38;5;129;01mnot\u001b[39;00m \u001b[38;5;28mself\u001b[39m\u001b[38;5;241m.\u001b[39mcolumns\u001b[38;5;241m.\u001b[39mis_unique\n\u001b[0;32m   3649\u001b[0m     \u001b[38;5;129;01mand\u001b[39;00m \u001b[38;5;241m1\u001b[39m \u001b[38;5;241m<\u001b[39m \u001b[38;5;28mlen\u001b[39m(\u001b[38;5;28mself\u001b[39m\u001b[38;5;241m.\u001b[39mcolumns\u001b[38;5;241m.\u001b[39mget_indexer_for([key])) \u001b[38;5;241m==\u001b[39m \u001b[38;5;28mlen\u001b[39m(value)\n\u001b[0;32m   3650\u001b[0m ):\n\u001b[0;32m   3651\u001b[0m     \u001b[38;5;66;03m# Column to set is duplicated\u001b[39;00m\n\u001b[0;32m   3652\u001b[0m     \u001b[38;5;28mself\u001b[39m\u001b[38;5;241m.\u001b[39m_setitem_array([key], value)\n",
      "File \u001b[1;32m~\\Machine-Learning-Workspace\\env\\lib\\site-packages\\pandas\\core\\frame.py:3788\u001b[0m, in \u001b[0;36mDataFrame._set_item_frame_value\u001b[1;34m(self, key, value)\u001b[0m\n\u001b[0;32m   3786\u001b[0m \u001b[38;5;66;03m# now align rows\u001b[39;00m\n\u001b[0;32m   3787\u001b[0m arraylike \u001b[38;5;241m=\u001b[39m _reindex_for_setitem(value, \u001b[38;5;28mself\u001b[39m\u001b[38;5;241m.\u001b[39mindex)\n\u001b[1;32m-> 3788\u001b[0m \u001b[38;5;28;43mself\u001b[39;49m\u001b[38;5;241;43m.\u001b[39;49m\u001b[43m_set_item_mgr\u001b[49m\u001b[43m(\u001b[49m\u001b[43mkey\u001b[49m\u001b[43m,\u001b[49m\u001b[43m \u001b[49m\u001b[43marraylike\u001b[49m\u001b[43m)\u001b[49m\n",
      "File \u001b[1;32m~\\Machine-Learning-Workspace\\env\\lib\\site-packages\\pandas\\core\\frame.py:3802\u001b[0m, in \u001b[0;36mDataFrame._set_item_mgr\u001b[1;34m(self, key, value)\u001b[0m\n\u001b[0;32m   3799\u001b[0m     loc \u001b[38;5;241m=\u001b[39m \u001b[38;5;28mself\u001b[39m\u001b[38;5;241m.\u001b[39m_info_axis\u001b[38;5;241m.\u001b[39mget_loc(key)\n\u001b[0;32m   3800\u001b[0m \u001b[38;5;28;01mexcept\u001b[39;00m \u001b[38;5;167;01mKeyError\u001b[39;00m:\n\u001b[0;32m   3801\u001b[0m     \u001b[38;5;66;03m# This item wasn't present, just insert at end\u001b[39;00m\n\u001b[1;32m-> 3802\u001b[0m     \u001b[38;5;28;43mself\u001b[39;49m\u001b[38;5;241;43m.\u001b[39;49m\u001b[43m_mgr\u001b[49m\u001b[38;5;241;43m.\u001b[39;49m\u001b[43minsert\u001b[49m\u001b[43m(\u001b[49m\u001b[38;5;28;43mlen\u001b[39;49m\u001b[43m(\u001b[49m\u001b[38;5;28;43mself\u001b[39;49m\u001b[38;5;241;43m.\u001b[39;49m\u001b[43m_info_axis\u001b[49m\u001b[43m)\u001b[49m\u001b[43m,\u001b[49m\u001b[43m \u001b[49m\u001b[43mkey\u001b[49m\u001b[43m,\u001b[49m\u001b[43m \u001b[49m\u001b[43mvalue\u001b[49m\u001b[43m)\u001b[49m\n\u001b[0;32m   3803\u001b[0m \u001b[38;5;28;01melse\u001b[39;00m:\n\u001b[0;32m   3804\u001b[0m     \u001b[38;5;28mself\u001b[39m\u001b[38;5;241m.\u001b[39m_iset_item_mgr(loc, value)\n",
      "File \u001b[1;32m~\\Machine-Learning-Workspace\\env\\lib\\site-packages\\pandas\\core\\internals\\managers.py:1235\u001b[0m, in \u001b[0;36mBlockManager.insert\u001b[1;34m(self, loc, item, value)\u001b[0m\n\u001b[0;32m   1233\u001b[0m     value \u001b[38;5;241m=\u001b[39m value\u001b[38;5;241m.\u001b[39mT\n\u001b[0;32m   1234\u001b[0m     \u001b[38;5;28;01mif\u001b[39;00m \u001b[38;5;28mlen\u001b[39m(value) \u001b[38;5;241m>\u001b[39m \u001b[38;5;241m1\u001b[39m:\n\u001b[1;32m-> 1235\u001b[0m         \u001b[38;5;28;01mraise\u001b[39;00m \u001b[38;5;167;01mValueError\u001b[39;00m(\n\u001b[0;32m   1236\u001b[0m             \u001b[38;5;124mf\u001b[39m\u001b[38;5;124m\"\u001b[39m\u001b[38;5;124mExpected a 1D array, got an array with shape \u001b[39m\u001b[38;5;132;01m{\u001b[39;00mvalue\u001b[38;5;241m.\u001b[39mT\u001b[38;5;241m.\u001b[39mshape\u001b[38;5;132;01m}\u001b[39;00m\u001b[38;5;124m\"\u001b[39m\n\u001b[0;32m   1237\u001b[0m         )\n\u001b[0;32m   1238\u001b[0m \u001b[38;5;28;01melse\u001b[39;00m:\n\u001b[0;32m   1239\u001b[0m     value \u001b[38;5;241m=\u001b[39m ensure_block_shape(value, ndim\u001b[38;5;241m=\u001b[39m\u001b[38;5;28mself\u001b[39m\u001b[38;5;241m.\u001b[39mndim)\n",
      "\u001b[1;31mValueError\u001b[0m: Expected a 1D array, got an array with shape (5, 5)"
     ]
    }
   ],
   "source": [
    "# does not work, different shapes, let's fixed:\n",
    "# Output: Expected a 1D array, got an array with shape (5, 5)\n",
    "weekly_sales[\"Total $\"] = daily_sales\n",
    "daily_sales"
   ]
  },
  {
   "cell_type": "code",
   "execution_count": 1,
   "metadata": {},
   "outputs": [
    {
     "ename": "NameError",
     "evalue": "name 'daily_sales' is not defined",
     "output_type": "error",
     "traceback": [
      "\u001b[1;31m---------------------------------------------------------------------------\u001b[0m",
      "\u001b[1;31mNameError\u001b[0m                                 Traceback (most recent call last)",
      "Input \u001b[1;32mIn [1]\u001b[0m, in \u001b[0;36m<cell line: 2>\u001b[1;34m()\u001b[0m\n\u001b[0;32m      1\u001b[0m \u001b[38;5;66;03m# fixed:\u001b[39;00m\n\u001b[1;32m----> 2\u001b[0m weekly_sales[\u001b[38;5;124m\"\u001b[39m\u001b[38;5;124mTotal $\u001b[39m\u001b[38;5;124m\"\u001b[39m] \u001b[38;5;241m=\u001b[39m \u001b[43mdaily_sales\u001b[49m\u001b[38;5;241m.\u001b[39mT\n\u001b[0;32m      3\u001b[0m weekly_sales\n",
      "\u001b[1;31mNameError\u001b[0m: name 'daily_sales' is not defined"
     ]
    }
   ],
   "source": [
    "# fixed:\n",
    "weekly_sales[\"Total $\"] = daily_sales.T\n",
    "weekly_sales"
   ]
  },
  {
   "cell_type": "code",
   "execution_count": 11,
   "metadata": {},
   "outputs": [
    {
     "data": {
      "text/plain": [
       "array([[1. , 2.2, 3.6],\n",
       "       [4.5, 6.5, 7.8]])"
      ]
     },
     "execution_count": 11,
     "metadata": {},
     "output_type": "execute_result"
    }
   ],
   "source": [
    "a1 = np.array([1,2,3])\n",
    "a1\n",
    "a2 = np.array([[1,2.2,3.6],\n",
    "             [4.5,6.5,7.8]])\n",
    "a2"
   ]
  },
  {
   "cell_type": "markdown",
   "metadata": {},
   "source": [
    "## Operators"
   ]
  },
  {
   "cell_type": "code",
   "execution_count": 16,
   "metadata": {},
   "outputs": [
    {
     "data": {
      "text/plain": [
       "array([[ True,  True,  True],\n",
       "       [ True,  True,  True]])"
      ]
     },
     "execution_count": 16,
     "metadata": {},
     "output_type": "execute_result"
    }
   ],
   "source": [
    "a1 > a2\n",
    "a1 >= a2\n",
    "a2 >= a1"
   ]
  },
  {
   "cell_type": "markdown",
   "metadata": {},
   "source": [
    "### basicamente los mismos que en Python:  \n",
    "***https://numpy.org/doc/stable/reference/routines.logic.html***"
   ]
  },
  {
   "cell_type": "code",
   "execution_count": 20,
   "metadata": {},
   "outputs": [
    {
     "name": "stdout",
     "output_type": "stream",
     "text": [
      "1\n",
      "2\n",
      "3\n",
      "4\n",
      "5\n",
      "6\n"
     ]
    }
   ],
   "source": [
    "sort_array = np.array([1,2,3,4,5,6])\n",
    "\n",
    "for s in sort_array:\n",
    "    print(s)"
   ]
  },
  {
   "cell_type": "markdown",
   "metadata": {},
   "source": [
    "## sorting Array in **Numpy**"
   ]
  },
  {
   "cell_type": "code",
   "execution_count": 25,
   "metadata": {},
   "outputs": [
    {
     "data": {
      "text/plain": [
       "array([[ 8,  2,  7,  8,  6],\n",
       "       [10,  0,  2,  1,  9],\n",
       "       [ 4,  5,  0,  9,  2]])"
      ]
     },
     "execution_count": 25,
     "metadata": {},
     "output_type": "execute_result"
    }
   ],
   "source": [
    "random_arr = np.random.randint(11, size=(3,5))\n",
    "random_arr"
   ]
  },
  {
   "cell_type": "code",
   "execution_count": 29,
   "metadata": {},
   "outputs": [
    {
     "data": {
      "text/plain": [
       "array([[ 2,  6,  7,  8,  8],\n",
       "       [ 0,  1,  2,  9, 10],\n",
       "       [ 0,  2,  4,  5,  9]])"
      ]
     },
     "execution_count": 29,
     "metadata": {},
     "output_type": "execute_result"
    }
   ],
   "source": [
    "n1 = np.sort(random_arr)\n",
    "n1"
   ]
  },
  {
   "cell_type": "code",
   "execution_count": 31,
   "metadata": {},
   "outputs": [
    {
     "data": {
      "text/plain": [
       "array([[0, 1, 2, 3, 4],\n",
       "       [0, 1, 2, 3, 4],\n",
       "       [0, 1, 2, 3, 4]], dtype=int64)"
      ]
     },
     "execution_count": 31,
     "metadata": {},
     "output_type": "execute_result"
    }
   ],
   "source": [
    "# por index\n",
    "\n",
    "n2 = np.argsort(random_arr)\n",
    "n2"
   ]
  },
  {
   "cell_type": "code",
   "execution_count": 35,
   "metadata": {},
   "outputs": [
    {
     "data": {
      "text/plain": [
       "5"
      ]
     },
     "execution_count": 35,
     "metadata": {},
     "output_type": "execute_result"
    }
   ],
   "source": [
    "# min index\n",
    "n2 = np.array([1,2,3,4,5,6])\n",
    "np.argmin(n2)\n",
    "\n",
    "#  index max\n",
    "np.argmax(n2)"
   ]
  },
  {
   "cell_type": "code",
   "execution_count": 41,
   "metadata": {},
   "outputs": [
    {
     "name": "stdout",
     "output_type": "stream",
     "text": [
      "[[ 2  6  7  8  8]\n",
      " [ 0  1  2  9 10]\n",
      " [ 0  2  4  5  9]]\n",
      "------------------------------\n",
      "[0 0 0 1 1]\n"
     ]
    }
   ],
   "source": [
    "# con matrices de mas dimensiones ese mas complejo, ojo con esto:\n",
    "\n",
    "# en axis=0 nos devuelve el maximo pero por columnas, es decir:\n",
    "print(random_arr)\n",
    "print(\"------------------------------\")\n",
    "print(np.argmax(random_arr, axis=0))\n"
   ]
  },
  {
   "cell_type": "code",
   "execution_count": 44,
   "metadata": {},
   "outputs": [
    {
     "name": "stdout",
     "output_type": "stream",
     "text": [
      "[[ 2  6  7  8  8]\n",
      " [ 0  1  2  9 10]\n",
      " [ 0  2  4  5  9]]\n",
      "------------------------------\n",
      "[3 4 4]\n"
     ]
    }
   ],
   "source": [
    "# mientras que xon axis=1, nos devuelve los mayores, pero por filas:\n",
    "print(random_arr)\n",
    "print(\"------------------------------\")\n",
    "print(np.argmax(random_arr, axis=1))"
   ]
  },
  {
   "cell_type": "markdown",
   "metadata": {},
   "source": [
    "### complejo y demas, pero *hermoso!*"
   ]
  },
  {
   "cell_type": "markdown",
   "metadata": {},
   "source": [
    "# Turn images into **NumPy Array**, ***NumPy in action!***"
   ]
  },
  {
   "cell_type": "markdown",
   "metadata": {},
   "source": [
    "<img src=\"./panda.png\"/>"
   ]
  },
  {
   "cell_type": "code",
   "execution_count": null,
   "metadata": {},
   "outputs": [],
   "source": []
  }
 ],
 "metadata": {
  "kernelspec": {
   "display_name": "Python 3 (ipykernel)",
   "language": "python",
   "name": "python3"
  },
  "language_info": {
   "codemirror_mode": {
    "name": "ipython",
    "version": 3
   },
   "file_extension": ".py",
   "mimetype": "text/x-python",
   "name": "python",
   "nbconvert_exporter": "python",
   "pygments_lexer": "ipython3",
   "version": "3.10.4"
  },
  "vscode": {
   "interpreter": {
    "hash": "bb0fd8a0edc3c8c6660352765b9729d9acc2f4d6b9fc0d167722e48788ead5c3"
   }
  }
 },
 "nbformat": 4,
 "nbformat_minor": 2
}

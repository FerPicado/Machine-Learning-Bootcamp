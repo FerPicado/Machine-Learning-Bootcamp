{
 "cells": [
  {
   "cell_type": "code",
   "execution_count": 2,
   "id": "227fe79f",
   "metadata": {},
   "outputs": [],
   "source": [
    "import numpy as np\n",
    "import pandas as pd"
   ]
  },
  {
   "cell_type": "code",
   "execution_count": 17,
   "id": "3ff4ce65",
   "metadata": {},
   "outputs": [
    {
     "data": {
      "text/plain": [
       "array([[12, 15, 21,  0],\n",
       "       [ 3, 27,  3,  7],\n",
       "       [ 9, 19, 21, 18],\n",
       "       [ 4, 23,  6, 24],\n",
       "       [24, 12, 26,  1]])"
      ]
     },
     "execution_count": 17,
     "metadata": {},
     "output_type": "execute_result"
    }
   ],
   "source": [
    "np.random.seed(0)\n",
    "prod_sales = np.random.randint(30, size=(5,4))\n",
    "prod_sales.shape\n",
    "prod_sales"
   ]
  },
  {
   "cell_type": "code",
   "execution_count": 13,
   "id": "d504b95c",
   "metadata": {},
   "outputs": [
    {
     "data": {
      "text/plain": [
       "(4,)"
      ]
     },
     "execution_count": 13,
     "metadata": {},
     "output_type": "execute_result"
    }
   ],
   "source": [
    "prod_prices = np.array([2300,3200,1400,2500])\n",
    "prod_prices.shape"
   ]
  },
  {
   "cell_type": "code",
   "execution_count": 24,
   "id": "60df9b7c",
   "metadata": {},
   "outputs": [
    {
     "data": {
      "text/html": [
       "<div>\n",
       "<style scoped>\n",
       "    .dataframe tbody tr th:only-of-type {\n",
       "        vertical-align: middle;\n",
       "    }\n",
       "\n",
       "    .dataframe tbody tr th {\n",
       "        vertical-align: top;\n",
       "    }\n",
       "\n",
       "    .dataframe thead th {\n",
       "        text-align: right;\n",
       "    }\n",
       "</style>\n",
       "<table border=\"1\" class=\"dataframe\">\n",
       "  <thead>\n",
       "    <tr style=\"text-align: right;\">\n",
       "      <th></th>\n",
       "      <th>Holland Cheesse</th>\n",
       "      <th>Dutch Cheesse</th>\n",
       "      <th>Costa Rican Cheesse</th>\n",
       "      <th>Norsk Cheesse</th>\n",
       "    </tr>\n",
       "  </thead>\n",
       "  <tbody>\n",
       "    <tr>\n",
       "      <th>M</th>\n",
       "      <td>12</td>\n",
       "      <td>15</td>\n",
       "      <td>21</td>\n",
       "      <td>0</td>\n",
       "    </tr>\n",
       "    <tr>\n",
       "      <th>T</th>\n",
       "      <td>3</td>\n",
       "      <td>27</td>\n",
       "      <td>3</td>\n",
       "      <td>7</td>\n",
       "    </tr>\n",
       "    <tr>\n",
       "      <th>W</th>\n",
       "      <td>9</td>\n",
       "      <td>19</td>\n",
       "      <td>21</td>\n",
       "      <td>18</td>\n",
       "    </tr>\n",
       "    <tr>\n",
       "      <th>T</th>\n",
       "      <td>4</td>\n",
       "      <td>23</td>\n",
       "      <td>6</td>\n",
       "      <td>24</td>\n",
       "    </tr>\n",
       "    <tr>\n",
       "      <th>F</th>\n",
       "      <td>24</td>\n",
       "      <td>12</td>\n",
       "      <td>26</td>\n",
       "      <td>1</td>\n",
       "    </tr>\n",
       "  </tbody>\n",
       "</table>\n",
       "</div>"
      ],
      "text/plain": [
       "   Holland Cheesse  Dutch Cheesse  Costa Rican Cheesse  Norsk Cheesse\n",
       "M               12             15                   21              0\n",
       "T                3             27                    3              7\n",
       "W                9             19                   21             18\n",
       "T                4             23                    6             24\n",
       "F               24             12                   26              1"
      ]
     },
     "execution_count": 24,
     "metadata": {},
     "output_type": "execute_result"
    }
   ],
   "source": [
    "# creacion de dataframes\n",
    "weekly_sales = pd.DataFrame(prod_sales,\n",
    "                            index=[\"M\",\"T\",\"W\",\"T\",\"F\"],\n",
    "                           columns=[\"Holland Cheesse\",\"Dutch Cheesse\",\"Costa Rican Cheesse\",\"Norsk Cheesse\"])\n",
    "weekly_sales"
   ]
  },
  {
   "cell_type": "code",
   "execution_count": 25,
   "id": "f7d45f9c",
   "metadata": {},
   "outputs": [
    {
     "data": {
      "text/html": [
       "<div>\n",
       "<style scoped>\n",
       "    .dataframe tbody tr th:only-of-type {\n",
       "        vertical-align: middle;\n",
       "    }\n",
       "\n",
       "    .dataframe tbody tr th {\n",
       "        vertical-align: top;\n",
       "    }\n",
       "\n",
       "    .dataframe thead th {\n",
       "        text-align: right;\n",
       "    }\n",
       "</style>\n",
       "<table border=\"1\" class=\"dataframe\">\n",
       "  <thead>\n",
       "    <tr style=\"text-align: right;\">\n",
       "      <th></th>\n",
       "      <th>Holland Cheesse</th>\n",
       "      <th>Dutch Cheesse</th>\n",
       "      <th>Costa Rican Cheesse</th>\n",
       "      <th>Norsk Cheesse</th>\n",
       "    </tr>\n",
       "  </thead>\n",
       "  <tbody>\n",
       "    <tr>\n",
       "      <th>Cheesse prices</th>\n",
       "      <td>2300</td>\n",
       "      <td>3200</td>\n",
       "      <td>1400</td>\n",
       "      <td>2500</td>\n",
       "    </tr>\n",
       "  </tbody>\n",
       "</table>\n",
       "</div>"
      ],
      "text/plain": [
       "                Holland Cheesse  Dutch Cheesse  Costa Rican Cheesse  \\\n",
       "Cheesse prices             2300           3200                 1400   \n",
       "\n",
       "                Norsk Cheesse  \n",
       "Cheesse prices           2500  "
      ]
     },
     "execution_count": 25,
     "metadata": {},
     "output_type": "execute_result"
    }
   ],
   "source": [
    "chesse_prices = pd.DataFrame(prod_prices.reshape(1,4),\n",
    "                            index=[\"Cheesse prices\"],\n",
    "                            columns=[\"Holland Cheesse\",\"Dutch Cheesse\",\"Costa Rican Cheesse\",\"Norsk Cheesse\"])\n",
    "chesse_prices"
   ]
  },
  {
   "cell_type": "code",
   "execution_count": 30,
   "id": "7d3c5bd4",
   "metadata": {},
   "outputs": [
    {
     "name": "stdout",
     "output_type": "stream",
     "text": [
      "   Holland Cheesse  Dutch Cheesse  Costa Rican Cheesse  Norsk Cheesse\n",
      "M               12             15                   21              0\n",
      "T                3             27                    3              7\n",
      "W                9             19                   21             18\n",
      "T                4             23                    6             24\n",
      "F               24             12                   26              1\n",
      "------------------------------------\n",
      "                Holland Cheesse  Dutch Cheesse  Costa Rican Cheesse  \\\n",
      "Cheesse prices             2300           3200                 1400   \n",
      "\n",
      "                Norsk Cheesse  \n",
      "Cheesse prices           2500  \n"
     ]
    }
   ],
   "source": [
    "# ver ambas:\n",
    "print(weekly_sales)\n",
    "print(\"------------------------------------\")\n",
    "print(chesse_prices)"
   ]
  },
  {
   "cell_type": "code",
   "execution_count": 36,
   "id": "676580e6",
   "metadata": {},
   "outputs": [
    {
     "data": {
      "text/plain": [
       "array([105000, 115000, 155900, 151200, 132500])"
      ]
     },
     "execution_count": 36,
     "metadata": {},
     "output_type": "execute_result"
    }
   ],
   "source": [
    "# total\n",
    "total = prod_prices.dot(prod_sales.T)\n",
    "total"
   ]
  },
  {
   "cell_type": "code",
   "execution_count": 42,
   "id": "69af0fd4",
   "metadata": {},
   "outputs": [
    {
     "data": {
      "text/plain": [
       "((1, 4), (5, 4))"
      ]
     },
     "execution_count": 42,
     "metadata": {},
     "output_type": "execute_result"
    }
   ],
   "source": [
    "# daily sales\n",
    "chesse_prices.shape, weekly_sales.shape\n",
    "\n"
   ]
  },
  {
   "cell_type": "code",
   "execution_count": 45,
   "id": "94fca6d8",
   "metadata": {},
   "outputs": [
    {
     "data": {
      "text/html": [
       "<div>\n",
       "<style scoped>\n",
       "    .dataframe tbody tr th:only-of-type {\n",
       "        vertical-align: middle;\n",
       "    }\n",
       "\n",
       "    .dataframe tbody tr th {\n",
       "        vertical-align: top;\n",
       "    }\n",
       "\n",
       "    .dataframe thead th {\n",
       "        text-align: right;\n",
       "    }\n",
       "</style>\n",
       "<table border=\"1\" class=\"dataframe\">\n",
       "  <thead>\n",
       "    <tr style=\"text-align: right;\">\n",
       "      <th></th>\n",
       "      <th>M</th>\n",
       "      <th>T</th>\n",
       "      <th>W</th>\n",
       "      <th>T</th>\n",
       "      <th>F</th>\n",
       "    </tr>\n",
       "  </thead>\n",
       "  <tbody>\n",
       "    <tr>\n",
       "      <th>Cheesse prices</th>\n",
       "      <td>105000</td>\n",
       "      <td>115000</td>\n",
       "      <td>155900</td>\n",
       "      <td>151200</td>\n",
       "      <td>132500</td>\n",
       "    </tr>\n",
       "  </tbody>\n",
       "</table>\n",
       "</div>"
      ],
      "text/plain": [
       "                     M       T       W       T       F\n",
       "Cheesse prices  105000  115000  155900  151200  132500"
      ]
     },
     "execution_count": 45,
     "metadata": {},
     "output_type": "execute_result"
    }
   ],
   "source": [
    "daily_total = chesse_prices.dot(weekly_sales.T)\n",
    "daily_total"
   ]
  },
  {
   "cell_type": "code",
   "execution_count": 47,
   "id": "e24b1f9d",
   "metadata": {},
   "outputs": [
    {
     "data": {
      "text/html": [
       "<div>\n",
       "<style scoped>\n",
       "    .dataframe tbody tr th:only-of-type {\n",
       "        vertical-align: middle;\n",
       "    }\n",
       "\n",
       "    .dataframe tbody tr th {\n",
       "        vertical-align: top;\n",
       "    }\n",
       "\n",
       "    .dataframe thead th {\n",
       "        text-align: right;\n",
       "    }\n",
       "</style>\n",
       "<table border=\"1\" class=\"dataframe\">\n",
       "  <thead>\n",
       "    <tr style=\"text-align: right;\">\n",
       "      <th></th>\n",
       "      <th>Holland Cheesse</th>\n",
       "      <th>Dutch Cheesse</th>\n",
       "      <th>Costa Rican Cheesse</th>\n",
       "      <th>Norsk Cheesse</th>\n",
       "    </tr>\n",
       "  </thead>\n",
       "  <tbody>\n",
       "    <tr>\n",
       "      <th>M</th>\n",
       "      <td>12</td>\n",
       "      <td>15</td>\n",
       "      <td>21</td>\n",
       "      <td>0</td>\n",
       "    </tr>\n",
       "    <tr>\n",
       "      <th>T</th>\n",
       "      <td>3</td>\n",
       "      <td>27</td>\n",
       "      <td>3</td>\n",
       "      <td>7</td>\n",
       "    </tr>\n",
       "    <tr>\n",
       "      <th>W</th>\n",
       "      <td>9</td>\n",
       "      <td>19</td>\n",
       "      <td>21</td>\n",
       "      <td>18</td>\n",
       "    </tr>\n",
       "    <tr>\n",
       "      <th>T</th>\n",
       "      <td>4</td>\n",
       "      <td>23</td>\n",
       "      <td>6</td>\n",
       "      <td>24</td>\n",
       "    </tr>\n",
       "    <tr>\n",
       "      <th>F</th>\n",
       "      <td>24</td>\n",
       "      <td>12</td>\n",
       "      <td>26</td>\n",
       "      <td>1</td>\n",
       "    </tr>\n",
       "  </tbody>\n",
       "</table>\n",
       "</div>"
      ],
      "text/plain": [
       "   Holland Cheesse  Dutch Cheesse  Costa Rican Cheesse  Norsk Cheesse\n",
       "M               12             15                   21              0\n",
       "T                3             27                    3              7\n",
       "W                9             19                   21             18\n",
       "T                4             23                    6             24\n",
       "F               24             12                   26              1"
      ]
     },
     "execution_count": 47,
     "metadata": {},
     "output_type": "execute_result"
    }
   ],
   "source": [
    "weekly_sales"
   ]
  },
  {
   "cell_type": "code",
   "execution_count": 50,
   "id": "d8e058b2",
   "metadata": {},
   "outputs": [
    {
     "data": {
      "text/html": [
       "<div>\n",
       "<style scoped>\n",
       "    .dataframe tbody tr th:only-of-type {\n",
       "        vertical-align: middle;\n",
       "    }\n",
       "\n",
       "    .dataframe tbody tr th {\n",
       "        vertical-align: top;\n",
       "    }\n",
       "\n",
       "    .dataframe thead th {\n",
       "        text-align: right;\n",
       "    }\n",
       "</style>\n",
       "<table border=\"1\" class=\"dataframe\">\n",
       "  <thead>\n",
       "    <tr style=\"text-align: right;\">\n",
       "      <th></th>\n",
       "      <th>Holland Cheesse</th>\n",
       "      <th>Dutch Cheesse</th>\n",
       "      <th>Costa Rican Cheesse</th>\n",
       "      <th>Norsk Cheesse</th>\n",
       "      <th>Total $</th>\n",
       "    </tr>\n",
       "  </thead>\n",
       "  <tbody>\n",
       "    <tr>\n",
       "      <th>M</th>\n",
       "      <td>12</td>\n",
       "      <td>15</td>\n",
       "      <td>21</td>\n",
       "      <td>0</td>\n",
       "      <td>105000</td>\n",
       "    </tr>\n",
       "    <tr>\n",
       "      <th>T</th>\n",
       "      <td>3</td>\n",
       "      <td>27</td>\n",
       "      <td>3</td>\n",
       "      <td>7</td>\n",
       "      <td>115000</td>\n",
       "    </tr>\n",
       "    <tr>\n",
       "      <th>W</th>\n",
       "      <td>9</td>\n",
       "      <td>19</td>\n",
       "      <td>21</td>\n",
       "      <td>18</td>\n",
       "      <td>155900</td>\n",
       "    </tr>\n",
       "    <tr>\n",
       "      <th>T</th>\n",
       "      <td>4</td>\n",
       "      <td>23</td>\n",
       "      <td>6</td>\n",
       "      <td>24</td>\n",
       "      <td>151200</td>\n",
       "    </tr>\n",
       "    <tr>\n",
       "      <th>F</th>\n",
       "      <td>24</td>\n",
       "      <td>12</td>\n",
       "      <td>26</td>\n",
       "      <td>1</td>\n",
       "      <td>132500</td>\n",
       "    </tr>\n",
       "  </tbody>\n",
       "</table>\n",
       "</div>"
      ],
      "text/plain": [
       "   Holland Cheesse  Dutch Cheesse  Costa Rican Cheesse  Norsk Cheesse  Total $\n",
       "M               12             15                   21              0   105000\n",
       "T                3             27                    3              7   115000\n",
       "W                9             19                   21             18   155900\n",
       "T                4             23                    6             24   151200\n",
       "F               24             12                   26              1   132500"
      ]
     },
     "execution_count": 50,
     "metadata": {},
     "output_type": "execute_result"
    }
   ],
   "source": [
    "weekly_sales[\"Total $\"] = daily_total.T\n",
    "weekly_sales\n"
   ]
  }
 ],
 "metadata": {
  "kernelspec": {
   "display_name": "Python 3 (ipykernel)",
   "language": "python",
   "name": "python3"
  },
  "language_info": {
   "codemirror_mode": {
    "name": "ipython",
    "version": 3
   },
   "file_extension": ".py",
   "mimetype": "text/x-python",
   "name": "python",
   "nbconvert_exporter": "python",
   "pygments_lexer": "ipython3",
   "version": "3.10.4"
  }
 },
 "nbformat": 4,
 "nbformat_minor": 5
}
